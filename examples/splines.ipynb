{
 "cells": [
  {
   "cell_type": "markdown",
   "id": "20e3cac1",
   "metadata": {},
   "source": [
    "Interactive AADC Spline Visualization (Static Version)\n",
    "\n",
    "This notebook demonstrates visualization of cubic spline interpolation using AADC (Algorithmic Automatic Differentiation for C++).\n",
    "Originally interactive, this version shows static plots of:\n",
    "\n",
    "1. Different knot point configurations\n",
    "2. Various function shapes\n",
    "3. Different evaluation points\n",
    "4. Sensitivities to parameters"
   ]
  },
  {
   "cell_type": "code",
   "execution_count": null,
   "id": "6279b877",
   "metadata": {},
   "outputs": [],
   "source": [
    "# Setup and Imports\n",
    "import matplotlib.pyplot as plt\n",
    "import numpy as np\n",
    "from matplotlib.gridspec import GridSpec\n",
    "from scipy.interpolate import CubicSpline as ScipySpline"
   ]
  },
  {
   "cell_type": "code",
   "execution_count": null,
   "id": "1eea9a72",
   "metadata": {
    "lines_to_next_cell": 1
   },
   "outputs": [],
   "source": [
    "import aadc\n",
    "from aadc.scipy.interpolate import CubicSpline"
   ]
  },
  {
   "cell_type": "code",
   "execution_count": null,
   "id": "18a9a062",
   "metadata": {
    "lines_to_next_cell": 1
   },
   "outputs": [],
   "source": [
    "# Define the AADC spline functions\n",
    "def create_spline_kernel(x_values, y_values, x0_value, bc_type=\"not-a-knot\"):\n",
    "    with aadc.record_kernel() as kernel:\n",
    "        # Convert inputs to AADC arrays\n",
    "        x_active = aadc.array(x_values)\n",
    "        x_arg = x_active.mark_as_input()\n",
    "\n",
    "        y_active = aadc.array(y_values)\n",
    "        y_arg = y_active.mark_as_input()\n",
    "\n",
    "        # Create spline\n",
    "        spline = CubicSpline(x_active, y_active, bc_type=bc_type)\n",
    "\n",
    "        # Evaluation point\n",
    "        x0 = aadc.idouble(x0_value)\n",
    "        x0_arg = x0.mark_as_input()\n",
    "\n",
    "        # Evaluate spline\n",
    "        f = spline(x0)\n",
    "        f_arg = f.mark_as_output()\n",
    "\n",
    "    return kernel, x_arg, y_arg, x0_arg, f_arg"
   ]
  },
  {
   "cell_type": "code",
   "execution_count": null,
   "id": "70f89910",
   "metadata": {
    "lines_to_next_cell": 1
   },
   "outputs": [],
   "source": [
    "def evaluate_spline(kernel, x_values, y_values, x0_value, x_arg, y_arg, x0_arg, f_arg):\n",
    "    # Prepare inputs\n",
    "    inputs = {}\n",
    "    inputs[x0_arg] = x0_value\n",
    "\n",
    "    for i, val in enumerate(x_values):\n",
    "        inputs[x_arg[i]] = val\n",
    "\n",
    "    for i, val in enumerate(y_values):\n",
    "        inputs[y_arg[i]] = val\n",
    "\n",
    "    # Evaluate kernel\n",
    "    request = {f_arg: list(x_arg) + list(y_arg) + [x0_arg]}\n",
    "    result = aadc.evaluate(kernel, request, inputs)\n",
    "\n",
    "    # Extract results and convert to proper format\n",
    "    value = result[0][f_arg]\n",
    "    # Handle scalar or array differently\n",
    "    if isinstance(value, np.ndarray) and value.size == 1:\n",
    "        value = value.item()  # Extract the scalar value from a size-1 array\n",
    "\n",
    "    d_dx0 = result[1][f_arg][x0_arg]\n",
    "    if isinstance(d_dx0, np.ndarray) and d_dx0.size == 1:\n",
    "        d_dx0 = d_dx0.item()\n",
    "\n",
    "    # Extract derivatives as lists\n",
    "    d_dx = []\n",
    "    for x_i in x_arg:\n",
    "        deriv = result[1][f_arg][x_i]\n",
    "        if isinstance(deriv, np.ndarray) and deriv.size == 1:\n",
    "            d_dx.append(deriv.item())\n",
    "        else:\n",
    "            d_dx.append(deriv)\n",
    "\n",
    "    d_dy = []\n",
    "    for y_i in y_arg:\n",
    "        deriv = result[1][f_arg][y_i]\n",
    "        if isinstance(deriv, np.ndarray) and deriv.size == 1:\n",
    "            d_dy.append(deriv.item())\n",
    "        else:\n",
    "            d_dy.append(deriv)\n",
    "\n",
    "    return value, d_dx0, d_dx, d_dy"
   ]
  },
  {
   "cell_type": "code",
   "execution_count": null,
   "id": "9b147823",
   "metadata": {
    "lines_to_next_cell": 1
   },
   "outputs": [],
   "source": [
    "# Function to create visualization\n",
    "def create_spline_plot(x_values, y_values, x0_value, bc_type=\"not-a-knot\", title=None):\n",
    "    # Create kernel\n",
    "    kernel, x_arg, y_arg, x0_arg, f_arg = create_spline_kernel(x_values, y_values, x0_value, bc_type)\n",
    "    \n",
    "    # Evaluate the spline at x0\n",
    "    value, d_dx0, d_dx, d_dy = evaluate_spline(kernel, x_values, y_values, x0_value, x_arg, y_arg, x0_arg, f_arg)\n",
    "\n",
    "    # Create a fine grid for plotting the spline\n",
    "    x_fine = np.linspace(min(x_values) - 0.5, max(x_values) + 0.5, 200)\n",
    "\n",
    "    # Use SciPy for visualization (faster than evaluating AADC at each point)\n",
    "    scipy_spline = ScipySpline(x_values, y_values, bc_type=bc_type)\n",
    "    y_fine = scipy_spline(x_fine)\n",
    "\n",
    "    # Set up the figure with GridSpec for better layout\n",
    "    fig = plt.figure(figsize=(14, 10))\n",
    "    gs = GridSpec(2, 2, height_ratios=[2, 1])\n",
    "\n",
    "    # Main plot - spline curve and points\n",
    "    ax1 = plt.subplot(gs[0, :])\n",
    "    ax1.plot(x_fine, y_fine, 'b-', label='Cubic Spline')\n",
    "    ax1.plot(x_values, y_values, 'ro', markersize=8, label='Knot Points')\n",
    "    ax1.axvline(x=x0_value, color='g', linestyle='--', label='Evaluation Point')\n",
    "    ax1.axhline(y=value, color='g', linestyle='--')\n",
    "    ax1.plot(x0_value, value, 'g*', markersize=10, label=f'Spline(x0) = {value:.4f}')\n",
    "\n",
    "    # Add derivative visualization as a tangent line\n",
    "    tangent_width = 1.0\n",
    "    x_tangent = np.array([x0_value - tangent_width/2, x0_value + tangent_width/2])\n",
    "    y_tangent = value + d_dx0 * (x_tangent - x0_value)\n",
    "    ax1.plot(x_tangent, y_tangent, 'g-', linewidth=2, label=f'Derivative at x0: {d_dx0:.4f}')\n",
    "\n",
    "    ax1.set_xlabel('x')\n",
    "    ax1.set_ylabel('y')\n",
    "    if title:\n",
    "        ax1.set_title(f'Cubic Spline Interpolation: {title}')\n",
    "    else:\n",
    "        ax1.set_title('Cubic Spline Interpolation')\n",
    "    ax1.legend()\n",
    "    ax1.grid(True)\n",
    "\n",
    "    # Lower left - sensitivity to x\n",
    "    ax2 = plt.subplot(gs[1, 0])\n",
    "    ax2.bar(range(len(x_values)), d_dx, color='purple')\n",
    "    ax2.set_xlabel('Knot Point Index')\n",
    "    ax2.set_ylabel('Sensitivity ∂f/∂x')\n",
    "    ax2.set_title('Sensitivity to X Values')\n",
    "    ax2.set_xticks(range(len(x_values)))\n",
    "    ax2.grid(True, axis='y')\n",
    "\n",
    "    # Lower right - sensitivity to y\n",
    "    ax3 = plt.subplot(gs[1, 1])\n",
    "    ax3.bar(range(len(y_values)), d_dy, color='orange')\n",
    "    ax3.set_xlabel('Knot Point Index')\n",
    "    ax3.set_ylabel('Sensitivity ∂f/∂y')\n",
    "    ax3.set_title('Sensitivity to Y Values')\n",
    "    ax3.set_xticks(range(len(y_values)))\n",
    "    ax3.grid(True, axis='y')\n",
    "\n",
    "    plt.tight_layout()\n",
    "    return fig"
   ]
  },
  {
   "cell_type": "markdown",
   "id": "11b5ba4f",
   "metadata": {},
   "source": [
    "Create a series of static plots demonstrating different aspects"
   ]
  },
  {
   "cell_type": "code",
   "execution_count": null,
   "id": "c326bd63",
   "metadata": {},
   "outputs": [],
   "source": [
    "# 1. Basic example with sin(x)\n",
    "num_points = 5\n",
    "x_default = np.linspace(0, 10, num_points)\n",
    "y_default = np.sin(x_default)\n",
    "x0_default = 6.5"
   ]
  },
  {
   "cell_type": "code",
   "execution_count": null,
   "id": "f236b689",
   "metadata": {},
   "outputs": [],
   "source": [
    "fig1 = create_spline_plot(x_default, y_default, x0_default, bc_type=\"not-a-knot\", \n",
    "                          title=\"Sin(x) Function with Not-a-knot Boundary Condition\")\n",
    "plt.show()"
   ]
  },
  {
   "cell_type": "code",
   "execution_count": null,
   "id": "9a5f0d48",
   "metadata": {},
   "outputs": [],
   "source": [
    "# 2. Different boundary conditions\n",
    "bc_types = [\"natural\", \"clamped\", \"not-a-knot\"]\n",
    "for bc_type in bc_types:\n",
    "    fig = create_spline_plot(x_default, y_default, x0_default, bc_type=bc_type,\n",
    "                             title=f\"Sin(x) with {bc_type} Boundary Condition\")\n",
    "    plt.show()"
   ]
  },
  {
   "cell_type": "code",
   "execution_count": null,
   "id": "1ba010fe",
   "metadata": {},
   "outputs": [],
   "source": [
    "# 3. Different function types\n",
    "# Quadratic\n",
    "y_quadratic = x_default**2\n",
    "fig3 = create_spline_plot(x_default, y_quadratic, x0_default, title=\"Quadratic Function\")\n",
    "plt.show()"
   ]
  },
  {
   "cell_type": "code",
   "execution_count": null,
   "id": "5ac701f0",
   "metadata": {
    "lines_to_next_cell": 2
   },
   "outputs": [],
   "source": [
    "# Exponential\n",
    "y_exponential = np.exp(x_default/5)\n",
    "fig4 = create_spline_plot(x_default, y_exponential, x0_default, title=\"Exponential Function\")\n",
    "plt.show()"
   ]
  }
 ],
 "metadata": {
  "jupytext": {
   "cell_metadata_filter": "-all",
   "main_language": "python",
   "notebook_metadata_filter": "-all"
  }
 },
 "nbformat": 4,
 "nbformat_minor": 5
}
