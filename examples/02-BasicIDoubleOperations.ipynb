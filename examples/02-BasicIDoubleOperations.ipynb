{
 "cells": [
  {
   "cell_type": "code",
   "execution_count": 1,
   "id": "0179c475-02f9-4c72-ae68-361f04a643e5",
   "metadata": {},
   "outputs": [
    {
     "name": "stdout",
     "output_type": "stream",
     "text": [
      "bind_swig2pybind_linearalgebra_i\n",
      "Adding extend interface from SWIG to Pybind11 for class FixedLocalVolSurface\n",
      "Adding extend interface from SWIG to Pybind11 for class GridModelLocalVolSurface\n"
     ]
    }
   ],
   "source": [
    "# Load aadc library\n",
    "\n",
    "import aadc\n",
    "import numpy as np"
   ]
  },
  {
   "cell_type": "code",
   "execution_count": 2,
   "id": "ffdaf51d-96ae-4911-b2b9-ac1e0861dbc5",
   "metadata": {},
   "outputs": [
    {
     "name": "stdout",
     "output_type": "stream",
     "text": [
      "<class 'list'>\n"
     ]
    }
   ],
   "source": [
    "# Regular python lists\n",
    "Dates = [1, 2, 3, 4, 5, 6, 7, 8, 9, 10]\n",
    "Rates = [0.01, 0.02, 0.03, 0.04, 0.05, 0.06, 0.07, 0.08, 0.09, 0.1]\n",
    "print(type(Rates))"
   ]
  },
  {
   "cell_type": "code",
   "execution_count": 3,
   "id": "bb6a40a3-9ca1-4ced-977d-13a3843c32b8",
   "metadata": {},
   "outputs": [
    {
     "name": "stdout",
     "output_type": "stream",
     "text": [
      "<class 'list'>\n"
     ]
    }
   ],
   "source": [
    "# Python list with mixed type elements\n",
    "iRates = [0.01, 0.02, 0.03, 0.04, 0.05, 0.06, 0.07, 0.08, aadc.idouble(0.09), aadc.idouble(0.1)]\n",
    "print(type(iRates))"
   ]
  },
  {
   "cell_type": "code",
   "execution_count": 4,
   "id": "928a1285-f4d8-4a44-a97e-39fb96cab556",
   "metadata": {},
   "outputs": [],
   "source": [
    "# Python list with all elements of type aadc.idouble\n",
    "iiRates = [aadc.idouble(0.01), aadc.idouble(0.02), aadc.idouble(0.03), aadc.idouble(0.04), aadc.idouble(0.05), aadc.idouble(0.06), aadc.idouble(0.07), aadc.idouble(0.08), aadc.idouble(0.09), aadc.idouble(0.1)]"
   ]
  },
  {
   "cell_type": "code",
   "execution_count": 5,
   "id": "2a7cbd13-99b5-484a-b1e9-307981a00910",
   "metadata": {},
   "outputs": [
    {
     "name": "stdout",
     "output_type": "stream",
     "text": [
      "-2.407945608651872\n"
     ]
    }
   ],
   "source": [
    "# Numpy arrays type\n",
    "nRates = np.ones(10)\n",
    "print(np.log(iRates[8]))"
   ]
  },
  {
   "cell_type": "markdown",
   "id": "49d56156",
   "metadata": {},
   "source": [
    "# Here MyDemoCurve is defined on C++ side as follows:\n",
    "class MyDemoCurve {\n",
    "public:\n",
    "    MyDemoCurve(const std::vector<idouble> &d, const std::vector<idouble> &r) : d_(d), r_(r) {\n",
    "     PYAADC_DEBUG std::cout << \"Constructing MyCurve\\n\";\n",
    "\n",
    "    }\n",
    "    idouble operator()(const idouble& x) const {\n",
    "        return x * (r_[0] + r_.back());\n",
    "    }\n",
    "private:\n",
    "     std::vector<idouble> d_;\n",
    "     std::vector<idouble> r_;\n",
    "};"
   ]
  },
  {
   "cell_type": "code",
   "execution_count": 6,
   "id": "bc0a4f4c-1187-475a-8e5f-045a83c6d726",
   "metadata": {},
   "outputs": [],
   "source": [
    "# Create a curve with a python list of native doubles and numpy array of native doubles\n",
    "forecast_curve = aadc.MyDemoCurve(Dates, nRates)\n",
    "nRates[9] = aadc.idouble(0.1)       # automatically converts to double and this is outside of recording scope\n",
    "forecast_curve = aadc.MyDemoCurve(Dates, nRates)"
   ]
  },
  {
   "cell_type": "code",
   "execution_count": 7,
   "id": "548544b9-3845-4bf6-bc13-9294be6f989e",
   "metadata": {},
   "outputs": [],
   "source": [
    "# Create curves with different types of rates\n",
    "forecast_curve_n = aadc.MyDemoCurve(Dates, Rates)\n",
    "forecast_curve_ii = aadc.MyDemoCurve(Dates, iiRates)\n",
    "forecast_curve = aadc.MyDemoCurve(Dates, iRates)"
   ]
  },
  {
   "cell_type": "code",
   "execution_count": 8,
   "id": "272d898d-d85c-4baf-adad-84a1f8b4a56e",
   "metadata": {},
   "outputs": [
    {
     "name": "stdout",
     "output_type": "stream",
     "text": [
      "0.11\n",
      "0.11\n",
      "0.11\n"
     ]
    }
   ],
   "source": [
    "# Outside of recording scope all objects return native doubles\n",
    "print (forecast_curve_n(1))\n",
    "print (forecast_curve_ii(1))\n",
    "print (forecast_curve(1))"
   ]
  },
  {
   "cell_type": "code",
   "execution_count": 10,
   "id": "39914508-51df-47a2-bbc4-98b3ad047792",
   "metadata": {},
   "outputs": [
    {
     "name": "stdout",
     "output_type": "stream",
     "text": [
      "Start recording\n",
      "You are using evaluation version of AADC. Expire date is 20240901\n"
     ]
    }
   ],
   "source": [
    "# Lets see what happens when we start recording\n",
    "print (\"Start recording\")\n",
    "funcs = aadc.Functions()\n",
    "funcs.start_recording()"
   ]
  },
  {
   "cell_type": "code",
   "execution_count": 11,
   "id": "0883ebe5-f0ec-423f-998a-7e1f61078189",
   "metadata": {},
   "outputs": [
    {
     "data": {
      "text/plain": [
       "Arg(6)"
      ]
     },
     "execution_count": 11,
     "metadata": {},
     "output_type": "execute_result"
    }
   ],
   "source": [
    "# We mark one idouble as input iRates[8] is idouble but not marked as input\n",
    "arg1 = iRates[9].mark_as_input()\n",
    "arg1"
   ]
  },
  {
   "cell_type": "code",
   "execution_count": 12,
   "id": "4e21f73a-f014-4c87-9fcc-c1160b81eedd",
   "metadata": {},
   "outputs": [],
   "source": [
    "# Recreate curve with arrays\n",
    "forecast_curve = aadc.MyDemoCurve(Dates, iRates)\n",
    "# passive curve only gets native doubles as input\n",
    "forecast_curve_passive = aadc.MyDemoCurve(Dates, Rates)"
   ]
  },
  {
   "cell_type": "code",
   "execution_count": 13,
   "id": "e02a0091-fdfa-4da9-af0c-bcffad9d3fea",
   "metadata": {},
   "outputs": [
    {
     "data": {
      "text/plain": [
       "idouble([AAD[rv] [adj] :9,1.10e-01])"
      ]
     },
     "execution_count": 13,
     "metadata": {},
     "output_type": "execute_result"
    }
   ],
   "source": [
    "# returns active double because internaly iRates[9] \n",
    "# is used with the constant 1.0 argument\n",
    "forecast_curve(1)"
   ]
  },
  {
   "cell_type": "code",
   "execution_count": 14,
   "id": "1ef9512b-ec1b-4b64-9e90-d17a67cb58b8",
   "metadata": {},
   "outputs": [
    {
     "data": {
      "text/plain": [
       "0.11"
      ]
     },
     "execution_count": 14,
     "metadata": {},
     "output_type": "execute_result"
    }
   ],
   "source": [
    "# Returns native double because all inputs are native doubles\n",
    "# and the curve internally uses native doubles\n",
    "forecast_curve_passive(1)"
   ]
  },
  {
   "cell_type": "code",
   "execution_count": 15,
   "id": "6ce7aae0-8a99-4226-8105-e09a18041452",
   "metadata": {},
   "outputs": [
    {
     "data": {
      "text/plain": [
       "0.11"
      ]
     },
     "execution_count": 15,
     "metadata": {},
     "output_type": "execute_result"
    }
   ],
   "source": [
    "# Returns native double because all input is idouble, but\n",
    "# not marked as input and the curve internally uses native doubles\n",
    "forecast_curve_passive(aadc.idouble(1))"
   ]
  },
  {
   "cell_type": "code",
   "execution_count": 16,
   "id": "76198c80-d4f2-467e-b75a-b6bc2cf120ea",
   "metadata": {},
   "outputs": [
    {
     "data": {
      "text/plain": [
       "idouble([AAD[rv] [adj] :7,1.10e-02])"
      ]
     },
     "execution_count": 16,
     "metadata": {},
     "output_type": "execute_result"
    }
   ],
   "source": [
    "# Returns active idouble because argument is marked as input\n",
    "# Note that internally the curve uses native doubles\n",
    "forecast_curve_passive(iRates[9])"
   ]
  },
  {
   "cell_type": "code",
   "execution_count": 17,
   "id": "d106fea0-5757-4c1d-a423-129c32c4164a",
   "metadata": {},
   "outputs": [
    {
     "data": {
      "text/plain": [
       "idouble([AAD[rv] [adj] :10,2.00e-01])"
      ]
     },
     "execution_count": 17,
     "metadata": {},
     "output_type": "execute_result"
    }
   ],
   "source": [
    "# Simple expression with marked idoubles return active idouble\n",
    "exp1 = iRates[9] + iRates[9]\n",
    "exp1"
   ]
  },
  {
   "cell_type": "code",
   "execution_count": 18,
   "id": "60308ef8-a742-42e1-ac92-6ad77ff59320",
   "metadata": {},
   "outputs": [
    {
     "data": {
      "text/plain": [
       "0.18"
      ]
     },
     "execution_count": 18,
     "metadata": {},
     "output_type": "execute_result"
    }
   ],
   "source": [
    "# Simple expression with unmarked idoubles return native double\n",
    "iRates[8] + iRates[8]"
   ]
  },
  {
   "cell_type": "code",
   "execution_count": 19,
   "id": "3311fb8b-48b7-46a9-a949-0b4f33253d89",
   "metadata": {},
   "outputs": [
    {
     "data": {
      "text/plain": [
       "0.18"
      ]
     },
     "execution_count": 19,
     "metadata": {},
     "output_type": "execute_result"
    }
   ],
   "source": [
    "# Simple expression with unmarked idoubles can be converted to float\n",
    "float(iRates[8] + iRates[8])"
   ]
  },
  {
   "cell_type": "code",
   "execution_count": 20,
   "id": "194200a1-0d18-43d0-83ae-d90fe084ebc0",
   "metadata": {},
   "outputs": [
    {
     "name": "stdout",
     "output_type": "stream",
     "text": [
      "idouble->double conversion is found at   File \"<frozen runpy>\", line 198, in _run_module_as_main\n",
      "\n",
      "  File \"<frozen runpy>\", line 88, in _run_code\n",
      "\n",
      "  File \"/home/dimach/venv/test/lib/python3.11/site-packages/ipykernel_launcher.py\", line 18, in <module>\n",
      "    app.launch_new_instance()\n",
      "\n",
      "  File \"/home/dimach/venv/test/lib/python3.11/site-packages/traitlets/config/application.py\", line 1075, in launch_instance\n",
      "    app.start()\n",
      "\n",
      "  File \"/home/dimach/venv/test/lib/python3.11/site-packages/ipykernel/kernelapp.py\", line 739, in start\n",
      "    self.io_loop.start()\n",
      "\n",
      "  File \"/home/dimach/venv/test/lib/python3.11/site-packages/tornado/platform/asyncio.py\", line 205, in start\n",
      "    self.asyncio_loop.run_forever()\n",
      "\n",
      "  File \"/usr/lib/python3.11/asyncio/base_events.py\", line 607, in run_forever\n",
      "    self._run_once()\n",
      "\n",
      "  File \"/usr/lib/python3.11/asyncio/base_events.py\", line 1922, in _run_once\n",
      "    handle._run()\n",
      "\n",
      "  File \"/usr/lib/python3.11/asyncio/events.py\", line 80, in _run\n",
      "    self._context.run(self._callback, *self._args)\n",
      "\n",
      "  File \"/home/dimach/venv/test/lib/python3.11/site-packages/ipykernel/kernelbase.py\", line 545, in dispatch_queue\n",
      "    await self.process_one()\n",
      "\n",
      "  File \"/home/dimach/venv/test/lib/python3.11/site-packages/ipykernel/kernelbase.py\", line 534, in process_one\n",
      "    await dispatch(*args)\n",
      "\n",
      "  File \"/home/dimach/venv/test/lib/python3.11/site-packages/ipykernel/kernelbase.py\", line 437, in dispatch_shell\n",
      "    await result\n",
      "\n",
      "  File \"/home/dimach/venv/test/lib/python3.11/site-packages/ipykernel/ipkernel.py\", line 362, in execute_request\n",
      "    await super().execute_request(stream, ident, parent)\n",
      "\n",
      "  File \"/home/dimach/venv/test/lib/python3.11/site-packages/ipykernel/kernelbase.py\", line 778, in execute_request\n",
      "    reply_content = await reply_content\n",
      "\n",
      "  File \"/home/dimach/venv/test/lib/python3.11/site-packages/ipykernel/ipkernel.py\", line 449, in do_execute\n",
      "    res = shell.run_cell(\n",
      "\n",
      "  File \"/home/dimach/venv/test/lib/python3.11/site-packages/ipykernel/zmqshell.py\", line 549, in run_cell\n",
      "    return super().run_cell(*args, **kwargs)\n",
      "\n",
      "  File \"/home/dimach/venv/test/lib/python3.11/site-packages/IPython/core/interactiveshell.py\", line 3075, in run_cell\n",
      "    result = self._run_cell(\n",
      "\n",
      "  File \"/home/dimach/venv/test/lib/python3.11/site-packages/IPython/core/interactiveshell.py\", line 3130, in _run_cell\n",
      "    result = runner(coro)\n",
      "\n",
      "  File \"/home/dimach/venv/test/lib/python3.11/site-packages/IPython/core/async_helpers.py\", line 129, in _pseudo_sync_runner\n",
      "    coro.send(None)\n",
      "\n",
      "  File \"/home/dimach/venv/test/lib/python3.11/site-packages/IPython/core/interactiveshell.py\", line 3334, in run_cell_async\n",
      "    has_raised = await self.run_ast_nodes(code_ast.body, cell_name,\n",
      "\n",
      "  File \"/home/dimach/venv/test/lib/python3.11/site-packages/IPython/core/interactiveshell.py\", line 3517, in run_ast_nodes\n",
      "    if await self.run_code(code, result, async_=asy):\n",
      "\n",
      "  File \"/home/dimach/venv/test/lib/python3.11/site-packages/IPython/core/interactiveshell.py\", line 3577, in run_code\n",
      "    exec(code_obj, self.user_global_ns, self.user_ns)\n",
      "\n",
      "  File \"/tmp/ipykernel_2966509/2743325724.py\", line 3, in <module>\n",
      "    print(float(exp1)) # returns exception\n",
      "\n",
      "active idouble->double is dangerous\n"
     ]
    }
   ],
   "source": [
    "# During recording, converting active idouble to float returns exception.\n",
    "try:\n",
    "    print(float(exp1)) # returns exception\n",
    "except Exception as e:\n",
    "    print (e)\n"
   ]
  },
  {
   "cell_type": "code",
   "execution_count": 21,
   "id": "d9708f69-1160-4333-8adc-cc8c1a4edb7f",
   "metadata": {},
   "outputs": [
    {
     "data": {
      "text/plain": [
       "idouble([AAD[rv] [adj] :14,-1.61e+00])"
      ]
     },
     "execution_count": 21,
     "metadata": {},
     "output_type": "execute_result"
    }
   ],
   "source": [
    "# NumPy scalar operations with idoubles\n",
    "np.log(exp1)"
   ]
  },
  {
   "cell_type": "code",
   "execution_count": 22,
   "id": "6fc58f41-9d13-4314-aca6-35867d41ab7c",
   "metadata": {},
   "outputs": [
    {
     "name": "stdout",
     "output_type": "stream",
     "text": [
      "Stop recording\n"
     ]
    }
   ],
   "source": [
    "funcs.stop_recording()\n",
    "print (\"Stop recording\")"
   ]
  },
  {
   "cell_type": "code",
   "execution_count": 23,
   "id": "bc6ea4d1-405d-46ce-a15f-c2082705c322",
   "metadata": {},
   "outputs": [
    {
     "name": "stdout",
     "output_type": "stream",
     "text": [
      "<class 'aadc._aadc_core.idouble'>\n"
     ]
    },
    {
     "data": {
      "text/plain": [
       "-1.6094379124341003"
      ]
     },
     "execution_count": 23,
     "metadata": {},
     "output_type": "execute_result"
    }
   ],
   "source": [
    "# exp1 is still idouble but now it safe to convert to float\n",
    "print(type(exp1))\n",
    "np.log(exp1)"
   ]
  },
  {
   "cell_type": "code",
   "execution_count": 24,
   "id": "3f0685d3-cc13-4fb8-80fa-bf03b7d6402f",
   "metadata": {},
   "outputs": [
    {
     "data": {
      "text/plain": [
       "0.11"
      ]
     },
     "execution_count": 24,
     "metadata": {},
     "output_type": "execute_result"
    }
   ],
   "source": [
    "# The curve was created during recording but now it returns native double\n",
    "forecast_curve(1)"
   ]
  }
 ],
 "metadata": {
  "kernelspec": {
   "display_name": "Python 3 (ipykernel)",
   "language": "python",
   "name": "python3"
  },
  "language_info": {
   "codemirror_mode": {
    "name": "ipython",
    "version": 3
   },
   "file_extension": ".py",
   "mimetype": "text/x-python",
   "name": "python",
   "nbconvert_exporter": "python",
   "pygments_lexer": "ipython3",
   "version": "3.11.2"
  }
 },
 "nbformat": 4,
 "nbformat_minor": 5
}
