{
 "cells": [
  {
   "cell_type": "code",
   "execution_count": 4,
   "metadata": {},
   "outputs": [
    {
     "name": "stdout",
     "output_type": "stream",
     "text": [
      "Running cmake --build & --install in /home/ocmob/dev/aadc/AADC-Python-Bindings/build\n",
      "You are using evaluation version of AADC. Expire date is 20250201\n"
     ]
    }
   ],
   "source": [
    "from dataclasses import dataclass\n",
    "from typing import Tuple\n",
    "\n",
    "import aadc.evaluate_wrappers\n",
    "import numpy as np\n",
    "import numpy.typing as npt\n",
    "\n",
    "import aadc\n",
    "from aadc import VectorFunctionWithAD\n",
    "from aadc.recording_ctx import record_kernel\n",
    "\n",
    "\n",
    "@dataclass\n",
    "class BlackScholesModel:\n",
    "    sigma: float\n",
    "    rfr: float\n",
    "    s0: float\n",
    "    \n",
    "    def simulate(self, final_time: float, normal_samples: npt.NDArray[np.double]) -> Tuple[npt.NDArray[np.double], npt.NDArray[np.double]]:\n",
    "        num_steps = normal_samples.shape[1]\n",
    "        dt = final_time / num_steps\n",
    "        time = aadc.array(np.zeros(num_steps))\n",
    "        gbm = aadc.array(np.zeros_like(normal_samples))\n",
    "        \n",
    "        gbm[:, 0] = self.s0\n",
    "        bm_curr = 0.\n",
    "        \n",
    "        for i in range(1, num_steps):\n",
    "            time[i] = i * dt\n",
    "            bm_curr = bm_curr + normal_samples[:, i] * np.sqrt(dt)\n",
    "            gbm[:, i] = self.s0 * np.exp((self.rfr - self.sigma**2/2) * time[i] + self.sigma * bm_curr)\n",
    "            \n",
    "        return time, gbm\n",
    "    \n",
    "\n",
    "@dataclass\n",
    "class DownAndOutCallPayoff:\n",
    "    barrier: float\n",
    "    strike: float\n",
    "    \n",
    "    def evaluate(self, paths: npt.NDArray[np.double]) -> npt.NDArray[np.double]:\n",
    "        scaling_factor = 1e+1\n",
    "        barrier_distances = (paths - self.barrier) * scaling_factor\n",
    "        survival_probs = np.prod((1 + np.tanh(barrier_distances)) / 2, axis=1)\n",
    "        call_payoff = np.maximum(paths[:, -1] - self.strike, 0.0)\n",
    "        payoffs = survival_probs * call_payoff\n",
    "        return payoffs\n",
    "\n",
    "M = 500\n",
    "N = 1000\n",
    "RANDOM_SEED = 2137\n",
    "SPOT = 100.0\n",
    "STRIKE = 100.0\n",
    "RISK_FREE_RATE = 0.05\n",
    "EXPIRY = 1.0\n",
    "VOLATILITY = 0.2\n",
    "BARRIER = 90.0\n",
    "\n",
    "rng = np.random.default_rng(RANDOM_SEED)\n",
    "normal_samples = rng.standard_normal((1, M))\n",
    "params_np = aadc.array([\n",
    "    SPOT, \n",
    "    STRIKE, \n",
    "    BARRIER,\n",
    "    EXPIRY, \n",
    "    RISK_FREE_RATE, \n",
    "    VOLATILITY\n",
    "])\n",
    "\n",
    "with record_kernel() as kernel:\n",
    "    params = aadc.array(params_np)\n",
    "    pin = params.mark_as_input()\n",
    "    active_samples = aadc.array(normal_samples)\n",
    "    asin = active_samples.mark_as_input_no_diff()\n",
    "\n",
    "    model = BlackScholesModel(params[-1], params[-2], params[0])\n",
    "    payoff = DownAndOutCallPayoff(params[2], params[1])\n",
    "    times, paths = model.simulate(params[3], active_samples)\n",
    "    price_undiscounted = payoff.evaluate(paths)\n",
    "    pundout = price_undiscounted.mark_as_output()\n",
    "    price_discounted = price_undiscounted*np.exp(-params[-2]*params[3])\n",
    "    pout = price_discounted.mark_as_output()\n",
    "\n",
    "normal_samples_eval = rng.standard_normal((N, M))\n"
   ]
  },
  {
   "cell_type": "code",
   "execution_count": 5,
   "metadata": {},
   "outputs": [
    {
     "name": "stdout",
     "output_type": "stream",
     "text": [
      "9.541824644245017 [59.25275641 14.62033378]\n"
     ]
    }
   ],
   "source": [
    "calibration_vf = VectorFunctionWithAD(kernel, pin[4:], pout, batch_param_args=np.squeeze(asin), param_args=pin[:4], num_threads=12)\n",
    "calibration_vf.set_params(params_np[:4])\n",
    "calibration_vf.set_batch_params(normal_samples_eval)\n",
    "values, grads = calibration_vf.evaluate(params_np[4:])\n",
    "\n",
    "value_calib = values.mean()\n",
    "dvalue_d_bs_params = grads.mean(axis=0).squeeze()\n",
    "\n",
    "print(value_calib, dvalue_d_bs_params)"
   ]
  },
  {
   "cell_type": "code",
   "execution_count": 6,
   "metadata": {},
   "outputs": [
    {
     "name": "stdout",
     "output_type": "stream",
     "text": [
      "9.541824644245017 [ 0.83005581 -0.42013721 -0.3493186   4.4246712  59.25275641 14.62033378]\n"
     ]
    }
   ],
   "source": [
    "evaluation_vf = VectorFunctionWithAD(kernel, pin, pout, batch_param_args=np.squeeze(asin), num_threads=12)\n",
    "evaluation_vf.set_batch_params(normal_samples_eval)\n",
    "values, grads = evaluation_vf.evaluate(params_np)\n",
    "\n",
    "value_eval = values.mean()\n",
    "dvalue_dparams = grads.mean(axis=0).squeeze()\n",
    "\n",
    "print(value_eval, dvalue_dparams)"
   ]
  },
  {
   "cell_type": "code",
   "execution_count": 7,
   "metadata": {},
   "outputs": [],
   "source": [
    "inputs = {\n",
    "    **{param: param_value for param, param_value in zip(pin, params_np)},\n",
    "    **{sample: samples_row for sample, samples_row in zip(np.squeeze(asin), normal_samples_eval)}\n",
    "}\n",
    "request = {\n",
    "    pout.item(): pin.tolist(),\n",
    "    pundout.item(): pin.tolist()\n",
    "}\n",
    "\n",
    "workers = aadc.ThreadPool(12)\n",
    "values, derivs = aadc.evaluate(kernel, request, inputs, workers)"
   ]
  },
  {
   "cell_type": "code",
   "execution_count": null,
   "metadata": {},
   "outputs": [],
   "source": []
  }
 ],
 "metadata": {
  "kernelspec": {
   "display_name": "aadcpy",
   "language": "python",
   "name": "python3"
  },
  "language_info": {
   "codemirror_mode": {
    "name": "ipython",
    "version": 3
   },
   "file_extension": ".py",
   "mimetype": "text/x-python",
   "name": "python",
   "nbconvert_exporter": "python",
   "pygments_lexer": "ipython3",
   "version": "3.11.11"
  }
 },
 "nbformat": 4,
 "nbformat_minor": 2
}
