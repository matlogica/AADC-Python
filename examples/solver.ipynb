{
 "cells": [
  {
   "cell_type": "code",
   "execution_count": null,
   "id": "d66ff25b",
   "metadata": {
    "lines_to_next_cell": 1
   },
   "outputs": [],
   "source": [
    "import matplotlib.pyplot as plt\n",
    "import numpy as np\n",
    "from scipy.optimize import root_scalar\n",
    "\n",
    "import aadc"
   ]
  },
  {
   "cell_type": "markdown",
   "id": "b3cbad41",
   "metadata": {},
   "source": [
    "# Simple Chained Root Scalar Example\n",
    "\n",
    "This example demonstrates using two sequential root_scalar calls, where the\n",
    "second call depends on the result of the first call."
   ]
  },
  {
   "cell_type": "markdown",
   "id": "c30a37ac",
   "metadata": {},
   "source": [
    "## 1. Using SciPy's root_scalar"
   ]
  },
  {
   "cell_type": "code",
   "execution_count": null,
   "id": "184bffe0",
   "metadata": {},
   "outputs": [],
   "source": [
    "# Define our first objective function\n",
    "def objective1(x, target=10.0):\n",
    "    \"\"\"Find where x^2 + 5 = target\"\"\"\n",
    "    return x**2 + 5 - target\n",
    "\n",
    "# Solve for x where x^2 + 5 = 10\n",
    "result1 = root_scalar(objective1, x0=2.0, method='newton')\n",
    "x1 = result1.root\n",
    "\n",
    "print(f\"First root (x₁): {x1:.6f}\")\n",
    "print(f\"Verification: {x1}² + 5 = {x1**2 + 5:.6f}\")\n",
    "\n",
    "# Define our second objective function, which depends on the first result\n",
    "def objective2(x, prev_result=x1):\n",
    "    \"\"\"Find where x*prev_result - x^3 = 20\"\"\"\n",
    "    return x*prev_result - x**3 - 20\n",
    "\n",
    "# Solve for x where x*x1 - x^3 = 20\n",
    "result2 = root_scalar(objective2, x0=2.0, method='newton')\n",
    "x2 = result2.root\n",
    "\n",
    "print(f\"Second root (x₂): {x2:.6f}\")\n",
    "print(f\"Verification: {x2}*{x1} - {x2}³ = {x2*x1 - x2**3:.6f}\")"
   ]
  },
  {
   "cell_type": "markdown",
   "id": "9d1fffcb",
   "metadata": {},
   "source": [
    "## 2. Using AADC's root_scalar with automatic differentiation"
   ]
  },
  {
   "cell_type": "code",
   "execution_count": null,
   "id": "6eab84d7",
   "metadata": {},
   "outputs": [],
   "source": [
    "# Create an AADC kernel for recording the computation\n",
    "func = aadc.Kernel()\n",
    "func.start_recording()\n",
    "\n",
    "# Create an AADC input variable for the target value\n",
    "target = aadc.idouble(10.0)\n",
    "target_arg = target.mark_as_input()\n",
    "\n",
    "# Define the first objective function\n",
    "def aadc_objective1(x):\n",
    "    \"\"\"Find where x^2 + 5 = target\"\"\"\n",
    "    return x**2 + 5 - target\n",
    "\n",
    "# Solve using AADC root_scalar\n",
    "aadc_result1 = aadc.root_scalar(aadc_objective1, x0=2.0)\n",
    "print(f\"First AADC root: ~{aadc_result1}\")\n",
    "\n",
    "# Define the second objective function using the first result\n",
    "def aadc_objective2(x):\n",
    "    \"\"\"Find where x*result1 - x^3 = 20\"\"\"\n",
    "    return x*aadc_result1 - x**3 - 20\n",
    "\n",
    "# Solve the second equation\n",
    "aadc_result2 = aadc.root_scalar(aadc_objective2, x0=2.0)\n",
    "print(f\"Second AADC root: ~{aadc_result2}\")\n",
    "\n",
    "# Mark the results as outputs for later analysis\n",
    "result1_out = aadc_result1.mark_as_output()\n",
    "result2_out = aadc_result2.mark_as_output()\n",
    "\n",
    "# Stop recording\n",
    "func.stop_recording()"
   ]
  },
  {
   "cell_type": "markdown",
   "id": "4a538fd5",
   "metadata": {},
   "source": [
    "## 3. Analysis of dependencies and sensitivities"
   ]
  },
  {
   "cell_type": "code",
   "execution_count": null,
   "id": "be30232f",
   "metadata": {
    "lines_to_next_cell": 1
   },
   "outputs": [],
   "source": [
    "# Set up inputs and requests for AADC evaluation\n",
    "inputs = {target_arg: 10.0}\n",
    "request = {\n",
    "    result1_out: [target_arg],\n",
    "    result2_out: [target_arg]\n",
    "}\n",
    "\n",
    "# Evaluate the kernel\n",
    "res = aadc.evaluate(func, request, inputs)\n",
    "\n",
    "# Extract results\n",
    "aadc_x1 = res[0][result1_out]\n",
    "aadc_x2 = res[0][result2_out]\n",
    "\n",
    "# Extract sensitivities\n",
    "sensitivity_x1_to_target = res[1][result1_out][target_arg][0]\n",
    "sensitivity_x2_to_target = res[1][result2_out][target_arg][0]\n",
    "\n",
    "print(\"\\nAADC Results:\")\n",
    "print(f\"First root (x₁): {aadc_x1}\")\n",
    "print(f\"Second root (x₂): {aadc_x2}\")\n",
    "\n",
    "print(\"\\nComparison with SciPy results:\")\n",
    "print(f\"First root error: {abs(aadc_x1 - x1)}\")\n",
    "print(f\"Second root error: {abs(aadc_x2 - x2)}\")\n",
    "\n",
    "print(\"\\nSensitivity Analysis:\")\n",
    "print(f\"∂x₁/∂target = {sensitivity_x1_to_target}\")\n",
    "print(f\"∂x₂/∂target = {sensitivity_x2_to_target}\")"
   ]
  },
  {
   "cell_type": "markdown",
   "id": "71a8ba87",
   "metadata": {},
   "source": [
    "## 4. Verification with finite differences"
   ]
  },
  {
   "cell_type": "code",
   "execution_count": null,
   "id": "5d9d74db",
   "metadata": {},
   "outputs": [],
   "source": [
    "# Function to compute both roots for a given target\n",
    "def compute_roots(target_val):\n",
    "    # First root: x^2 + 5 = target\n",
    "    def obj1(x):\n",
    "        return x**2 + 5 - target_val\n",
    "\n",
    "    res1 = root_scalar(obj1, x0=2.0, method='newton')\n",
    "    x1_val = res1.root\n",
    "\n",
    "    # Second root: x*x1 - x^3 = 20\n",
    "    def obj2(x):\n",
    "        return x*x1_val - x**3 - 20\n",
    "\n",
    "    res2 = root_scalar(obj2, x0=2.0, method='newton')\n",
    "    x2_val = res2.root\n",
    "\n",
    "    return x1_val, x2_val\n",
    "\n",
    "# Compute finite difference approximations\n",
    "epsilon = 1e-6\n",
    "target_base = 10.0\n",
    "x1_base, x2_base = compute_roots(target_base)\n",
    "x1_bumped, x2_bumped = compute_roots(target_base + epsilon)\n",
    "\n",
    "fd_sensitivity_x1 = (x1_bumped - x1_base) / epsilon\n",
    "fd_sensitivity_x2 = (x2_bumped - x2_base) / epsilon\n",
    "\n",
    "print(\"\\nFinite Difference Verification:\")\n",
    "print(f\"∂x₁/∂target (FD) = {fd_sensitivity_x1}\")\n",
    "print(f\"∂x₂/∂target (FD) = {fd_sensitivity_x2}\")\n",
    "\n",
    "print(\"\\nSensitivity Comparison:\")\n",
    "print(f\"First root sensitivity error: {abs(sensitivity_x1_to_target - fd_sensitivity_x1)}\")\n",
    "print(f\"Second root sensitivity error: {abs(sensitivity_x2_to_target - fd_sensitivity_x2)}\")"
   ]
  },
  {
   "cell_type": "markdown",
   "id": "38534783",
   "metadata": {},
   "source": [
    "## 5. Visualizing the relationship"
   ]
  },
  {
   "cell_type": "code",
   "execution_count": null,
   "id": "1827baa7",
   "metadata": {},
   "outputs": [],
   "source": [
    "# Compute roots for a range of target values\n",
    "target_values = np.linspace(5.0, 15.0, 50)\n",
    "x1_values = []\n",
    "x2_values = []\n",
    "\n",
    "for t in target_values:\n",
    "    x1, x2 = compute_roots(t)\n",
    "    x1_values.append(x1)\n",
    "    x2_values.append(x2)\n",
    "\n",
    "# Plot the relationships\n",
    "plt.figure(figsize=(12, 6))\n",
    "\n",
    "# Compute AADC results for the same range of target values as SciPy\n",
    "aadc_targets = np.linspace(5.0, 15.0, 50)\n",
    "\n",
    "# Evaluate AADC kernel for all targets at once\n",
    "inputs = {target_arg: aadc_targets}\n",
    "res_all_targets = aadc.evaluate(func, request, inputs)\n",
    "\n",
    "# Extract results for all target values\n",
    "aadc_x1_values = res_all_targets[0][result1_out]\n",
    "aadc_x2_values = res_all_targets[0][result2_out]\n",
    "\n",
    "plt.subplot(1, 2, 1)\n",
    "plt.plot(target_values, x1_values, 'b-', linewidth=2, label='SciPy')\n",
    "plt.plot(aadc_targets, aadc_x1_values, 'r--', linewidth=2, label='AADC')\n",
    "plt.xlabel('Target Value')\n",
    "plt.ylabel('x₁ (First Root)')\n",
    "plt.title('First Root vs Target')\n",
    "plt.legend()\n",
    "plt.grid(True, alpha=0.3)\n",
    "\n",
    "plt.subplot(1, 2, 2)\n",
    "plt.plot(target_values, x2_values, 'b-', linewidth=2, label='SciPy')\n",
    "plt.plot(aadc_targets, aadc_x2_values, 'r--', linewidth=2, label='AADC')\n",
    "plt.xlabel('Target Value')\n",
    "plt.ylabel('x₂ (Second Root)')\n",
    "plt.title('Second Root vs Target')\n",
    "plt.legend()\n",
    "plt.grid(True, alpha=0.3)\n",
    "\n",
    "plt.tight_layout()\n",
    "plt.show()"
   ]
  },
  {
   "cell_type": "markdown",
   "id": "874f7663",
   "metadata": {},
   "source": [
    "## Key Insights\n",
    "\n",
    "1. **Chained Calculations**: The second root_scalar call depends directly on the result of the first call,\n",
    "   creating a chain of calculations.\n",
    "\n",
    "2. **Hidden Parameters**: The objective function `objective2` has a hidden dependency on the result of\n",
    "   the first calculation (`x1`). AADC automatically tracks this dependency.\n",
    "\n",
    "3. **Sensitivities**: We can compute how changes in the initial target value affect both the first and\n",
    "   second roots, even though the dependency chain is complex.\n",
    "\n",
    "4. **Verification**: The sensitivities computed by AADC match those computed using finite differences,\n",
    "   confirming that AADC correctly tracks dependencies through multiple root_scalar calls."
   ]
  },
  {
   "cell_type": "markdown",
   "id": "a8968d3f",
   "metadata": {},
   "source": [
    "\n",
    "# Automatic Implicit Function Theorem - Summary\n",
    "\n",
    "## Paper Details\n",
    "- **Title**: Automatic Implicit Function Theorem\n",
    "- **Authors**: Dmitri Goloubentsev, Evgeny Lakshtanov, Vladimir Piterbarg\n",
    "- **Affiliation**: Matlogica, Universidade de Aveiro, NatWest Markets, Imperial College London\n",
    "- **Published**: December 14, 2021 (Revised: May 31, 2022)\n",
    "- **SSRN ID**: 3984964\n",
    "- **URL**: [https://papers.ssrn.com/sol3/papers.cfm?abstract_id=3984964](https://papers.ssrn.com/sol3/papers.cfm?abstract_id=3984964)"
   ]
  }
 ],
 "metadata": {
  "jupytext": {
   "cell_metadata_filter": "-all",
   "main_language": "python",
   "notebook_metadata_filter": "-all"
  }
 },
 "nbformat": 4,
 "nbformat_minor": 5
}
