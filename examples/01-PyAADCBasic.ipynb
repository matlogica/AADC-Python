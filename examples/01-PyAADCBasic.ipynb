{
 "cells": [
  {
   "cell_type": "code",
   "execution_count": 1,
   "id": "4d2988b1-4dea-4032-b2c6-864d1f35c67a",
   "metadata": {},
   "outputs": [
    {
     "name": "stdout",
     "output_type": "stream",
     "text": [
      "bind_swig2pybind_linearalgebra_i\n",
      "Adding extend interface from SWIG to Pybind11 for class FixedLocalVolSurface\n",
      "Adding extend interface from SWIG to Pybind11 for class GridModelLocalVolSurface\n"
     ]
    }
   ],
   "source": [
    "# AADC basic \"Hello World\" example\n",
    "# This example demonstrates how to use the AADC library to record a simple function and calculate its derivatives\n",
    "import aadc\n",
    "import numpy as np\n",
    "import math"
   ]
  },
  {
   "cell_type": "code",
   "execution_count": 2,
   "id": "965df2e1-ce4a-411f-be40-8bc644db21b2",
   "metadata": {},
   "outputs": [],
   "source": [
    "# Override defalt math.exp with aadc.math.exp to hand active types\n",
    "math.exp = aadc.math.exp"
   ]
  },
  {
   "cell_type": "code",
   "execution_count": 3,
   "id": "40bbfc28-b257-4efe-b2f5-a8f77c911eba",
   "metadata": {},
   "outputs": [],
   "source": [
    "# Simple function to record\n",
    "# The function can take arbitrary input types and \n",
    "# can be defined in external file\n",
    "def F(x,y,z):\n",
    "    return math.exp(x / y + z)"
   ]
  },
  {
   "cell_type": "code",
   "execution_count": 4,
   "id": "f3b87119-b2a3-4dfb-b9cf-eebd4060d569",
   "metadata": {},
   "outputs": [],
   "source": [
    "# Object to hold recorded AADC Kernels that\n",
    "# allow to speed up the calculation of the function itself\n",
    "# and AAD for its derivatives\n",
    "funcs = aadc.Functions()"
   ]
  },
  {
   "cell_type": "code",
   "execution_count": 5,
   "id": "5d39ca34-fb9b-40ed-b944-1cda7ff7f141",
   "metadata": {},
   "outputs": [],
   "source": [
    "# Define function arguments.\n",
    "# Note you need to use aadc.idouble instead of float\n",
    "x = aadc.idouble(1.0)\n",
    "y = aadc.idouble(2.0)\n",
    "z = aadc.idouble(3.0)"
   ]
  },
  {
   "cell_type": "code",
   "execution_count": 6,
   "id": "3300d637-4725-4405-b9d5-d7eadd8cc8bc",
   "metadata": {},
   "outputs": [
    {
     "name": "stdout",
     "output_type": "stream",
     "text": [
      "You are using evaluation version of AADC. Expire date is 20240901\n"
     ]
    }
   ],
   "source": [
    "# Trigger recording of the function\n",
    "funcs.start_recording()"
   ]
  },
  {
   "cell_type": "code",
   "execution_count": 7,
   "id": "d6cd2d27-abb4-4231-84e5-8865eabba328",
   "metadata": {},
   "outputs": [],
   "source": [
    "# Mark the function arguments as input and save reference argument ids\n",
    "xArg = x.mark_as_input()\n",
    "yArg = y.mark_as_input()\n",
    "zArg = z.mark_as_input()"
   ]
  },
  {
   "cell_type": "code",
   "execution_count": 8,
   "id": "a6a70fbe-8cc7-4868-ae04-2a7121be6355",
   "metadata": {},
   "outputs": [],
   "source": [
    "# Call the function and add some operations\n",
    "f = F(x,y,z) + x"
   ]
  },
  {
   "cell_type": "code",
   "execution_count": 9,
   "id": "3a709740-8437-4dd3-b1ae-50a6f6fccec5",
   "metadata": {},
   "outputs": [],
   "source": [
    "# Mark the result as output\n",
    "fRes = f.mark_as_output()"
   ]
  },
  {
   "cell_type": "code",
   "execution_count": 10,
   "id": "9020ad7b-0b31-4615-ac01-fdaca21f709a",
   "metadata": {},
   "outputs": [],
   "source": [
    "# Stop recording\n",
    "# After this step AADC Kernel containing native machine CPU code\n",
    "# will be generated and stored in the funcs object\n",
    "funcs.stop_recording()"
   ]
  },
  {
   "cell_type": "code",
   "execution_count": 11,
   "id": "07f8caa2-2d3e-4acf-adc2-42a96f90fc08",
   "metadata": {},
   "outputs": [
    {
     "name": "stdout",
     "output_type": "stream",
     "text": [
      "Number active to passive conversions: 0 while recording Python\n"
     ]
    }
   ],
   "source": [
    "# Check if the function is recorded properly\n",
    "# and can be used for arbitrary input values\n",
    "# This should return 0 if everything is OK, indicating\n",
    "# that no branches in the function are not supported\n",
    "funcs.print_passive_extract_locations()"
   ]
  },
  {
   "cell_type": "code",
   "execution_count": 12,
   "id": "56f45689-ef0c-4f60-87d4-2f31030670bd",
   "metadata": {},
   "outputs": [],
   "source": [
    "# New samples of input values to calculate the function and its derivatives at\n",
    "# Note that the x input is a vector of 20 samples\n",
    "# and the y and z are scalars\n",
    "inputs = {\n",
    "    xArg:(1.0 * np.random.normal(1, 0.2, 20)),\n",
    "    yArg:(2.0),\n",
    "    zArg:(3.0),\n",
    "}"
   ]
  },
  {
   "cell_type": "code",
   "execution_count": 13,
   "id": "a4fe2659-9ea2-49ba-ab97-c1282ae30e9c",
   "metadata": {},
   "outputs": [],
   "source": [
    "# Key: what output, value: what gradients are needed\n",
    "\n",
    "request = {fRes:[xArg,yArg,zArg]}  "
   ]
  },
  {
   "cell_type": "code",
   "execution_count": 14,
   "id": "e7afc718-1ba6-4bd5-a96d-a05d88802c8f",
   "metadata": {},
   "outputs": [],
   "source": [
    "# Run AADC Kernel for array inputs using 4 CPU threads and avx2\n",
    "Res = aadc.evaluate(funcs, request, inputs, aadc.ThreadPool(4))"
   ]
  },
  {
   "cell_type": "code",
   "execution_count": 15,
   "id": "00ef0d56-99f7-4bb1-b38c-72c410b99123",
   "metadata": {},
   "outputs": [
    {
     "data": {
      "text/plain": [
       "array([33.24205433, 34.6915409 , 37.52129798, 37.69674374, 32.36243554,\n",
       "       35.50886523, 44.42939322, 32.24723311, 39.13724023, 31.05824264,\n",
       "       37.46866464, 31.34508762, 29.13052269, 34.96900331, 34.22029599,\n",
       "       34.67305414, 35.39841509, 43.32715   , 33.4486223 , 32.64016329])"
      ]
     },
     "execution_count": 15,
     "metadata": {},
     "output_type": "execute_result"
    }
   ],
   "source": [
    "# Function output\n",
    "Res[0][fRes]"
   ]
  },
  {
   "cell_type": "code",
   "execution_count": 16,
   "id": "dafa8ec7-cd5c-40a5-b8e6-25c32e398907",
   "metadata": {},
   "outputs": [
    {
     "name": "stdout",
     "output_type": "stream",
     "text": [
      "df/dx\n"
     ]
    },
    {
     "data": {
      "text/plain": [
       "array([17.14619553, 17.82949053, 19.16784835, 19.25100457, 16.7323514 ,\n",
       "       18.21547665, 22.45556536, 16.67819827, 19.93448792, 16.11995851,\n",
       "       19.14290554, 16.25452073, 15.21763133, 17.96046918, 17.60716649,\n",
       "       17.82076571, 18.1632877 , 21.92927875, 17.24347281, 16.86294837])"
      ]
     },
     "execution_count": 16,
     "metadata": {},
     "output_type": "execute_result"
    }
   ],
   "source": [
    "print(\"df/dx\")\n",
    "Res[1][fRes][xArg]"
   ]
  },
  {
   "cell_type": "code",
   "execution_count": 18,
   "id": "f84ae8e2-3d5b-4ecf-9a3e-f42151cab1aa",
   "metadata": {},
   "outputs": [
    {
     "name": "stdout",
     "output_type": "stream",
     "text": [
      "df/dy\n",
      "[ -7.66672437  -8.68872797 -10.7699121  -10.90255339  -7.06172349\n",
      "  -9.27838383 -16.28759015  -6.98335615 -12.00696843  -6.18652467\n",
      " -10.7302003   -6.37674175  -4.94247543  -8.88783664  -8.3530975\n",
      "  -8.67550096  -9.19814652 -15.36829103  -7.81048443  -7.2514816 ]\n"
     ]
    }
   ],
   "source": [
    "print(\"df/dy\")\n",
    "print(Res[1][fRes][yArg])\n"
   ]
  }
 ],
 "metadata": {
  "kernelspec": {
   "display_name": "Python 3 (ipykernel)",
   "language": "python",
   "name": "python3"
  },
  "language_info": {
   "codemirror_mode": {
    "name": "ipython",
    "version": 3
   },
   "file_extension": ".py",
   "mimetype": "text/x-python",
   "name": "python",
   "nbconvert_exporter": "python",
   "pygments_lexer": "ipython3",
   "version": "3.11.2"
  }
 },
 "nbformat": 4,
 "nbformat_minor": 5
}
