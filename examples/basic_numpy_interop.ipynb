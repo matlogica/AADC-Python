{
 "cells": [
  {
   "cell_type": "code",
   "execution_count": 1,
   "id": "292c601e-1b05-4d44-a650-2918ad1f78ab",
   "metadata": {},
   "outputs": [
    {
     "name": "stdout",
     "output_type": "stream",
     "text": [
      "Running cmake --build & --install in /home/ocmob/dev/aadc/AADC-Python-Bindings/build\n"
     ]
    }
   ],
   "source": [
    "import time\n",
    "import numpy as np\n",
    "import scipy.special\n",
    "\n",
    "import aadc\n",
    "import aadc.overrides\n",
    "from aadc.evaluate_wrappers import evaluate_matrix_inputs\n",
    "from aadc.recording_ctx import record_kernel"
   ]
  },
  {
   "cell_type": "markdown",
   "id": "8e06e7ab-d71f-407f-bfa5-6e08c8e64bda",
   "metadata": {},
   "source": [
    "Basic workflow consists of:\n",
    "* Recording, which generates the fast, compiled code (*kernel*), based on executing Python code for a single sample (define-by-run)\n",
    "* Evaluation, which allows us to evaluate the kernel for more samples in a fast, multi-threaded way\n",
    "\n",
    "To perform recording you need to feed special probing objects, `AADCArrays` into your code.\n",
    "* Those objects act like numpy arrays.\n",
    "* We take great care to have as much numpy interop as possible."
   ]
  },
  {
   "cell_type": "code",
   "execution_count": 2,
   "id": "1afaa52f-4b6a-420b-bb04-4c74ad1f8a01",
   "metadata": {},
   "outputs": [
    {
     "name": "stdout",
     "output_type": "stream",
     "text": [
      "You are using evaluation version of AADC. Expire date is 20250201\n"
     ]
    }
   ],
   "source": [
    "rng = np.random.default_rng(1234)\n",
    "batch_size = 100\n",
    "\n",
    "# We will record this function, looks like a regular numpy function\n",
    "a_np = rng.standard_normal((10, 10))\n",
    "def func(x):\n",
    "    return (a_np @ x).mean()\n",
    "\n",
    "# Recording can be done using a context manager. kernel is object which holds the compiled code\n",
    "with record_kernel() as kernel:\n",
    "    # You can initialize AADCArrays like numpy arrays\n",
    "    x = aadc.array(np.ones(10)) \n",
    "    x_arg = x.mark_as_input()\n",
    "\n",
    "    y = func(x)\n",
    "    y_arg = y.mark_as_output()\n",
    "\n",
    "# Compute derivatives of y with respect to x\n",
    "request = [(y_arg, [x_arg])]\n",
    "\n",
    "# Feed a batch of 100 random vectors as inputs\n",
    "inputs = [( x_arg, rng.standard_normal((batch_size, 10)) )]\n",
    "\n",
    "# Evaluate using 4 threads\n",
    "output_values, output_grads = evaluate_matrix_inputs(kernel, request, inputs, 4)"
   ]
  },
  {
   "cell_type": "markdown",
   "id": "ffb436e9-79ab-4ea7-8738-c1244ab07e22",
   "metadata": {},
   "source": [
    "This workbook will focus on recording, since evaluation is easy and happens completely outside of Python.\n",
    "* We decided that key to convinient recording is numpy interop\n",
    "* You can call any numpy function on an AADCArray, and mix the AADCArray with pure numpy arrays. \n",
    "* It works intuitively, like in Pandas"
   ]
  },
  {
   "cell_type": "code",
   "execution_count": 3,
   "id": "89676568-8eba-4895-934d-cc5c879881a3",
   "metadata": {},
   "outputs": [
    {
     "name": "stdout",
     "output_type": "stream",
     "text": [
      "aadc.array([idouble([AAD[rv] [adj] :7,1.00e+00]),\n",
      "       idouble([AAD[rv] [adj] :10,3.00e+00]),\n",
      "       idouble([AAD[rv] [adj] :11,6.00e+00])], dtype=object)\n",
      "aadc.array([idouble([AAD[rv] [adj] :14,2.72e+00]),\n",
      "       idouble([AAD[rv] [adj] :15,7.39e+00]),\n",
      "       idouble([AAD[rv] [adj] :16,2.01e+01])], dtype=object)\n",
      "aadc.array([idouble([AAD[rv] [adj] :10,1.00e+00]),\n",
      "       idouble([AAD[rv] [adj] :6,1.41e+00]),\n",
      "       idouble([AAD[rv] [adj] :17,1.73e+00])], dtype=object)\n",
      "idouble([AAD[rv] [adj] :15,3.00e+00])\n",
      "idouble([AAD[rv] [adj] :14,2.00e+00])\n",
      "idouble([AAD[rv] [adj] :18,6.00e+00])\n",
      "idouble([AAD[rv] [adj] :23,8.16e-01])\n",
      "idouble([AAD[rv] [adj] :22,6.00e+00])\n",
      "aadc.array([idouble([AAD[rv] [adj] :20,8.41e-01]),\n",
      "       idouble([AAD[rv] [adj] :11,9.77e-01]),\n",
      "       idouble([AAD[rv] [adj] :21,9.99e-01])], dtype=object)\n",
      "aadc.array([[idouble([AAD[rv] [adj] :29,1.00e+00]),\n",
      "        idouble([AAD[rv] [adj] :30,1.00e+00])],\n",
      "       [idouble([AAD[rv] [adj] :28,1.00e+00]), 1.0]], dtype=object)\n",
      "You are using evaluation version of AADC. Expire date is 20250201\n"
     ]
    }
   ],
   "source": [
    "arr = aadc.array([1.0, 2.0, 3.0])\n",
    "\n",
    "with record_kernel() as kernel:\n",
    "    arr.mark_as_input()\n",
    "\n",
    "    # Some popular unary functions\n",
    "    cumsum_arr = np.cumsum(arr)\n",
    "    print(cumsum_arr) \n",
    "    \n",
    "    cumsum_arr = np.exp(arr)\n",
    "    print(cumsum_arr) \n",
    "    \n",
    "    cumsum_arr = np.sqrt(arr)\n",
    "    print(cumsum_arr) \n",
    "    \n",
    "    max_val = np.max(arr)\n",
    "    print(max_val)\n",
    "    \n",
    "    mean_val = np.mean(arr)\n",
    "    print(mean_val)\n",
    "    \n",
    "    prod_val = np.prod(arr)\n",
    "    print(prod_val)\n",
    "    \n",
    "    std_val = np.std(arr)\n",
    "    print(std_val)\n",
    "    \n",
    "    sum_val = np.sum(arr)\n",
    "    print(sum_val)\n",
    "\n",
    "    # Scipy ufuncs also work\n",
    "    sum_val = scipy.special.ndtr(arr)\n",
    "    print(sum_val)\n",
    "\n",
    "    # Can mix numpy and AADCArray as needed\n",
    "    y = np.array([3.0, 4.0, 5.0])\n",
    "    cov_val = np.cov(arr, y)\n",
    "    print(cov_val)"
   ]
  },
  {
   "cell_type": "markdown",
   "id": "67653398-5926-4b82-afe3-b5af91218c0f",
   "metadata": {},
   "source": [
    "You can also manipulate AADCArrays using Numpy functions (concatenate, stack, expand_dims and so on...)"
   ]
  },
  {
   "cell_type": "code",
   "execution_count": 4,
   "id": "3a5f1595-9fd0-43ba-ae10-e77653a9e28b",
   "metadata": {},
   "outputs": [
    {
     "name": "stdout",
     "output_type": "stream",
     "text": [
      "aadc.array([[idouble([AAD[rv] [adj] :7,1.00e+00]),\n",
      "        idouble([AAD[rv] [adj] :8,2.00e+00])],\n",
      "       [idouble([AAD[rv] [adj] :7,1.00e+00]),\n",
      "        idouble([AAD[rv] [adj] :8,2.00e+00])]], dtype=object)\n",
      "aadc.array([[1., 1.],\n",
      "       [2., 2.]])\n",
      "aadc.array([[idouble([AAD[rv] [adj] :9,1.00e+00]),\n",
      "        idouble([AAD[rv] [adj] :10,2.00e+00])],\n",
      "       [idouble([AAD[rv] [adj] :11,3.00e+00]),\n",
      "        idouble([AAD[rv] [adj] :12,4.00e+00])],\n",
      "       [5.0, 6.0]], dtype=object)\n",
      "aadc.array([[idouble([AAD[rv] [adj] :13,1.00e+00])],\n",
      "       [idouble([AAD[rv] [adj] :14,2.00e+00])]], dtype=object)\n",
      "You are using evaluation version of AADC. Expire date is 20250201\n"
     ]
    }
   ],
   "source": [
    "with record_kernel() as kernel:\n",
    "    # Broadcast arrays to a common shape\n",
    "    arr1 = aadc.array([1.0, 2.0])\n",
    "    arr1.mark_as_input()\n",
    "    arr2 = aadc.array([[1.0], [2.0]])\n",
    "    arr1.mark_as_input()\n",
    "    arr1, arr2 = np.broadcast_arrays(arr1, arr2)\n",
    "    print(arr1)  # Output: [[1.0, 2.0], [1.0, 2.0]]\n",
    "    print(arr2)  # Output: [[1.0, 1.0], [2.0, 2.0]]\n",
    "    \n",
    "    # Concatenate arrays along an axis\n",
    "    arr1 = aadc.array([[1.0, 2.0], [3.0, 4.0]])\n",
    "    arr1.mark_as_input()\n",
    "    arr2 = aadc.array([[5.0, 6.0]])\n",
    "    arr1.mark_as_input()\n",
    "    arr_concat = np.concatenate((arr1, arr2), axis=0)\n",
    "    print(arr_concat)  # Output: [[1.0, 2.0], [3.0, 4.0], [5.0, 6.0]]\n",
    "    \n",
    "    # Expand the shape of an array\n",
    "    arr = aadc.array([1.0, 2.0])\n",
    "    arr.mark_as_input()\n",
    "    arr_expanded = np.expand_dims(arr, axis=1)\n",
    "    print(arr_expanded)  # Output: [[1.0], [2.0]]"
   ]
  },
  {
   "cell_type": "markdown",
   "id": "37b6ca08-d059-4436-ae6c-7abcadb3648c",
   "metadata": {},
   "source": [
    "* Some more advanced functions are also supported, for example interpolation and binary search.\n",
    "* Note: in the example below we interpolate based on *active inputs* and *active values* on a *fixed* grid\n",
    "* Example application in finance would be Local Volatility"
   ]
  },
  {
   "cell_type": "code",
   "execution_count": 5,
   "id": "bbcd2656-898a-4afd-b169-be43d9a52f32",
   "metadata": {},
   "outputs": [
    {
     "name": "stdout",
     "output_type": "stream",
     "text": [
      "aadc.array([iint(1), iint(2), iint(2), iint(3)], dtype=object)\n",
      "aadc.array([idouble([AAD[rv] :23,2.00e+00]), idouble([AAD[rv] :24,3.00e+00]),\n",
      "       idouble([AAD[rv] :25,3.00e+00]), idouble([AAD[rv] :26,4.00e+00])],\n",
      "      dtype=object)\n",
      "You are using evaluation version of AADC. Expire date is 20250201\n",
      "aadc.array([idouble([AAD[rv] [adj] :36,1.00e+00]),\n",
      "       idouble([AAD[rv] [adj] :73,6.50e+00]),\n",
      "       idouble([AAD[rv] [adj] :74,9.00e+00]),\n",
      "       idouble([AAD[rv] [adj] :75,1.60e+01])], dtype=object)\n"
     ]
    },
    {
     "name": "stderr",
     "output_type": "stream",
     "text": [
      "/home/ocmob/dev/aadc/AADC-Python-Bindings/src/aadc/ndarray.py:314: RuntimeWarning: invalid value encountered in __truediv__ (vectorized)\n",
      "  results = method_to_call(i0, i1, out=out, **kwargs)\n"
     ]
    }
   ],
   "source": [
    "with record_kernel():\n",
    "    # Binary search\n",
    "    x_args = aadc.array([1.0, 2.0, 3.0, 4.0])\n",
    "    x0_vals = aadc.array([1.1, 2.5, 3.0, 3.9])\n",
    "    x0_vals.mark_as_input()\n",
    "    idxs = np.searchsorted(x_args, x0_vals)\n",
    "    print(idxs)\n",
    "\n",
    "    # You can index AADCArrays with active types\n",
    "    print(x_args[idxs])\n",
    "    \n",
    "    # Interpolation\n",
    "    x_args = aadc.array([1.0, 2.0, 3.0, 4.0])\n",
    "    x0_vals = aadc.array([0.5, 2.5, 3.0, 4.5])\n",
    "    x0_vals.mark_as_input()\n",
    "    y_args = aadc.array([1.0, 4.0, 9.0, 16.0])\n",
    "    y_args.mark_as_input()\n",
    "    y0_vals = np.interp(x0_vals, x_args, y_args)\n",
    "    print(y0_vals)"
   ]
  },
  {
   "cell_type": "markdown",
   "id": "41e74d18-7848-4529-818e-458fa413bc0e",
   "metadata": {},
   "source": [
    "* As we are in the AAD setting, we cannot support recording `if`-based branches if the condition is active\n",
    "* In a nutshell - whenever branch depends on a kernel input (is not fixed), we have to record both sides\n",
    "* In cases where output needs to be selected based on a binary condition, you can use `np.where`"
   ]
  },
  {
   "cell_type": "code",
   "execution_count": 6,
   "id": "5988cd0f-ed02-4ca0-b291-e1277b8dc58e",
   "metadata": {},
   "outputs": [
    {
     "name": "stdout",
     "output_type": "stream",
     "text": [
      "aadc.array([idouble([AAD[rv] [adj] :41,-2.00e+00]),\n",
      "       idouble([AAD[rv] [adj] :54,-1.00e+00]),\n",
      "       idouble([AAD[rv] [adj] :55,6.00e+00]),\n",
      "       idouble([AAD[rv] [adj] :56,2.00e+00]),\n",
      "       idouble([AAD[rv] [adj] :57,1.00e+01])], dtype=object)\n",
      "You are using evaluation version of AADC. Expire date is 20250201\n"
     ]
    }
   ],
   "source": [
    "with record_kernel():\n",
    "    # Create some input arrays\n",
    "    arr1 = aadc.array([-1.0, -2.0, 3.0, 4.0, 5.0])\n",
    "    arr2 = aadc.array([1.0, 2.0, 3.0, 4.0, 5.0])\n",
    "    arr3 = aadc.array([3.0, 1.0, 1.0, 1.0, 5.0])\n",
    "    \n",
    "    # Mark the input arrays as active\n",
    "    arr1.mark_as_input()\n",
    "    arr2.mark_as_input()\n",
    "    arr3.mark_as_input()\n",
    "    \n",
    "    # Define binary conditions\n",
    "    cond1 = arr1 > 2\n",
    "    cond2 = arr2 < 4\n",
    "    cond3 = arr3 != 1\n",
    "    \n",
    "    # Combine the conditions using logical operations\n",
    "    combined_cond = (cond1 & cond2) | cond3\n",
    "    \n",
    "    # Use np.where with the combined condition\n",
    "    result = np.where(combined_cond, arr1 * 2, arr1 / 2)\n",
    "    print(result)"
   ]
  },
  {
   "cell_type": "markdown",
   "id": "e3ee2f72-e4b3-4f57-861f-2e7ef99441b8",
   "metadata": {},
   "source": [
    "* Recording has a built-in overrides feature which allows you to monkey-patch buried instantiations that would otherwise be problematic to deal with.\n",
    "* In the example below we try to assign AADCArrays into **slices** of Numpy arrays, which will raise exceptions\n",
    "* Only way to deal with it is to instantiate asset_price_movements as AADCArray, which can be done manually or by requesting overrides (if you really don't want to modify code)"
   ]
  },
  {
   "cell_type": "code",
   "execution_count": 7,
   "id": "d0a08bb4-9815-4fb0-bcb8-0d597a65661d",
   "metadata": {},
   "outputs": [],
   "source": [
    "def problematic_code(log_returns):\n",
    "    asset_price_movements = np.ones((T, assets))\n",
    "    for t in range(T):\n",
    "        asset_price_movements[t, :] = asset_price_movements[t - 1, :] * np.exp(log_returns)\n",
    "    return asset_price_movements\n",
    "\n",
    "rng = np.random.default_rng(1234)\n",
    "\n",
    "assets = 10\n",
    "T = 100"
   ]
  },
  {
   "cell_type": "code",
   "execution_count": 8,
   "id": "f292df2c-ce82-4379-99c7-c5563583b44c",
   "metadata": {},
   "outputs": [
    {
     "name": "stdout",
     "output_type": "stream",
     "text": [
      "Cannot convert an active AADCArray to a numpy array\n",
      "You are using evaluation version of AADC. Expire date is 20250201\n"
     ]
    }
   ],
   "source": [
    "# Without overrides\n",
    "with record_kernel() as kernel:\n",
    "    log_returns = aadc.array(rng.standard_normal(assets))\n",
    "    log_returns.mark_as_input()\n",
    "    try: \n",
    "        asset = problematic_code(log_returns)\n",
    "    except Exception as e:\n",
    "        print(e)"
   ]
  },
  {
   "cell_type": "code",
   "execution_count": 9,
   "id": "1ec49ea3-054f-4f2a-b2f7-c71baf78e657",
   "metadata": {},
   "outputs": [
    {
     "name": "stdout",
     "output_type": "stream",
     "text": [
      "You are using evaluation version of AADC. Expire date is 20250201\n"
     ]
    }
   ],
   "source": [
    "# With overrides\n",
    "from aadc.overrides import aadc_overrides\n",
    "\n",
    "with aadc_overrides([\"np.ones\"]):\n",
    "    with record_kernel() as kernel:\n",
    "        log_returns = aadc.array(rng.standard_normal(assets))\n",
    "        log_returns.mark_as_input()\n",
    "        asset = problematic_code(log_returns)"
   ]
  }
 ],
 "metadata": {
  "kernelspec": {
   "display_name": "Python 3 (ipykernel)",
   "language": "python",
   "name": "python3"
  },
  "language_info": {
   "codemirror_mode": {
    "name": "ipython",
    "version": 3
   },
   "file_extension": ".py",
   "mimetype": "text/x-python",
   "name": "python",
   "nbconvert_exporter": "python",
   "pygments_lexer": "ipython3",
   "version": "3.11.11"
  }
 },
 "nbformat": 4,
 "nbformat_minor": 5
}
