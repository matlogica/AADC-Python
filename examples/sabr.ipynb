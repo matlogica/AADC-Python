{
 "cells": [
  {
   "cell_type": "code",
   "execution_count": null,
   "metadata": {},
   "outputs": [],
   "source": [
    "import numpy as np\n",
    "import aadc\n",
    "\n",
    "def sabr_normal_vol_atm(fwd, expiry, beta, sig0, rho, nu):\n",
    "    F = fwd\n",
    "    t = expiry\n",
    "    t = np.where(abs(t) < 1e-10, 1e-10, t)\n",
    "\n",
    "    c1 = 1 + ((2 - 3 * rho ** 2) / 24) * (nu ** 2) * t\n",
    "    c2 = (rho * beta * nu * t) / (4 * F ** (1 - beta))\n",
    "    c3 = beta * (beta - 2) * t / (24 * F ** (2 - 2 * beta))\n",
    "\n",
    "    sig_n = (c1 * sig0 + c2 * sig0 ** 2 + c3 * sig0 ** 3) / (F ** (-beta))\n",
    "\n",
    "    return sig_n\n",
    "\n",
    "\n",
    "def sabr_normal_vol_otm(fwd, strike, expiry, beta, sig0, rho, nu):\n",
    "    F = fwd\n",
    "    K = strike\n",
    "    t = expiry\n",
    "    t = np.where(abs(t) < 1e-10, 1e-10, t)\n",
    "\n",
    "    k = K / F\n",
    "    alpha = sig0 / (F ** (1 - beta))\n",
    "\n",
    "    beta_close_to_one = np.isclose(beta, 1, 1e-10)\n",
    "    q = np.where(beta_close_to_one, np.log(k), (k ** (1 - beta) - 1) / (1 - beta))\n",
    "\n",
    "    z = q * nu / alpha\n",
    "    z_close_to_zero = np.isclose(z, 0, 1e-10)\n",
    "    z = np.where(z_close_to_zero, np.nan, z)\n",
    "\n",
    "    _H = z / np.log((np.sqrt(1 + 2 * rho * z + z ** 2) + z + rho) / (1 + rho))\n",
    "\n",
    "    H = np.where(z_close_to_zero, 1, _H)\n",
    "\n",
    "    _B = np.log((q * k ** (beta / 2)) / (k - 1)) * (alpha ** 2) / (q ** 2)\n",
    "    _B += (rho / 4) * ((k ** beta - 1) / (k - 1)) * alpha * nu\n",
    "    _B += ((2 - 3 * rho ** 2) / 24) * (nu ** 2)\n",
    "\n",
    "    B = ((k - 1) / q) * (1 + _B * t)\n",
    "\n",
    "    sig_n = sig0 * (F ** beta) * H * B\n",
    "\n",
    "    return sig_n\n",
    "\n",
    "\n",
    "def sabr_normal_vol(fwd, strike, expiry, beta, sig0, rho, nu):\n",
    "    F, K, expiry, beta, sig0, rho, nu = np.broadcast_arrays(fwd, strike, expiry, beta, sig0, rho, nu)\n",
    "\n",
    "    return np.where(np.isclose(F, K, 1e-6),\n",
    "                     sabr_normal_vol_atm(F, expiry, beta, sig0, rho, nu),\n",
    "                     sabr_normal_vol_otm(F, K, expiry, beta, sig0, rho, nu))\n"
   ]
  },
  {
   "cell_type": "code",
   "execution_count": null,
   "metadata": {},
   "outputs": [],
   "source": [
    "ncalibrations = 1000\n",
    "\n",
    "# Generate market data\n",
    "fwd = np.linspace(0.01, 0.05, ncalibrations)\n",
    "beta = np.tile([0.5, 0.6, 0.7, 0.8, 0.9], -(-ncalibrations // 5))[:ncalibrations]\n",
    "expiry = np.tile(np.linspace(1, 10, 10), -(-ncalibrations // 10))[:ncalibrations]\n",
    "\n",
    "np.random.seed(42)\n",
    "sig0 = np.random.uniform(0.01, 0.05, ncalibrations)\n",
    "rho = np.random.uniform(-0.5, 0., ncalibrations)\n",
    "nu = np.random.uniform(0.2, 0.6, ncalibrations)\n",
    "\n",
    "# 7 strikes, each row is an independent calibration scenario\n",
    "strikes = np.linspace(0.25, 1.75, 7).reshape(-1, 1) * fwd\n",
    "vols = sabr_normal_vol(fwd, strikes, expiry, beta, sig0, rho, nu)\n",
    "strikes,vols"
   ]
  },
  {
   "cell_type": "code",
   "execution_count": null,
   "metadata": {},
   "outputs": [],
   "source": [
    "from scipy.optimize import least_squares\n",
    "vol_weights = [1., 1., 1., 100., 1., 1., 1.]\n",
    "\n",
    "def residual(x, fwd, beta, expiry, strikes, vols):\n",
    "    sig0, rho, nu = x\n",
    "    rho = np.broadcast_to(rho, vols.shape)\n",
    "\n",
    "    return np.where(np.abs(rho) > 0.9999,\n",
    "                    np.ones_like(vols) * 1e6,\n",
    "                    vol_weights * (sabr_normal_vol(fwd, strikes, expiry, beta, sig0, rho, nu) - vols))\n",
    "\n",
    "x0 = np.array([0.02, -0.25, 0.03])\n",
    "\n",
    "def sabr_normal_smile_fit(scen):\n",
    "    results = least_squares(\n",
    "        residual,\n",
    "        x0,\n",
    "        args=(fwd[scen], beta[scen], expiry[scen], strikes[:, scen], vols[:, scen]),\n",
    "        method=\"lm\",\n",
    "        xtol=1e-6)\n",
    "\n",
    "    return results.x"
   ]
  },
  {
   "cell_type": "markdown",
   "metadata": {},
   "source": [
    "Solve for sig0, rho, nu for each scenario:"
   ]
  },
  {
   "cell_type": "code",
   "execution_count": null,
   "metadata": {},
   "outputs": [],
   "source": [
    "sig0_bar, rho_bar, nu_bar = np.transpose([sabr_normal_smile_fit(j) for j in range(ncalibrations)])\n",
    "\n",
    "rho_bar, nu_bar = np.where(nu_bar < 0, -rho_bar, rho_bar), np.abs(nu_bar)"
   ]
  },
  {
   "cell_type": "code",
   "execution_count": null,
   "metadata": {},
   "outputs": [],
   "source": [
    "assert np.allclose(sig0_bar, sig0, atol=1e-10)\n",
    "assert np.allclose(rho_bar, rho, atol=1e-10)\n",
    "assert np.allclose(nu_bar, nu, atol=1e-10)\n",
    "# sig0_bar - sig0, rho_bar - rho, nu_bar - nu\n",
    "# np.argmax(np.abs(sig0_bar - sig0)), np.argmax(np.abs(rho_bar - rho)), np.argmax(np.abs(nu_bar - nu))\n"
   ]
  },
  {
   "cell_type": "markdown",
   "metadata": {},
   "source": [
    "Now AADC the whole thing"
   ]
  },
  {
   "cell_type": "code",
   "execution_count": null,
   "metadata": {},
   "outputs": [],
   "source": [
    "kernel = aadc.record(residual, x0, params=(fwd[0], beta[0], expiry[0], strikes[:, 0], vols[:, 0]), bump_size=1e-10)"
   ]
  },
  {
   "cell_type": "code",
   "execution_count": null,
   "metadata": {},
   "outputs": [],
   "source": [
    "def sabr_normal_smile_fit_aadc(scen):\n",
    "    kernel.set_params(fwd[scen], beta[scen], expiry[scen], strikes[:, scen], vols[:, scen])\n",
    "    results = least_squares(\n",
    "        kernel.func,\n",
    "        x0,\n",
    "        jac=kernel.jac,\n",
    "        method=\"lm\",\n",
    "        xtol=1e-6)\n",
    "\n",
    "    return results.x"
   ]
  },
  {
   "cell_type": "markdown",
   "metadata": {},
   "source": [
    "Moment of truth:"
   ]
  },
  {
   "cell_type": "code",
   "execution_count": null,
   "metadata": {},
   "outputs": [],
   "source": [
    "sig0_star, rho_star, nu_star = np.transpose([sabr_normal_smile_fit_aadc(j) for j in range(ncalibrations)])\n",
    "rho_star, nu_star = np.where(nu_star < 0, -rho_star, rho_star), np.abs(nu_star)\n",
    "\n",
    "assert np.allclose(sig0_bar, sig0_star, atol=1e-10)\n",
    "assert np.allclose(rho_bar, rho_star, atol=1e-10)\n",
    "assert np.allclose(nu_bar, nu_star, atol=1e-10)\n",
    "\n",
    "# sig0_star - sig0_bar, rho_star - rho_bar, nu_star - nu_bar\n",
    "# np.argmax(np.abs(sig0_star - sig0_bar)), np.argmax(np.abs(rho_star - rho_bar)), np.argmax(np.abs(nu_star - nu_bar))\n",
    "\n"
   ]
  }
 ],
 "metadata": {
  "kernelspec": {
   "display_name": "Python 3",
   "language": "python",
   "name": "python3"
  },
  "language_info": {
   "codemirror_mode": {
    "name": "ipython",
    "version": 3
   },
   "file_extension": ".py",
   "mimetype": "text/x-python",
   "name": "python",
   "nbconvert_exporter": "python",
   "pygments_lexer": "ipython3",
   "version": "3.11.8"
  }
 },
 "nbformat": 4,
 "nbformat_minor": 2
}
