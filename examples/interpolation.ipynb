{
 "cells": [
  {
   "cell_type": "code",
   "execution_count": 24,
   "metadata": {},
   "outputs": [
    {
     "name": "stdout",
     "output_type": "stream",
     "text": [
      "You are using evaluation version of AADC. Expire date is 20250201\n"
     ]
    }
   ],
   "source": [
    "import numpy as np\n",
    "\n",
    "import aadc\n",
    "from aadc.scipy.interpolate import interp1d, CubicSpline\n",
    "\n",
    "N = 10\n",
    "\n",
    "def func(t, xs, ys):\n",
    "    yt = np.interp(t, xs, ys)\n",
    "    t2 = 0.25\n",
    "    yt2 = np.interp(t2, xs, ys)\n",
    "    return yt+yt2\n",
    "\n",
    "with aadc.record_kernel() as kernel:\n",
    "    xs_numpy = np.linspace(0,1,N)\n",
    "    ys_numpy = np.linspace(0,1,N)\n",
    "    xs = aadc.array(xs_numpy)\n",
    "    ys = aadc.array(ys_numpy)\n",
    "    xs_args = xs.mark_as_input()\n",
    "    ys_args = ys.mark_as_input()\n",
    "    t = xs.mean()\n",
    "    arg_t = t.mark_as_input()\n",
    "    res = func(t, xs, ys)\n",
    "    out_res = res.mark_as_output()\n",
    "\n",
    "t_test = 0.5\n",
    "\n",
    "f = aadc.VectorFunctionWithAD(kernel, args=[arg_t], res=[out_res], param_args=np.r_[xs_args, ys_args])\n",
    "f.set_params(np.r_[xs_numpy, ys_numpy])\n",
    "value, jacobian = f.evaluate(np.array([t_test]))\n",
    "\n",
    "assert np.allclose(value.squeeze(), func(t_test, xs_numpy, ys_numpy))\n",
    "\n",
    "eps = 1e-3\n",
    "fd_derivative = (func(t_test + eps, xs_numpy, ys_numpy) - func(t_test - eps, xs_numpy, ys_numpy)) / (2 * eps)\n",
    "assert np.allclose(fd_derivative, jacobian.squeeze())"
   ]
  },
  {
   "cell_type": "code",
   "execution_count": 25,
   "metadata": {},
   "outputs": [
    {
     "name": "stdout",
     "output_type": "stream",
     "text": [
      "You are using evaluation version of AADC. Expire date is 20250201\n"
     ]
    }
   ],
   "source": [
    "def func_scipy(t, xs, ys):\n",
    "    linear = interp1d(xs, ys, kind='linear')\n",
    "    cubic_legacy = interp1d(xs, ys, kind='cubic')\n",
    "    cubic_new = CubicSpline(xs, ys, bc_type='clamped')\n",
    "    return linear(t) + cubic_legacy(t) + cubic_new(t)\n",
    "\n",
    "# Main kernel recording with context manager\n",
    "with aadc.record_kernel() as kernel:\n",
    "    xs_numpy = np.linspace(0, 1, N)\n",
    "    ys_numpy = np.linspace(0, 1, N)\n",
    "    xs = aadc.array(xs_numpy)\n",
    "    ys = aadc.array(ys_numpy)\n",
    "    xs_args = xs.mark_as_input()\n",
    "    ys_args = ys.mark_as_input()\n",
    "    t = xs.mean()\n",
    "    arg_t = t.mark_as_input()\n",
    "    res = func_scipy(t, xs, ys)\n",
    "    out_res = res.mark_as_output()\n",
    "\n",
    "# Test the function\n",
    "t_test = 0.5\n",
    "f = aadc.VectorFunctionWithAD(kernel, args=[arg_t], res=[out_res], param_args=np.r_[xs_args, ys_args])\n",
    "f.set_params(np.r_[xs_numpy, ys_numpy])\n",
    "value, jacobian = f.evaluate(np.array([t_test]))\n",
    "\n",
    "# Verify results\n",
    "assert np.allclose(value.squeeze(), func_scipy(t_test, xs_numpy, ys_numpy))\n",
    "\n",
    "# Check derivatives\n",
    "eps = 1e-3\n",
    "fd_derivative = (func_scipy(t_test + eps, xs_numpy, ys_numpy) - func_scipy(t_test - eps, xs_numpy, ys_numpy)) / (2 * eps)\n",
    "assert np.allclose(fd_derivative, jacobian.squeeze())"
   ]
  }
 ],
 "metadata": {
  "kernelspec": {
   "display_name": "aadcpy",
   "language": "python",
   "name": "python3"
  },
  "language_info": {
   "codemirror_mode": {
    "name": "ipython",
    "version": 3
   },
   "file_extension": ".py",
   "mimetype": "text/x-python",
   "name": "python",
   "nbconvert_exporter": "python",
   "pygments_lexer": "ipython3",
   "version": "3.11.11"
  }
 },
 "nbformat": 4,
 "nbformat_minor": 2
}
