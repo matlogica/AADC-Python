{
 "cells": [
  {
   "cell_type": "code",
   "execution_count": 1,
   "metadata": {},
   "outputs": [],
   "source": [
    "import aadc\n",
    "import aadc.quantlib as ql\n",
    "import numpy as np\n",
    "import matplotlib.pyplot as plt\n",
    "import ipywidgets as widgets\n",
    "from ipywidgets import interactive\n",
    "import random\n",
    "import time"
   ]
  },
  {
   "cell_type": "code",
   "execution_count": 2,
   "metadata": {},
   "outputs": [],
   "source": [
    "def createRandomSwaps(num_trades, todays_date, calendar):\n",
    "    random.seed(42)\n",
    "    portfolio = []\n",
    "\n",
    "    for _ in range(num_trades):\n",
    "        discounting_term_structure = ql.RelinkableYieldTermStructureHandle()\n",
    "        forecasting_term_structure = ql.RelinkableYieldTermStructureHandle()\n",
    "\n",
    "        nominal = 1000000.0 * (100.0 + random.randint(0, 399)) * (-1.0 + 2 * random.randint(0, 1))\n",
    "\n",
    "        # Fixed leg\n",
    "        fixed_leg_frequency = ql.Bimonthly\n",
    "        fixed_leg_convention = ql.Unadjusted\n",
    "        floating_leg_convention = ql.ModifiedFollowing\n",
    "        fixed_leg_day_counter = ql.Thirty360(ql.Thirty360.European)\n",
    "        fixed_rate = 0.03\n",
    "        floating_leg_day_counter = ql.Actual360()\n",
    "        start_date = todays_date + ql.Period(10 + random.randint(0, 359), ql.Days)\n",
    "\n",
    "        # Floating leg\n",
    "        floating_leg_frequency = ql.Semiannual\n",
    "        euribor_index = ql.Euribor6M(forecasting_term_structure)\n",
    "        spread = 0.0\n",
    "\n",
    "        length_in_years = 2 + random.randint(0, 19)\n",
    "\n",
    "        swap_type = ql.VanillaSwap.Payer\n",
    "\n",
    "        maturity_date = start_date + ql.Period(length_in_years, ql.Years)\n",
    "        fixed_schedule = ql.Schedule(start_date, maturity_date, ql.Period(fixed_leg_frequency), calendar,\n",
    "                                     fixed_leg_convention, fixed_leg_convention, ql.DateGeneration.Forward, False)\n",
    "        floating_schedule = ql.Schedule(start_date, maturity_date, ql.Period(floating_leg_frequency), calendar,\n",
    "                                        floating_leg_convention, floating_leg_convention, ql.DateGeneration.Forward, False)\n",
    "\n",
    "        random_vanilla_swap = ql.VanillaSwap(\n",
    "            swap_type, nominal, fixed_schedule, fixed_rate, fixed_leg_day_counter,\n",
    "            floating_schedule, euribor_index, spread, floating_leg_day_counter\n",
    "        )\n",
    "\n",
    "        swap_engine = ql.DiscountingSwapEngine(discounting_term_structure)\n",
    "        random_vanilla_swap.setPricingEngine(swap_engine)\n",
    "\n",
    "        portfolio.append((random_vanilla_swap, discounting_term_structure, forecasting_term_structure))\n",
    "\n",
    "    return portfolio"
   ]
  },
  {
   "cell_type": "code",
   "execution_count": 3,
   "metadata": {},
   "outputs": [],
   "source": [
    "def record_kernel(portfolio, dates):\n",
    "    kernel = aadc.Kernel()\n",
    "    kernel.start_recording()\n",
    "\n",
    "    zero_rates = aadc.array(np.zeros(len(dates)))\n",
    "    zero_args = zero_rates.mark_as_input()\n",
    "\n",
    "    total_npv = aadc.idouble(0.0)\n",
    "\n",
    "    log_linear_curve = ql.ZeroCurve(dates, zero_rates.tolist(), ql.Actual360(), ql.TARGET())\n",
    "\n",
    "    for (swap, discounting_term_structure, forecasting_term_structure) in portfolio:\n",
    "        discounting_term_structure.linkTo(log_linear_curve)\n",
    "        forecasting_term_structure.linkTo(log_linear_curve)\n",
    "        total_npv += swap.NPV()\n",
    "\n",
    "    res = total_npv.mark_as_output()\n",
    "    kernel.stop_recording()\n",
    "\n",
    "    return (kernel, { res: zero_args })"
   ]
  },
  {
   "cell_type": "code",
   "execution_count": 4,
   "metadata": {},
   "outputs": [
    {
     "name": "stdout",
     "output_type": "stream",
     "text": [
      "You are using evaluation version of AADC. Expire date is 20240901\n",
      "Recording time:  6.944329261779785\n",
      "Number active to passive conversions: 0 while recording Python\n"
     ]
    }
   ],
   "source": [
    "\n",
    "num_trades = 1000\n",
    "todays_date = ql.Date(12, ql.June, 2024)\n",
    "calendar = ql.TARGET()\n",
    "\n",
    "portfolio = createRandomSwaps(num_trades, todays_date, calendar)\n",
    "dates = [todays_date + ql.Period(i, ql.Years) for i in range(1, 21)]\n",
    "\n",
    "mark_time = time.time()\n",
    "(kernel, request) = record_kernel(portfolio, dates)\n",
    "\n",
    "print(\"Recording time: \", time.time() - mark_time)\n",
    "\n",
    "kernel.print_passive_extract_locations()"
   ]
  },
  {
   "cell_type": "code",
   "execution_count": 5,
   "metadata": {},
   "outputs": [
    {
     "data": {
      "text/plain": [
       "(array([0.0106, 0.0039, 0.0028, 0.0119, 0.006 , 0.0056, 0.0053, 0.0042,\n",
       "        0.0119, 0.0038, 0.0111, 0.0119, 0.0094, 0.0036, 0.01  , 0.0079,\n",
       "        0.0029, 0.0028, 0.0036, 0.0052]),\n",
       " ({Res(469483): array([2.01500209e+09])},\n",
       "  {Res(469483): {Arg(7): array([-9.76468126e+08]),\n",
       "    Arg(8): array([2.68719605e+09]),\n",
       "    Arg(9): array([2.54149102e+09]),\n",
       "    Arg(10): array([-6.17801339e+09]),\n",
       "    Arg(11): array([-8.76170047e+09]),\n",
       "    Arg(12): array([7.58053653e+09]),\n",
       "    Arg(13): array([4.69419654e+09]),\n",
       "    Arg(14): array([-1.11218181e+10]),\n",
       "    Arg(15): array([-8.82925663e+08]),\n",
       "    Arg(16): array([-4.69551855e+09]),\n",
       "    Arg(17): array([-7.86757459e+09]),\n",
       "    Arg(18): array([-1.2513143e+10]),\n",
       "    Arg(19): array([9.8414201e+09]),\n",
       "    Arg(20): array([7.20969485e+09]),\n",
       "    Arg(21): array([1.57518928e+10]),\n",
       "    Arg(22): array([2.98576163e+09]),\n",
       "    Arg(23): array([-1.40481582e+10]),\n",
       "    Arg(24): array([2.1454651e+10]),\n",
       "    Arg(25): array([-4.55882262e+10]),\n",
       "    Arg(26): array([-6.50050414e+10])}}))"
      ]
     },
     "execution_count": 5,
     "metadata": {},
     "output_type": "execute_result"
    }
   ],
   "source": [
    "def calc_risks(seed):\n",
    "    random.seed(seed)\n",
    "    zero_rates = np.zeros(len(dates))\n",
    "    for i in range(len(dates)):\n",
    "        zero_rates[i] = 0.0025 + 0.005 * 0.02 * random.randint(0, 99)\n",
    "\n",
    "    args = list(request.values())[0]\n",
    "    r = aadc.evaluate(kernel, request, { a: [x] for a, x in zip(args, zero_rates) }, aadc.ThreadPool(1))\n",
    "    return (zero_rates, r)\n",
    "\n",
    "calc_risks(42)"
   ]
  },
  {
   "cell_type": "code",
   "execution_count": 7,
   "metadata": {},
   "outputs": [
    {
     "data": {
      "application/vnd.jupyter.widget-view+json": {
       "model_id": "d87e495c990849d092b6940082104d6b",
       "version_major": 2,
       "version_minor": 0
      },
      "text/plain": [
       "interactive(children=(FloatSlider(value=42.0, continuous_update=False, description='Seed:', min=1.0, step=1.0)…"
      ]
     },
     "execution_count": 7,
     "metadata": {},
     "output_type": "execute_result"
    }
   ],
   "source": [
    "def plot_risks(seed):\n",
    "    (zero_rates, r) = calc_risks(seed)\n",
    "\n",
    "    risks = [item for subdict in r[1].values() for sublist in subdict.values() for item in sublist]\n",
    "    assert(len(risks) == len(dates))\n",
    "\n",
    "    plot_years = range(1, 21)\n",
    "    assert(len(plot_years) == len(dates))\n",
    "\n",
    "    plt.figure(figsize=(14, 6))\n",
    "    plt.subplot(1, 2, 1)\n",
    "    plt.plot(plot_years, zero_rates, marker='o', linestyle='-', color='b')\n",
    "    plt.xlabel('Year')\n",
    "    plt.ylabel('Zero Rate')\n",
    "    plt.title('Zero Rate Curve')\n",
    "    plt.grid(True)\n",
    "    plt.ylim(0, max(zero_rates) * 1.5)\n",
    "\n",
    "    # Plotting the riks\n",
    "    plt.subplot(1, 2, 2)\n",
    "    plt.plot(plot_years, risks, marker='o', linestyle='-', color='r')\n",
    "    plt.xlabel('Year')\n",
    "    plt.ylabel('Zero risk')\n",
    "    plt.title('Zero risks')\n",
    "    plt.grid(True)\n",
    "    plt.ylim(min(risks) * 1.5, max(risks) * 1.5)\n",
    "\n",
    "    plt.tight_layout()\n",
    "    plt.show()\n",
    "\n",
    "\n",
    "# Create interactive sliders for level and slope\n",
    "seed_slider = widgets.FloatSlider(\n",
    "    value=42,\n",
    "    min=1,\n",
    "    max=100,\n",
    "    step=1,\n",
    "    description='Seed:',\n",
    "    continuous_update=False\n",
    ")\n",
    "\n",
    "# Use interactive function to update the plot\n",
    "interactive_plot = interactive(plot_risks, seed=seed_slider)\n",
    "output = interactive_plot.children[-1]\n",
    "output.layout.height = '600px'\n",
    "interactive_plot\n"
   ]
  }
 ],
 "metadata": {
  "kernelspec": {
   "display_name": "Python 3",
   "language": "python",
   "name": "python3"
  },
  "language_info": {
   "codemirror_mode": {
    "name": "ipython",
    "version": 3
   },
   "file_extension": ".py",
   "mimetype": "text/x-python",
   "name": "python",
   "nbconvert_exporter": "python",
   "pygments_lexer": "ipython3",
   "version": "3.11.8"
  }
 },
 "nbformat": 4,
 "nbformat_minor": 2
}
