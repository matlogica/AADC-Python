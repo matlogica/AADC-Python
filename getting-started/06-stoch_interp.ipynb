{
 "cells": [
  {
   "cell_type": "markdown",
   "metadata": {},
   "source": [
    "<a href=\"https://colab.research.google.com/github/matlogica/AADC-Python/blob/main/getting-started/06-stoch_interp.ipynb\" target=\"_parent\"><img src=\"https://colab.research.google.com/assets/colab-badge.svg\" alt=\"Open In Colab\"/></a>"
   ]
  },
  {
   "cell_type": "code",
   "execution_count": 13,
   "metadata": {},
   "outputs": [],
   "source": [
    "import sys\n",
    "#!pip install https://matlogica.com/DemoReleases/aadc-1.7.5.26-cp3{sys.version_info.minor}-cp3{sys.version_info.minor}-linux_x86_64.whl\n",
    "import aadc\n",
    "import numpy as np\n",
    "import random\n"
   ]
  },
  {
   "cell_type": "code",
   "execution_count": 14,
   "metadata": {},
   "outputs": [
    {
     "name": "stdout",
     "output_type": "stream",
     "text": [
      "You are using evaluation version of AADC. Expire date is 20240901\n",
      "idouble([AAD[rv] [adj] :83,9.72e-01])\n",
      "Number active to passive conversions: 0 while recording Python\n"
     ]
    }
   ],
   "source": [
    "random.seed(42)\n",
    "from datetime import date, timedelta\n",
    "from dateutil.relativedelta import relativedelta\n",
    "\n",
    "# Get today's date\n",
    "today_date = date.today()\n",
    "dates = np.array([today_date + relativedelta(years=i) for i in range(21)])\n",
    "times = aadc.array([(date - today_date).days / 365 for date in dates])\n",
    "\n",
    "kernel = aadc.Kernel()\n",
    "kernel.start_recording()\n",
    "\n",
    "zero_rates = aadc.array([0.0025 + 0.005 * 0.02 * random.randint(0, 99) for i in range(len(dates))])\n",
    "zero_args = zero_rates.mark_as_input()\n",
    "\n",
    "dfs = np.exp(-zero_rates * times)\n",
    "t = aadc.idouble(5.0)\n",
    "arg_t = t.mark_as_input()\n",
    "df = np.interp(t, times, dfs)\n",
    "\n",
    "df_result = df.mark_as_output()\n",
    "print(df)\n",
    "\n",
    "kernel.stop_recording()\n",
    "kernel.print_passive_extract_locations()\n"
   ]
  },
  {
   "cell_type": "code",
   "execution_count": 15,
   "metadata": {},
   "outputs": [
    {
     "data": {
      "text/plain": [
       "[0.0,\n",
       " 0.0,\n",
       " 0.0,\n",
       " 0.0,\n",
       " -0.010966410208294638,\n",
       " -4.989033589791705,\n",
       " 0.0,\n",
       " 0.0,\n",
       " 0.0,\n",
       " 0.0,\n",
       " 0.0,\n",
       " 0.0,\n",
       " 0.0,\n",
       " 0.0,\n",
       " 0.0,\n",
       " 0.0,\n",
       " 0.0,\n",
       " 0.0,\n",
       " 0.0,\n",
       " 0.0,\n",
       " 0.0]"
      ]
     },
     "execution_count": 15,
     "metadata": {},
     "output_type": "execute_result"
    }
   ],
   "source": [
    "def get_aadc_risks(t):\n",
    "    request = { df_result: zero_args }\n",
    "    r = aadc.evaluate(kernel, request, { arg_t: [t] }, aadc.ThreadPool(1))\n",
    "    return [item for subdict in r[1].values() for sublist in subdict.values() for item in sublist]\n",
    "\n",
    "get_aadc_risks(5.0)"
   ]
  },
  {
   "cell_type": "code",
   "execution_count": 16,
   "metadata": {},
   "outputs": [
    {
     "data": {
      "application/vnd.jupyter.widget-view+json": {
       "model_id": "69a17088e3ef47e8b76a65d8700832e0",
       "version_major": 2,
       "version_minor": 0
      },
      "text/plain": [
       "interactive(children=(FloatSlider(value=5.0, description='Time: ', max=20.0, step=0.2), Output(layout=Layout(h…"
      ]
     },
     "execution_count": 16,
     "metadata": {},
     "output_type": "execute_result"
    }
   ],
   "source": [
    "import matplotlib.pyplot as plt\n",
    "import ipywidgets as widgets\n",
    "from ipywidgets import interactive\n",
    "\n",
    "\n",
    "def risk_plot(t):\n",
    "    risks = get_aadc_risks(t)\n",
    "\n",
    "    plt.figure(figsize=(10, 6))\n",
    "    plt.bar(range(len(times)), risks)\n",
    "    plt.xlabel('Years')\n",
    "    plt.ylabel('Sensitivity')\n",
    "    plt.title('Interpolated curve delta')\n",
    "    plt.show()\n",
    "\n",
    "    # Create interactive sliders for level and slope\n",
    "t_slider = widgets.FloatSlider(\n",
    "    value=5.0,\n",
    "    min=0.0,\n",
    "    max=20.0,\n",
    "    step=0.2,\n",
    "    description='Time: ',\n",
    "    continuous_update=True\n",
    ")\n",
    "\n",
    "# Use interactive function to update the plot\n",
    "interactive_plot = interactive(risk_plot, t=t_slider)\n",
    "output = interactive_plot.children[-1]\n",
    "output.layout.height = '600px'\n",
    "interactive_plot\n"
   ]
  }
 ],
 "metadata": {
  "kernelspec": {
   "display_name": "Python 3",
   "language": "python",
   "name": "python3"
  },
  "language_info": {
   "codemirror_mode": {
    "name": "ipython",
    "version": 3
   },
   "file_extension": ".py",
   "mimetype": "text/x-python",
   "name": "python",
   "nbconvert_exporter": "python",
   "pygments_lexer": "ipython3",
   "version": "3.11.8"
  }
 },
 "nbformat": 4,
 "nbformat_minor": 2
}
