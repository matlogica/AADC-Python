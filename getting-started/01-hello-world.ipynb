{
 "cells": [
  {
   "cell_type": "markdown",
   "id": "f058977c",
   "metadata": {},
   "source": [
    "<a href=\"https://colab.research.google.com/github/matlogica/AADC-Python/blob/main/getting-started/01-hello-world.ipynb\" target=\"_parent\"><img src=\"https://colab.research.google.com/assets/colab-badge.svg\" alt=\"Open In Colab\"/></a>"
   ]
  },
  {
   "cell_type": "markdown",
   "id": "908dd67a",
   "metadata": {},
   "source": [
    "# AADC basic \"Hello World\" example\n",
    "This example demonstrates how to use the AADC library to record a simple function and calculate its derivatives"
   ]
  },
  {
   "cell_type": "code",
   "execution_count": 1,
   "id": "23a8db96-2dba-4a06-81ae-8cb3d47472e1",
   "metadata": {},
   "outputs": [
    {
     "name": "stdout",
     "output_type": "stream",
     "text": [
      "Collecting aadc==1.7.5.2401\n",
      "  Using cached https://matlogica.com/DemoReleases/aadc-1.7.5.2401-cp311-cp311-linux_x86_64.whl (35.1 MB)\n"
     ]
    }
   ],
   "source": [
    "import sys\n",
    "!pip install https://matlogica.com/DemoReleases/aadc-1.7.5.2401-cp3{sys.version_info.minor}-cp3{sys.version_info.minor}-linux_x86_64.whl"
   ]
  },
  {
   "cell_type": "code",
   "execution_count": 2,
   "id": "4d2988b1-4dea-4032-b2c6-864d1f35c67a",
   "metadata": {},
   "outputs": [],
   "source": [
    "import aadc\n",
    "import numpy as np"
   ]
  },
  {
   "cell_type": "markdown",
   "id": "3ab0d54e",
   "metadata": {},
   "source": [
    "# Simple function to record\n",
    "The function can take arbitrary input types and can be defined in external file"
   ]
  },
  {
   "cell_type": "code",
   "execution_count": 3,
   "id": "40bbfc28-b257-4efe-b2f5-a8f77c911eba",
   "metadata": {},
   "outputs": [],
   "source": [
    "def F(x,y,z):\n",
    "    return np.exp(x / y + z)"
   ]
  },
  {
   "cell_type": "markdown",
   "id": "13fa580c",
   "metadata": {},
   "source": [
    "# Object to hold recorded AADC Kernels\n",
    "allow to speed up the calculation of the function itself and AAD for its derivatives\n"
   ]
  },
  {
   "cell_type": "code",
   "execution_count": 4,
   "id": "f3b87119-b2a3-4dfb-b9cf-eebd4060d569",
   "metadata": {},
   "outputs": [],
   "source": [
    "funcs = aadc.Functions()"
   ]
  },
  {
   "cell_type": "markdown",
   "id": "04f729a8",
   "metadata": {},
   "source": [
    "# Define function arguments.\n",
    "Note you need to use aadc.idouble instead of float"
   ]
  },
  {
   "cell_type": "code",
   "execution_count": 5,
   "id": "5d39ca34-fb9b-40ed-b944-1cda7ff7f141",
   "metadata": {},
   "outputs": [],
   "source": [
    "x = aadc.idouble(1.0)\n",
    "y = aadc.idouble(2.0)\n",
    "z = aadc.idouble(3.0)"
   ]
  },
  {
   "cell_type": "markdown",
   "id": "333a1e2c",
   "metadata": {},
   "source": [
    "# Trigger recording of the function"
   ]
  },
  {
   "cell_type": "code",
   "execution_count": 6,
   "id": "3300d637-4725-4405-b9d5-d7eadd8cc8bc",
   "metadata": {},
   "outputs": [
    {
     "name": "stdout",
     "output_type": "stream",
     "text": [
      "You are using evaluation version of AADC. Expire date is 20240901\n"
     ]
    }
   ],
   "source": [
    "funcs.start_recording()"
   ]
  },
  {
   "cell_type": "markdown",
   "id": "99d411cb",
   "metadata": {},
   "source": [
    "# Mark the function arguments as input and save reference argument ids"
   ]
  },
  {
   "cell_type": "code",
   "execution_count": 7,
   "id": "d6cd2d27-abb4-4231-84e5-8865eabba328",
   "metadata": {},
   "outputs": [],
   "source": [
    "xArg = x.mark_as_input()\n",
    "yArg = y.mark_as_input()\n",
    "zArg = z.mark_as_input()"
   ]
  },
  {
   "cell_type": "markdown",
   "id": "a2f0bbed",
   "metadata": {},
   "source": [
    "# Call the function and add some operations"
   ]
  },
  {
   "cell_type": "code",
   "execution_count": 8,
   "id": "a6a70fbe-8cc7-4868-ae04-2a7121be6355",
   "metadata": {},
   "outputs": [],
   "source": [
    "f = F(x,y,z) + x"
   ]
  },
  {
   "cell_type": "markdown",
   "id": "4636cd88",
   "metadata": {},
   "source": [
    "# Mark the result as output"
   ]
  },
  {
   "cell_type": "code",
   "execution_count": 9,
   "id": "3a709740-8437-4dd3-b1ae-50a6f6fccec5",
   "metadata": {},
   "outputs": [],
   "source": [
    "fRes = f.mark_as_output()"
   ]
  },
  {
   "cell_type": "markdown",
   "id": "c7ea381f",
   "metadata": {},
   "source": [
    "# Stop recording\n",
    "After this step AADC Kernel containing native machine CPU code will be generated and stored in the funcs object"
   ]
  },
  {
   "cell_type": "code",
   "execution_count": 10,
   "id": "9020ad7b-0b31-4615-ac01-fdaca21f709a",
   "metadata": {},
   "outputs": [],
   "source": [
    "funcs.stop_recording()"
   ]
  },
  {
   "cell_type": "markdown",
   "id": "92f13bb3",
   "metadata": {},
   "source": [
    "# Check if the function is recorded properly\n",
    "So it can be used for arbitrary input values. This should return 0 if everything is OK, indicating that no branches in the function are not supported.\n"
   ]
  },
  {
   "cell_type": "code",
   "execution_count": 11,
   "id": "07f8caa2-2d3e-4acf-adc2-42a96f90fc08",
   "metadata": {},
   "outputs": [
    {
     "name": "stdout",
     "output_type": "stream",
     "text": [
      "Number active to passive conversions: 0 while recording Python\n"
     ]
    }
   ],
   "source": [
    "funcs.print_passive_extract_locations()"
   ]
  },
  {
   "cell_type": "markdown",
   "id": "6b85f15e",
   "metadata": {},
   "source": [
    "# New samples of input values\n",
    "To calculate the function and its derivatives at. Note that the x input is a vector of 20 samples and the y and z are scalars"
   ]
  },
  {
   "cell_type": "code",
   "execution_count": 12,
   "id": "56f45689-ef0c-4f60-87d4-2f31030670bd",
   "metadata": {},
   "outputs": [],
   "source": [
    "inputs = {\n",
    "    xArg:(1.0 * np.random.normal(1, 0.2, 20)),\n",
    "    yArg:(2.0),\n",
    "    zArg:(3.0),\n",
    "}"
   ]
  },
  {
   "cell_type": "markdown",
   "id": "f60bc787",
   "metadata": {},
   "source": [
    "Key: what output, value: what gradients are needed"
   ]
  },
  {
   "cell_type": "code",
   "execution_count": 13,
   "id": "a4fe2659-9ea2-49ba-ab97-c1282ae30e9c",
   "metadata": {},
   "outputs": [],
   "source": [
    "request = {fRes:[xArg,yArg,zArg]}  "
   ]
  },
  {
   "cell_type": "markdown",
   "id": "b3c87901",
   "metadata": {},
   "source": [
    "Run AADC Kernel for array inputs using 4 CPU threads and avx2"
   ]
  },
  {
   "cell_type": "code",
   "execution_count": 14,
   "id": "e7afc718-1ba6-4bd5-a96d-a05d88802c8f",
   "metadata": {},
   "outputs": [],
   "source": [
    "Res = aadc.evaluate(funcs, request, inputs, aadc.ThreadPool(4))"
   ]
  },
  {
   "cell_type": "markdown",
   "id": "b3ab6f97",
   "metadata": {},
   "source": [
    "## Function output"
   ]
  },
  {
   "cell_type": "code",
   "execution_count": 15,
   "id": "00ef0d56-99f7-4bb1-b38c-72c410b99123",
   "metadata": {},
   "outputs": [
    {
     "data": {
      "text/plain": [
       "array([31.44085708, 36.1707629 , 35.76464723, 33.14819859, 34.54444068,\n",
       "       30.77353102, 36.60770188, 29.06156381, 31.56890252, 33.02241089,\n",
       "       36.09123998, 32.05047647, 33.73621372, 38.20971796, 36.93638856,\n",
       "       38.89931825, 38.33845253, 33.87274325, 45.91800075, 35.17406739])"
      ]
     },
     "execution_count": 15,
     "metadata": {},
     "output_type": "execute_result"
    }
   ],
   "source": [
    "Res[0][fRes]"
   ]
  },
  {
   "cell_type": "markdown",
   "id": "094a7d9b",
   "metadata": {},
   "source": [
    "## df/dx"
   ]
  },
  {
   "cell_type": "code",
   "execution_count": 16,
   "id": "dafa8ec7-cd5c-40a5-b8e6-25c32e398907",
   "metadata": {},
   "outputs": [
    {
     "data": {
      "text/plain": [
       "array([16.29946359, 18.52841121, 18.33636984, 17.10200812, 17.76007367,\n",
       "       15.9864705 , 18.73515493, 15.18542004, 16.35956563, 17.04279822,\n",
       "       18.4907979 , 16.58573498, 17.37896198, 19.49425183, 18.89076258,\n",
       "       19.8215115 , 19.55532241, 17.44330598, 23.16723777, 18.05730779])"
      ]
     },
     "execution_count": 16,
     "metadata": {},
     "output_type": "execute_result"
    }
   ],
   "source": [
    "Res[1][fRes][xArg]"
   ]
  },
  {
   "cell_type": "markdown",
   "id": "a128854c",
   "metadata": {},
   "source": [
    "## df/dy"
   ]
  },
  {
   "cell_type": "code",
   "execution_count": 17,
   "id": "f84ae8e2-3d5b-4ecf-9a3e-f42151cab1aa",
   "metadata": {},
   "outputs": [
    {
     "data": {
      "text/plain": [
       "array([ -6.44053791,  -9.76280344,  -9.46485661,  -7.6016159 ,\n",
       "        -8.58361594,  -5.99900933, -10.08591176,  -4.89910306,\n",
       "        -6.5260587 ,  -7.51456253,  -9.70428103,  -6.84998121,\n",
       "        -8.01168548, -11.29272244, -10.33069351, -11.82268774,\n",
       "       -11.39118388,  -8.10762925, -17.55118989,  -9.03569776])"
      ]
     },
     "execution_count": 17,
     "metadata": {},
     "output_type": "execute_result"
    }
   ],
   "source": [
    "Res[1][fRes][yArg]\n"
   ]
  }
 ],
 "metadata": {
  "kernelspec": {
   "display_name": "Python 3 (ipykernel)",
   "language": "python",
   "name": "python3"
  },
  "language_info": {
   "codemirror_mode": {
    "name": "ipython",
    "version": 3
   },
   "file_extension": ".py",
   "mimetype": "text/x-python",
   "name": "python",
   "nbconvert_exporter": "python",
   "pygments_lexer": "ipython3",
   "version": "3.11.2"
  }
 },
 "nbformat": 4,
 "nbformat_minor": 5
}
