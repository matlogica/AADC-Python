{
 "cells": [
  {
   "cell_type": "markdown",
   "metadata": {},
   "source": [
    "<a href=\"https://colab.research.google.com/github/matlogica/AADC-Python/blob/main/getting-started/05-scipy-interop.ipynb\" target=\"_parent\"><img src=\"https://colab.research.google.com/assets/colab-badge.svg\" alt=\"Open In Colab\"/></a>"
   ]
  },
  {
   "cell_type": "markdown",
   "metadata": {},
   "source": [
    "# AADC Example how to use recorded objective functions with numerical optimizations methods from SciPy"
   ]
  },
  {
   "cell_type": "markdown",
   "metadata": {},
   "source": [
    "This notebook shows how to use AADC to achieve a 30x speedup for SABR model calibration across a volatility cube\n",
    "We start with a traditional approach. The calibration objective function is just a vector of calibration errors for a vector of strikes, given `sig0`, `rho`, and `nu`\n",
    "We then use SciPy's least_squares method to calibrate the 3 parameters for 1000 scenarios (representing a hypothetical vol cube) using 7 strikes for each calibration.\n",
    "We then proceed to use AADC to record the calibration objective function. Note, that thanks to using AVX2 we are able not only to calculate the vector of errors, but at the same time (and with the same computation effort) also a full jacobian of the objective function: the finite difference numerical derivatives of the errors wrt to the 3 parameters"
   ]
  },
  {
   "cell_type": "code",
   "execution_count": 1,
   "metadata": {},
   "outputs": [],
   "source": [
    "import warnings\n",
    "\n",
    "import numpy as np\n",
    "\n",
    "def sabr_normal_vol_atm(fwd, expiry, beta, sig0, rho, nu):\n",
    "    F = fwd\n",
    "    t = expiry\n",
    "    t = np.where(abs(t) < 1e-10, 1e-10, t)\n",
    "\n",
    "    c1 = 1 + ((2 - 3 * rho ** 2) / 24) * (nu ** 2) * t\n",
    "    c2 = (rho * beta * nu * t) / (4 * F ** (1 - beta))\n",
    "    c3 = beta * (beta - 2) * t / (24 * F ** (2 - 2 * beta))\n",
    "\n",
    "    sig_n = (c1 * sig0 + c2 * sig0 ** 2 + c3 * sig0 ** 3) / (F ** (-beta))\n",
    "\n",
    "    return sig_n\n",
    "\n",
    "\n",
    "def sabr_normal_vol_otm(fwd, strike, expiry, beta, sig0, rho, nu):\n",
    "    F = fwd\n",
    "    K = strike\n",
    "    t = expiry\n",
    "    t = np.where(abs(t) < 1e-10, 1e-10, t)\n",
    "\n",
    "    k = K / F\n",
    "    alpha = sig0 / (F ** (1 - beta))\n",
    "\n",
    "    beta_close_to_one = np.isclose(beta, 1, 1e-10)\n",
    "    q = np.where(beta_close_to_one, np.log(k), (k ** (1 - beta) - 1) / (1 - beta))\n",
    "\n",
    "    z = q * nu / alpha\n",
    "    z_close_to_zero = np.isclose(z, 0, 1e-10)\n",
    "    z = np.where(z_close_to_zero, np.nan, z)\n",
    "\n",
    "    _H = z / np.log((np.sqrt(1 + 2 * rho * z + z ** 2) + z + rho) / (1 + rho))\n",
    "\n",
    "    H = np.where(z_close_to_zero, 1, _H)\n",
    "\n",
    "    _B = np.log((q * k ** (beta / 2)) / (k - 1)) * (alpha ** 2) / (q ** 2)\n",
    "    _B += (rho / 4) * ((k ** beta - 1) / (k - 1)) * alpha * nu\n",
    "    _B += ((2 - 3 * rho ** 2) / 24) * (nu ** 2)\n",
    "\n",
    "    B = ((k - 1) / q) * (1 + _B * t)\n",
    "\n",
    "    sig_n = sig0 * (F ** beta) * H * B\n",
    "\n",
    "    return sig_n\n",
    "\n",
    "\n",
    "def sabr_normal_vol(fwd, strike, expiry, beta, sig0, rho, nu):\n",
    "    F, K, expiry, beta, sig0, rho, nu = np.broadcast_arrays(fwd, strike, expiry, beta, sig0, rho, nu)\n",
    "\n",
    "    return np.where(np.isclose(F, K, 1e-6),\n",
    "                     sabr_normal_vol_atm(F, expiry, beta, sig0, rho, nu),\n",
    "                     sabr_normal_vol_otm(F, K, expiry, beta, sig0, rho, nu))\n"
   ]
  },
  {
   "cell_type": "markdown",
   "metadata": {},
   "source": [
    "Here we generate parameters for our 1000 scenarios"
   ]
  },
  {
   "cell_type": "code",
   "execution_count": 2,
   "metadata": {},
   "outputs": [
    {
     "data": {
      "text/plain": [
       "(array([[0.0025    , 0.00251001, 0.00252002, ..., 0.01247998, 0.01248999,\n",
       "         0.0125    ],\n",
       "        [0.005     , 0.00502002, 0.00504004, ..., 0.02495996, 0.02497998,\n",
       "         0.025     ],\n",
       "        [0.0075    , 0.00753003, 0.00756006, ..., 0.03743994, 0.03746997,\n",
       "         0.0375    ],\n",
       "        ...,\n",
       "        [0.0125    , 0.01255005, 0.0126001 , ..., 0.0623999 , 0.06244995,\n",
       "         0.0625    ],\n",
       "        [0.015     , 0.01506006, 0.01512012, ..., 0.07487988, 0.07493994,\n",
       "         0.075     ],\n",
       "        [0.0175    , 0.01757007, 0.01764014, ..., 0.08735986, 0.08742993,\n",
       "         0.0875    ]]),\n",
       " array([[0.00250636, 0.00262104, 0.00220094, ..., 0.00478576, 0.00637934,\n",
       "         0.00728143],\n",
       "        [0.00252886, 0.00278514, 0.0020041 , ..., 0.00404589, 0.00591273,\n",
       "         0.0060057 ],\n",
       "        [0.00251032, 0.00290853, 0.00176953, ..., 0.00306579, 0.00518306,\n",
       "         0.00427347],\n",
       "        ...,\n",
       "        [0.00252301, 0.00320189, 0.0019685 , ..., 0.00232997, 0.00447891,\n",
       "         0.00362963],\n",
       "        [0.00260126, 0.00339511, 0.00242466, ..., 0.00335633, 0.00530268,\n",
       "         0.00564105],\n",
       "        [0.00273087, 0.00361596, 0.00291311, ..., 0.00437557, 0.00636866,\n",
       "         0.00755968]]))"
      ]
     },
     "execution_count": 2,
     "metadata": {},
     "output_type": "execute_result"
    }
   ],
   "source": [
    "warnings.filterwarnings('ignore')\n",
    "ncalibrations = 1000\n",
    "\n",
    "# Generate market data\n",
    "fwd = np.linspace(0.01, 0.05, ncalibrations)\n",
    "beta = np.tile([0.5, 0.6, 0.7, 0.8, 0.9], -(-ncalibrations // 5))[:ncalibrations]\n",
    "expiry = np.tile(np.linspace(1, 10, 10), -(-ncalibrations // 10))[:ncalibrations]\n",
    "\n",
    "np.random.seed(42)\n",
    "sig0 = np.random.uniform(0.01, 0.05, ncalibrations)\n",
    "rho = np.random.uniform(-0.5, 0., ncalibrations)\n",
    "nu = np.random.uniform(0.2, 0.6, ncalibrations)\n",
    "\n",
    "# 7 strikes, each row is an independent calibration scenario\n",
    "strikes = np.linspace(0.25, 1.75, 7).reshape(-1, 1) * fwd\n",
    "vols = sabr_normal_vol(fwd, strikes, expiry, beta, sig0, rho, nu)\n",
    "strikes,vols"
   ]
  },
  {
   "cell_type": "markdown",
   "metadata": {},
   "source": [
    "The `residual` function is the calibration objective. Note how we're using \"walls\" to constrain `rho` within `(-1,1)`"
   ]
  },
  {
   "cell_type": "code",
   "execution_count": 3,
   "metadata": {},
   "outputs": [],
   "source": [
    "from scipy.optimize import least_squares\n",
    "vol_weights = [1., 1., 1., 100., 1., 1., 1.]\n",
    "\n",
    "def residual(x, fwd, beta, expiry, strikes, vols):\n",
    "    sig0, rho, nu = x\n",
    "    rho = np.broadcast_to(rho, vols.shape)\n",
    "\n",
    "    return np.where(np.abs(rho) > 0.9999,\n",
    "                    np.ones_like(vols) * 1e6,\n",
    "                    vol_weights * (sabr_normal_vol(fwd, strikes, expiry, beta, sig0, rho, nu) - vols))\n",
    "\n",
    "x0 = np.array([0.02, -0.25, 0.03])\n",
    "\n",
    "def sabr_normal_smile_fit(scen):\n",
    "    results = least_squares(\n",
    "        residual,\n",
    "        x0,\n",
    "        args=(fwd[scen], beta[scen], expiry[scen], strikes[:, scen], vols[:, scen]),\n",
    "        method=\"lm\",\n",
    "        xtol=1e-6)\n",
    "\n",
    "    return results.x"
   ]
  },
  {
   "cell_type": "markdown",
   "metadata": {},
   "source": [
    "Solve for sig0, rho, nu for each scenario: `sig0_bar`, `rho_bar`, `nu_bar` are calibrated parameters so far without any use of AADC. Note the cell computation time."
   ]
  },
  {
   "cell_type": "code",
   "execution_count": 4,
   "metadata": {},
   "outputs": [
    {
     "name": "stdout",
     "output_type": "stream",
     "text": [
      "CPU times: user 9.73 s, sys: 0 ns, total: 9.73 s\n",
      "Wall time: 9.78 s\n"
     ]
    }
   ],
   "source": [
    "%%time\n",
    "sig0_bar, rho_bar, nu_bar = np.transpose([sabr_normal_smile_fit(j) for j in range(ncalibrations)])\n",
    "\n",
    "rho_bar, nu_bar = np.where(nu_bar < 0, -rho_bar, rho_bar), np.abs(nu_bar)"
   ]
  },
  {
   "cell_type": "code",
   "execution_count": 5,
   "metadata": {},
   "outputs": [],
   "source": [
    "assert np.allclose(sig0_bar, sig0, atol=1e-10)\n",
    "assert np.allclose(rho_bar, rho, atol=1e-10)\n",
    "assert np.allclose(nu_bar, nu, atol=1e-10)\n",
    "# sig0_bar - sig0, rho_bar - rho, nu_bar - nu\n",
    "# np.argmax(np.abs(sig0_bar - sig0)), np.argmax(np.abs(rho_bar - rho)), np.argmax(np.abs(nu_bar - nu))\n"
   ]
  },
  {
   "cell_type": "markdown",
   "metadata": {},
   "source": [
    "Now AADC the whole thing. `aadc.record` returns the recorded AADC kernel for `residual` function, and has 3 members of interest:\n",
    "- `kernel.func` is the AADC JIT version of `residual` and can be substituted for it in `least_squares`, except for a small detail:\n",
    "- `kernel.set_params` should be used to curry the extra arguments of the objective function that are not part of the calibration\n",
    "- `kernel.jac` is the numerical jacobian, and it can be fed to `least_squares` to achieve faster convergence"
   ]
  },
  {
   "cell_type": "markdown",
   "metadata": {},
   "source": [
    "### Please uncomment next line if you don't have AADC installed locally"
   ]
  },
  {
   "cell_type": "code",
   "execution_count": 6,
   "metadata": {},
   "outputs": [],
   "source": [
    "import sys\n",
    "#!pip install https://matlogica.com/DemoReleases/aadc-1.7.5.30-cp3{sys.version_info.minor}-cp3{sys.version_info.minor}-linux_x86_64.whl"
   ]
  },
  {
   "cell_type": "code",
   "execution_count": 7,
   "metadata": {},
   "outputs": [
    {
     "name": "stdout",
     "output_type": "stream",
     "text": [
      "You are using evaluation version of AADC. Expire date is 20240901\n"
     ]
    }
   ],
   "source": [
    "import aadc\n",
    "warnings.filterwarnings('ignore')\n",
    "\n",
    "kernel = aadc.record(residual, x0, params=(fwd[0], beta[0], expiry[0], strikes[:, 0], vols[:, 0]), bump_size=1e-10)"
   ]
  },
  {
   "cell_type": "code",
   "execution_count": 8,
   "metadata": {},
   "outputs": [],
   "source": [
    "def sabr_normal_smile_fit_aadc(scen):\n",
    "    kernel.set_params(fwd[scen], beta[scen], expiry[scen], strikes[:, scen], vols[:, scen])\n",
    "    results = least_squares(\n",
    "        kernel.func,\n",
    "        x0,\n",
    "        jac=kernel.jac,\n",
    "        method=\"lm\",\n",
    "        xtol=1e-6)\n",
    "\n",
    "    return results.x"
   ]
  },
  {
   "cell_type": "markdown",
   "metadata": {},
   "source": [
    "Moment of truth. Let's check the solution we obtain with the JIT kernel is the same"
   ]
  },
  {
   "cell_type": "code",
   "execution_count": 9,
   "metadata": {},
   "outputs": [
    {
     "name": "stdout",
     "output_type": "stream",
     "text": [
      "CPU times: user 340 ms, sys: 3.03 ms, total: 343 ms\n",
      "Wall time: 342 ms\n"
     ]
    }
   ],
   "source": [
    "%%time\n",
    "sig0_star, rho_star, nu_star = np.transpose([sabr_normal_smile_fit_aadc(j) for j in range(ncalibrations)])\n",
    "rho_star, nu_star = np.where(nu_star < 0, -rho_star, rho_star), np.abs(nu_star)\n",
    "\n",
    "assert np.allclose(sig0_bar, sig0_star, atol=1e-10)\n",
    "assert np.allclose(rho_bar, rho_star, atol=1e-10)\n",
    "assert np.allclose(nu_bar, nu_star, atol=1e-10)\n",
    "\n",
    "# sig0_star - sig0_bar, rho_star - rho_bar, nu_star - nu_bar\n",
    "# np.argmax(np.abs(sig0_star - sig0_bar)), np.argmax(np.abs(rho_star - rho_bar)), np.argmax(np.abs(nu_star - nu_bar))\n",
    "\n"
   ]
  }
 ],
 "metadata": {
  "kernelspec": {
   "display_name": "Python 3 (ipykernel)",
   "language": "python",
   "name": "python3"
  },
  "language_info": {
   "codemirror_mode": {
    "name": "ipython",
    "version": 3
   },
   "file_extension": ".py",
   "mimetype": "text/x-python",
   "name": "python",
   "nbconvert_exporter": "python",
   "pygments_lexer": "ipython3",
   "version": "3.11.8"
  }
 },
 "nbformat": 4,
 "nbformat_minor": 4
}
