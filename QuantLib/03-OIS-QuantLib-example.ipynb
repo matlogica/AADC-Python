{
 "cells": [
  {
   "cell_type": "markdown",
   "id": "f058977c",
   "metadata": {},
   "source": [
    "<a href=\"https://colab.research.google.com/github/matlogica/AADC-Python/blob/main/QuantLib/03-OIS-QuantLib-example.ipynb\" target=\"_parent\"><img src=\"https://colab.research.google.com/assets/colab-badge.svg\" alt=\"Open In Colab\"/></a>"
   ]
  },
  {
   "cell_type": "markdown",
   "id": "0438afb4",
   "metadata": {},
   "source": [
    "Example to show how to use the AADC with QuantLib library in Python. Here we create QL Zero curves and price single OIS swap. \n",
    "We also show how to use the AADC to compute the sensitivities of the swap to the zero rates.\n",
    "The example is based on the QuantLib example available at https://www.quantlib.org/reference/quantlib/instruments/ois.html\n",
    "At the end of the example we compare the sensitivities computed by the AADC with the sensitivities computed by bumping the zero rates.\n"
   ]
  },
  {
   "cell_type": "code",
   "execution_count": 30,
   "id": "379a4f4b",
   "metadata": {},
   "outputs": [
    {
     "name": "stdout",
     "output_type": "stream",
     "text": [
      "Collecting aadcquantlib==1.7.5.27\n",
      "  Using cached https://matlogica.com/DemoReleases/aadcquantlib-1.7.5.27-cp311-cp311-linux_x86_64.whl (38.0 MB)\n",
      "Installing collected packages: aadcquantlib\n",
      "Successfully installed aadcquantlib-1.7.5.27\n"
     ]
    }
   ],
   "source": [
    "import sys\n",
    "!pip install https://matlogica.com/DemoReleases/aadcquantlib-1.7.5.27-cp3{sys.version_info.minor}-cp3{sys.version_info.minor}-linux_x86_64.whl"
   ]
  },
  {
   "cell_type": "code",
   "execution_count": 31,
   "id": "80ef0db4-ca47-480e-8ad4-4747aad99b27",
   "metadata": {},
   "outputs": [],
   "source": [
    "import aadc\n",
    "import aadc.quantlib as ql\n",
    "import numpy as np"
   ]
  },
  {
   "cell_type": "markdown",
   "id": "dfb5e575",
   "metadata": {},
   "source": [
    "Initialize QuantLib as normal"
   ]
  },
  {
   "cell_type": "code",
   "execution_count": 32,
   "id": "43042626-4a13-4802-8cc9-2059033e7135",
   "metadata": {},
   "outputs": [],
   "source": [
    "today = ql.Date(19, ql.October, 2020)\n",
    "ql.Settings().evaluationDate = today"
   ]
  },
  {
   "cell_type": "code",
   "execution_count": 33,
   "id": "6b782c73-a25c-4010-987f-e908752e4f28",
   "metadata": {},
   "outputs": [],
   "source": [
    "# create the yield curve zero rates using native double arrays\n",
    "dates = [    ql.Date(19,10,2020),    ql.Date(19,11,2020),    ql.Date(19, 1,2021),    ql.Date(19, 4,2021),    ql.Date(19,10,2021),    ql.Date(19, 4,2022),    ql.Date(19,10,2022),    ql.Date(19,10,2023),    ql.Date(19,10,2025),    ql.Date(19,10,2030),    ql.Date(19,10,2035),    ql.Date(19,10,2040),]\n",
    "\n",
    "forecast_rates = [    -0.004,    -0.002,    0.001,    0.005,    0.009,    0.010,    0.010,    0.012,    0.017,    0.019,    0.028,    0.032]\n"
   ]
  },
  {
   "cell_type": "code",
   "execution_count": 34,
   "id": "6690c1b1-d7a1-4da9-a7c1-923b35f1e63d",
   "metadata": {},
   "outputs": [],
   "source": [
    "discount_spread = - 0.001"
   ]
  },
  {
   "cell_type": "code",
   "execution_count": 35,
   "id": "b414d112-f5b9-4c91-b124-50f3451d39a2",
   "metadata": {},
   "outputs": [],
   "source": [
    "# Define function to price single OIS swap. Note that discount_rates are computed on Python side, but pricing is done on C++ side.\n",
    "# We calculate risk w.r.t forecast rates and discount spread. AAD tape is used to compute sensitivities on python and C++ side.\n",
    "\n",
    "def PriceOIS(dates, forecast_rates, discount_spread):\n",
    "    forecast_curve = ql.ZeroCurve(dates, forecast_rates, ql.Actual365Fixed())\n",
    "    \n",
    "    discount_rates = [ r + discount_spread for r in forecast_rates ]\n",
    "    discount_curve = ql.ZeroCurve(dates, discount_rates, ql.Actual365Fixed())\n",
    "\n",
    "    forecast_handle = ql.YieldTermStructureHandle(forecast_curve)\n",
    "    discount_handle = ql.YieldTermStructureHandle(discount_curve)\n",
    "\n",
    "    swap = ql.MakeOIS(swapTenor=ql.Period(5, ql.Years),\n",
    "                    overnightIndex=ql.Eonia(forecast_handle),\n",
    "                    fixedRate=0.002)\n",
    "\n",
    "    swapEngine = ql.DiscountingSwapEngine(discount_handle)\n",
    "    swap.setPricingEngine(swapEngine)\n",
    "\n",
    "    return swap.NPV()"
   ]
  },
  {
   "cell_type": "code",
   "execution_count": 36,
   "id": "97adedec-46e0-48d4-9926-477d8d5d219b",
   "metadata": {},
   "outputs": [
    {
     "name": "stdout",
     "output_type": "stream",
     "text": [
      "idouble(7.22e-02)\n"
     ]
    }
   ],
   "source": [
    "# Price the swap using regular call to QuantLib with native double types\n",
    "print(PriceOIS(dates, forecast_rates, discount_spread))"
   ]
  },
  {
   "cell_type": "code",
   "execution_count": 37,
   "id": "e7356a4f-7f06-4549-9a14-660ee66de51f",
   "metadata": {},
   "outputs": [],
   "source": [
    "# Create object to hold AADC Kernel recording\n",
    "funcs = aadc.Functions()"
   ]
  },
  {
   "cell_type": "code",
   "execution_count": 38,
   "id": "1d080826-c7df-4bba-a700-781e1760b07a",
   "metadata": {},
   "outputs": [
    {
     "name": "stdout",
     "output_type": "stream",
     "text": [
      "You are using evaluation version of AADC. Expire date is 20240901\n"
     ]
    }
   ],
   "source": [
    "# Start recording. All aadc.idouble() operations will be recorded\n",
    "funcs.start_recording()"
   ]
  },
  {
   "cell_type": "code",
   "execution_count": 39,
   "id": "e59f8cdb-ec30-4b66-8f37-f87c85e24dde",
   "metadata": {},
   "outputs": [
    {
     "data": {
      "text/plain": [
       "[idouble(-4.00e-03),\n",
       " idouble(-2.00e-03),\n",
       " idouble(1.00e-03),\n",
       " idouble(5.00e-03),\n",
       " idouble(9.00e-03),\n",
       " idouble(1.00e-02),\n",
       " idouble(1.00e-02),\n",
       " idouble(1.20e-02),\n",
       " idouble(1.70e-02),\n",
       " idouble(1.90e-02),\n",
       " idouble(2.80e-02),\n",
       " idouble(3.20e-02)]"
      ]
     },
     "execution_count": 39,
     "metadata": {},
     "output_type": "execute_result"
    }
   ],
   "source": [
    "# convert each element in rates and discount_spread to idouble\n",
    "forecast_rates = [aadc.idouble(r) for r in forecast_rates]\n",
    "discount_spread = aadc.idouble(discount_spread)\n",
    "forecast_rates"
   ]
  },
  {
   "cell_type": "code",
   "execution_count": 40,
   "id": "9aa19912-a0cd-4a35-b861-f824248e4240",
   "metadata": {},
   "outputs": [
    {
     "data": {
      "text/plain": [
       "[Arg(6),\n",
       " Arg(7),\n",
       " Arg(8),\n",
       " Arg(9),\n",
       " Arg(10),\n",
       " Arg(11),\n",
       " Arg(12),\n",
       " Arg(13),\n",
       " Arg(14),\n",
       " Arg(15),\n",
       " Arg(16),\n",
       " Arg(17)]"
      ]
     },
     "execution_count": 40,
     "metadata": {},
     "output_type": "execute_result"
    }
   ],
   "source": [
    "# mark each idouble as input and save the reference id\n",
    "forecast_ratesArgs = [r.mark_as_input() for r in forecast_rates]\n",
    "discount_spreadArg = discount_spread.mark_as_input()\n",
    "forecast_ratesArgs"
   ]
  },
  {
   "cell_type": "code",
   "execution_count": 41,
   "id": "9f9c921d-afb8-4b42-ac67-256389d8855f",
   "metadata": {},
   "outputs": [],
   "source": [
    "# Call the PriceOIS function with the idouble arguments and record the operations\n",
    "swap_NPV = PriceOIS(dates, forecast_rates, discount_spread)"
   ]
  },
  {
   "cell_type": "code",
   "execution_count": 42,
   "id": "9fbcd6ab",
   "metadata": {},
   "outputs": [
    {
     "name": "stdout",
     "output_type": "stream",
     "text": [
      "idouble([AAD[rv] [adj] :1492,7.22e-02])\n"
     ]
    }
   ],
   "source": [
    "# Note that swap_NPV is an aadc.idouble() object. [rv] - random variable [adj] - adjoint flag\n",
    "print(swap_NPV)"
   ]
  },
  {
   "cell_type": "code",
   "execution_count": 43,
   "id": "41dfcbe7-3a13-4d3d-b6d7-d5f55ca11665",
   "metadata": {},
   "outputs": [
    {
     "data": {
      "text/plain": [
       "Res(1492)"
      ]
     },
     "execution_count": 43,
     "metadata": {},
     "output_type": "execute_result"
    }
   ],
   "source": [
    "# Mark the swap_NPV as output and save the reference\n",
    "swapNPVRes = swap_NPV.mark_as_output()\n",
    "swapNPVRes"
   ]
  },
  {
   "cell_type": "code",
   "execution_count": 44,
   "id": "72ffc537-b90b-48d2-b133-be130ec64706",
   "metadata": {},
   "outputs": [],
   "source": [
    "# Stop recording\n",
    "funcs.stop_recording()"
   ]
  },
  {
   "cell_type": "code",
   "execution_count": 45,
   "id": "eb5f25ab-48d2-433b-bd81-ccf150bc377f",
   "metadata": {},
   "outputs": [
    {
     "name": "stdout",
     "output_type": "stream",
     "text": [
      "Number active to passive conversions: 0 while recording Python\n"
     ]
    },
    {
     "data": {
      "text/plain": [
       "'Number active to passive conversions: 0 while recording Python\\n'"
      ]
     },
     "execution_count": 45,
     "metadata": {},
     "output_type": "execute_result"
    }
   ],
   "source": [
    "# Check if recording is safe to use for arbitrary inputs\n",
    "# This will print the list of active to passive extract locations\n",
    "# To use the recording for arbitrary inputs, the active to passive extract locations should be 0\n",
    "funcs.print_passive_extract_locations()"
   ]
  },
  {
   "cell_type": "code",
   "execution_count": 46,
   "id": "70ce2c4e-fcd0-44d5-908f-88ca77703fff",
   "metadata": {},
   "outputs": [
    {
     "name": "stdout",
     "output_type": "stream",
     "text": [
      "idouble(7.22e-02)\n"
     ]
    }
   ],
   "source": [
    "# swap_NPV is still an aadc.idouble() object after recording\n",
    "print(swap_NPV)"
   ]
  },
  {
   "cell_type": "code",
   "execution_count": 47,
   "id": "f251c92d-cb25-4dfb-a2e4-5a4d3134da12",
   "metadata": {},
   "outputs": [
    {
     "name": "stdout",
     "output_type": "stream",
     "text": [
      "0.07217327877335217\n"
     ]
    }
   ],
   "source": [
    "# But it can be safely converted to a native double\n",
    "print(swap_NPV+0.0)"
   ]
  },
  {
   "cell_type": "code",
   "execution_count": 48,
   "id": "fd737251-791f-42de-bb6a-3432ccc424f7",
   "metadata": {},
   "outputs": [],
   "source": [
    "# Create new input zero rates and discount spread\n",
    "# Set vol to 0 to avoid random perturbations and compare bump sensitivities with AADC sensitivities\n",
    "vol=0.01\n",
    "num_scenarios=10000"
   ]
  },
  {
   "cell_type": "code",
   "execution_count": 49,
   "id": "0623edb2-fcaa-4c5a-8b04-8dbc85317427",
   "metadata": {},
   "outputs": [
    {
     "data": {
      "text/plain": [
       "array([-0.00101741, -0.00099486, -0.00100568, ..., -0.0009908 ,\n",
       "       -0.00100606, -0.00097302])"
      ]
     },
     "execution_count": 49,
     "metadata": {},
     "output_type": "execute_result"
    }
   ],
   "source": [
    "# Basic perturbations to the zero rates and discount spread\n",
    "inputs = {}\n",
    "for rArg, r in zip(forecast_ratesArgs, forecast_rates):\n",
    "    inputs[rArg] = float(r) * np.random.normal(1, vol, num_scenarios) \n",
    "inputs[discount_spreadArg] = discount_spread * np.random.normal(1, vol, num_scenarios)\n",
    "inputs[discount_spreadArg]"
   ]
  },
  {
   "cell_type": "code",
   "execution_count": 50,
   "id": "0b051e6e-88d5-4fae-9434-5d40870d8947",
   "metadata": {},
   "outputs": [],
   "source": [
    "# Request to AADC evaluation.\n",
    "# We want swapNPV output and the sensitivities of swapNPV to the zero rates and discount spread\n",
    "request = {swapNPVRes:forecast_ratesArgs + [ discount_spreadArg ]}"
   ]
  },
  {
   "cell_type": "code",
   "execution_count": 51,
   "id": "d79e4c90-dfd6-4e5f-9478-84a1b40c15f7",
   "metadata": {},
   "outputs": [],
   "source": [
    "# Run AADC Kernel for array inputs using 4 CPU threads and avx2\n",
    "Res = aadc.evaluate(funcs, request, inputs, aadc.ThreadPool(4))"
   ]
  },
  {
   "cell_type": "code",
   "execution_count": 52,
   "id": "5b472f26-9aaa-494a-ac52-253f27cade19",
   "metadata": {},
   "outputs": [
    {
     "name": "stdout",
     "output_type": "stream",
     "text": [
      "Result [0.07316674 0.07145473 0.07074005 ... 0.07177836 0.0712956  0.0722611 ]\n"
     ]
    }
   ],
   "source": [
    "# AADC returns vector of results for each scenario\n",
    "print(\"Result\", Res[0][swapNPVRes])"
   ]
  },
  {
   "cell_type": "code",
   "execution_count": 53,
   "id": "f588845b-5f3c-4365-956e-23d2a3532162",
   "metadata": {},
   "outputs": [
    {
     "name": "stdout",
     "output_type": "stream",
     "text": [
      "Forecast rates risk : \n",
      "dNPV/dR -0.005131204700891976\n",
      "dNPV/dR -0.00035387618626841225\n",
      "dNPV/dR 0.0\n",
      "dNPV/dR 0.0\n",
      "dNPV/dR 0.0010133171488007587\n",
      "dNPV/dR 1.125907943111949e-05\n",
      "dNPV/dR 0.0020013645317468213\n",
      "dNPV/dR 0.004953017979009238\n",
      "dNPV/dR 4.628746115605565\n",
      "dNPV/dR 0.005073220061847135\n",
      "dNPV/dR 0.0\n",
      "dNPV/dR 0.0\n"
     ]
    }
   ],
   "source": [
    "# Bucketed sensitivities of swapNPV to the zero rates\n",
    "print(\"Forecast rates risk : \")\n",
    "for rArg in forecast_ratesArgs:\n",
    "    print(\"dNPV/dR\", np.average(Res[1][swapNPVRes][rArg]))"
   ]
  },
  {
   "cell_type": "code",
   "execution_count": 54,
   "id": "4b64335e-13f9-4ac6-ba80-00d87a855075",
   "metadata": {},
   "outputs": [
    {
     "name": "stdout",
     "output_type": "stream",
     "text": [
      "Discount spread risk : \n",
      "dNPV/dR [-0.26444274 -0.25718616 -0.2536319  ... -0.25782956 -0.25578638\n",
      " -0.26112541]\n"
     ]
    }
   ],
   "source": [
    "# Sensitivity of swapNPV to the discount spread\n",
    "print(\"Discount spread risk : \")\n",
    "print(\"dNPV/dR\", (Res[1][swapNPVRes][discount_spreadArg]))"
   ]
  },
  {
   "cell_type": "code",
   "execution_count": 55,
   "id": "c3dd8519-bcad-4a51-9d07-d2d7e04ac77f",
   "metadata": {},
   "outputs": [
    {
     "name": "stdout",
     "output_type": "stream",
     "text": [
      "Check with bumping\n",
      "Forecast rates risk : \n",
      "0 -0.0051312044734713735 -0.005131204700891976 2.2742060231534245e-10\n",
      "1 -0.00035387617086657386 -0.00035387618626841225 1.5401838387562455e-11\n",
      "2 0.0 0.0 0.0\n",
      "3 0.0 0.0 0.0\n",
      "4 0.0010133604465972779 0.0010133171488007587 4.329779651913307e-08\n",
      "5 1.1259560089849074e-05 1.125907943111949e-05 4.806587295843841e-10\n",
      "6 0.0020014580717070407 0.0020013645317468213 9.353996021938676e-08\n",
      "7 0.004953248990344217 0.004953017979009238 2.3101133497880483e-07\n",
      "8 4.628780212303298 4.628746115605565 3.409669773368762e-05\n",
      "9 0.005073257131407716 0.005073220061847135 3.7069560580860195e-08\n",
      "10 0.0 0.0 0.0\n",
      "11 0.0 0.0 0.0\n"
     ]
    }
   ],
   "source": [
    "# Compare AADC sensitivities with sensitivities computed by bumping the zero rates\n",
    "# For perfect match make sure to set vol=0\n",
    "print(\"Check with bumping\")\n",
    "swap_NPV = PriceOIS(dates, forecast_rates, discount_spread)\n",
    "print(\"Forecast rates risk : \")\n",
    "for i in range(len(forecast_rates)):\n",
    "    forecast_rates[i] += 0.0001\n",
    "    swap_NPV_up = PriceOIS(dates, forecast_rates, discount_spread)\n",
    "    forecast_rates[i] -= 0.0002\n",
    "    swap_NPV_down = PriceOIS(dates, forecast_rates, discount_spread)\n",
    "    forecast_rates[i] += 0.0001\n",
    "    AAD_risk = np.average(Res[1][swapNPVRes][forecast_ratesArgs[i]])\n",
    "    FD_risk =(swap_NPV_up - swap_NPV_down) / 0.0002 \n",
    "    print(i, FD_risk, AAD_risk, FD_risk - AAD_risk)"
   ]
  },
  {
   "cell_type": "code",
   "execution_count": 56,
   "id": "4b8d7822-010a-459f-8327-125fe67a03d5",
   "metadata": {},
   "outputs": [
    {
     "name": "stdout",
     "output_type": "stream",
     "text": [
      "Discount spread risk : \n",
      "-0.25997967206814465 -0.2600059759712291 2.6303903084445857e-05\n"
     ]
    }
   ],
   "source": [
    "# Sensitivity of swapNPV to the discount spread\n",
    "# For perfect match make sure to set vol=0\n",
    "print(\"Discount spread risk : \")\n",
    "discount_spread += 0.0001\n",
    "swap_NPV_up = PriceOIS(dates, forecast_rates, discount_spread)\n",
    "discount_spread -= 0.0002\n",
    "swap_NPV_down = PriceOIS(dates, forecast_rates, discount_spread)\n",
    "discount_spread += 0.0001\n",
    "AAD_risk = np.average(Res[1][swapNPVRes][discount_spreadArg])\n",
    "FD_risk =(swap_NPV_up - swap_NPV_down) / 0.0002\n",
    "print(FD_risk, AAD_risk, FD_risk - AAD_risk)"
   ]
  }
 ],
 "metadata": {
  "kernelspec": {
   "display_name": "Python 3 (ipykernel)",
   "language": "python",
   "name": "python3"
  },
  "language_info": {
   "codemirror_mode": {
    "name": "ipython",
    "version": 3
   },
   "file_extension": ".py",
   "mimetype": "text/x-python",
   "name": "python",
   "nbconvert_exporter": "python",
   "pygments_lexer": "ipython3",
   "version": "3.11.2"
  }
 },
 "nbformat": 4,
 "nbformat_minor": 5
}
