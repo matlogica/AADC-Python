{
 "cells": [
  {
   "cell_type": "markdown",
   "id": "f058977c",
   "metadata": {},
   "source": [
    "<a href=\"https://colab.research.google.com/github/matlogica/AADC-Python/blob/main/QuantLib/06-Serialization.ipynb\" target=\"_parent\"><img src=\"https://colab.research.google.com/assets/colab-badge.svg\" alt=\"Open In Colab\"/></a>"
   ]
  },
  {
   "cell_type": "markdown",
   "id": "47c84254-692a-4aa3-804a-72bcdca0e600",
   "metadata": {},
   "source": [
    "# Serialization example\n",
    "\n",
    "This example uses results from 05-OIS-QuantLib-UserCurve.ipynb. Make sure you run it and file 05-Kernel.pkl is available."
   ]
  },
  {
   "cell_type": "code",
   "execution_count": null,
   "id": "771b1930",
   "metadata": {},
   "outputs": [],
   "source": [
    "import sys\n",
    "!pip install https://matlogica.com/DemoReleases/aadc-1.7.5.2401-cp3{sys.version_info.minor}-cp3{sys.version_info.minor}-linux_x86_64.whl"
   ]
  },
  {
   "cell_type": "code",
   "execution_count": 1,
   "id": "b28e1c9f-cbbc-4864-beea-3c68997ece5d",
   "metadata": {},
   "outputs": [],
   "source": [
    "# Note that now QuantLib is not longer required\n",
    "import pickle\n",
    "import aadc\n",
    "import numpy as np"
   ]
  },
  {
   "cell_type": "code",
   "execution_count": 2,
   "id": "c454ad96-7f1d-4825-b895-ca6f2fadc7ac",
   "metadata": {},
   "outputs": [],
   "source": [
    "with open('05-Kernel.pkl', 'rb') as f:\n",
    "    Trade = pickle.load(f)"
   ]
  },
  {
   "cell_type": "code",
   "execution_count": 3,
   "id": "2cfb3539-87b4-4e3c-b8b3-e2e7a66063fc",
   "metadata": {},
   "outputs": [
    {
     "data": {
      "text/plain": [
       "<aadc._aadc_core.Functions at 0x7fd880f1d2b0>"
      ]
     },
     "execution_count": 3,
     "metadata": {},
     "output_type": "execute_result"
    }
   ],
   "source": [
    "Trade\n",
    "forecast_ratesArgs = Trade[\"Inputs\"][\"forecast_rates\"]\n",
    "discount_spreadArg = Trade[\"Inputs\"][\"discount_spread\"]\n",
    "swapNPVRes = Trade[\"Outputs\"][\"swapNPV\"]\n",
    "Trade[\"Kernel\"]"
   ]
  },
  {
   "cell_type": "code",
   "execution_count": 4,
   "id": "6a7ee57e-686b-46bd-b129-876f3e995f68",
   "metadata": {},
   "outputs": [],
   "source": [
    "# Same as in 05, but inputs can take arbitrary levels\n",
    "forecast_rates = [    -0.004,    -0.002,    0.001,    0.005,    0.009,    0.010,    0.010,    0.012,    0.017,    0.019,    0.028,    0.032]\n",
    "discount_spread = - 0.001"
   ]
  },
  {
   "cell_type": "code",
   "execution_count": 5,
   "id": "3f4e1b90-6dc8-4d77-951f-49de089fc6d4",
   "metadata": {},
   "outputs": [],
   "source": [
    "vol=0.01\n",
    "num_scenarios=10000\n",
    "\n",
    "inputs = {}\n",
    "for rArg, r in zip(forecast_ratesArgs, forecast_rates):\n",
    "    inputs[rArg] = float(r) * np.random.normal(1, vol, num_scenarios) \n",
    "inputs[discount_spreadArg] = discount_spread * np.random.normal(1, vol, num_scenarios)"
   ]
  },
  {
   "cell_type": "code",
   "execution_count": 6,
   "id": "941f4d50-c8e3-4d1b-92fd-cd6ad57edb1e",
   "metadata": {},
   "outputs": [],
   "source": [
    "request = {swapNPVRes : forecast_ratesArgs + [ discount_spreadArg ] }"
   ]
  },
  {
   "cell_type": "code",
   "execution_count": 7,
   "id": "2a40cef4-d6f8-4dac-9b31-f13f9f97da9b",
   "metadata": {},
   "outputs": [],
   "source": [
    "Res = aadc.evaluate(Trade[\"Kernel\"], request, inputs, aadc.ThreadPool(4))"
   ]
  },
  {
   "cell_type": "code",
   "execution_count": 8,
   "id": "fe91bbfe-8d3c-418c-bf48-3859c289c9ed",
   "metadata": {},
   "outputs": [
    {
     "name": "stdout",
     "output_type": "stream",
     "text": [
      "Result [0.07721706 0.07770874 0.07877239 ... 0.07865259 0.07845713 0.07813713]\n"
     ]
    }
   ],
   "source": [
    "# Now you can compare results to 05\n",
    "print(\"Result\", Res[0][Trade[\"Outputs\"][\"swapNPV\"]])"
   ]
  },
  {
   "cell_type": "code",
   "execution_count": 9,
   "id": "42c1acc2-bfe5-47ea-be67-91935931518f",
   "metadata": {},
   "outputs": [
    {
     "name": "stdout",
     "output_type": "stream",
     "text": [
      "Forecast rates risk : \n",
      "dNPV/dR -0.29026696203909313\n",
      "dNPV/dR -0.28541210487640556\n",
      "dNPV/dR 0.0\n",
      "dNPV/dR 0.0\n",
      "dNPV/dR -0.010100690128293354\n",
      "dNPV/dR -0.00011222989031437012\n",
      "dNPV/dR -0.02715688800526541\n",
      "dNPV/dR -0.07099169252177111\n",
      "dNPV/dR 5.3214903218986045\n",
      "dNPV/dR 0.005865765038920842\n",
      "dNPV/dR 0.0\n",
      "dNPV/dR 0.0\n"
     ]
    }
   ],
   "source": [
    "# Bucketed sensitivities of swapNPV to the zero rates\n",
    "print(\"Forecast rates risk : \")\n",
    "for rArg in forecast_ratesArgs:\n",
    "    print(\"dNPV/dR\", np.average(Res[1][Trade[\"Outputs\"][\"swapNPV\"]][rArg]))"
   ]
  }
 ],
 "metadata": {
  "kernelspec": {
   "display_name": "Python 3 (ipykernel)",
   "language": "python",
   "name": "python3"
  },
  "language_info": {
   "codemirror_mode": {
    "name": "ipython",
    "version": 3
   },
   "file_extension": ".py",
   "mimetype": "text/x-python",
   "name": "python",
   "nbconvert_exporter": "python",
   "pygments_lexer": "ipython3",
   "version": "3.11.2"
  }
 },
 "nbformat": 4,
 "nbformat_minor": 5
}
