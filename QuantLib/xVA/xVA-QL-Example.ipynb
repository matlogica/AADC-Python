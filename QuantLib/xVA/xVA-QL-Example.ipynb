{
 "cells": [
  {
   "cell_type": "markdown",
   "metadata": {
    "id": "BgwYgrXFItY-"
   },
   "source": [
    "<a href=\"https://colab.research.google.com/github/matlogica/AADC-Python/blob/main/QuantLib/xVA/xVA-QL-Example.ipynb\" target=\"_parent\"><img src=\"https://colab.research.google.com/assets/colab-badge.svg\" alt=\"Open In Colab\"/></a>"
   ]
  },
  {
   "cell_type": "markdown",
   "metadata": {
    "id": "7Ai8cXJDItY_"
   },
   "source": [
    "## AADC enabled Python QuantLib xVA benchmark\n",
    "\n",
    "\n",
    "### The benchmark is based on xVA example from here:\n",
    "\n",
    "https://raw.githubusercontent.com/carljohanrehn/quantlib-xva/master/quantlib-xva/firstdraft.py\n",
    "\n",
    "== Small change is applied to update to QuantLib version 1.33\n",
    "\n",
    "== Code is modified to perform 5000 MC simulations.\n",
    "\n",
    "== Original code is in xVA-QL-Original.ipynb and it runs in about 35seconds, this version runs in 0.1 seconds AND computes all sensitivities.\n"
   ]
  },
  {
   "cell_type": "markdown",
   "metadata": {
    "id": "PeBcI8qRteol"
   },
   "source": [
    "This Python module calculates the Credit Value Adjustment for a single netting set of plain vanilla\n",
    "interest rate swaps.\n",
    "\n",
    "The code is based on the IPython Notebook of Matthias Groncki (see reference below).\n",
    "\n",
    "References:\n",
    "\n",
    "\"CVA Calculation with QuantLib and Python\", Matthias Groncki\n",
    "    - https://ipythonquant.wordpress.com/tag/cva/\n",
    "    - http://nbviewer.ipython.org/github/mgroncki/IPythonScripts/blob/master/CVA_calculation_I.ipynb\n",
    "\n",
    "\"FOOLING AROUND WITH QUANTLIB: GSR MODEL\", Peter Caspers:\n",
    "    - https://quantlib.wordpress.com/tag/gsr-model/\n",
    "\n",
    "\"One Factor Gaussian Short Rate Model Implementation\", Peter Caspers, March 1, 2013:\n",
    "    - http://papers.ssrn.com/sol3/papers.cfm?abstract_id=2246013\n"
   ]
  },
  {
   "cell_type": "markdown",
   "metadata": {
    "id": "qFfZYLiUtrlJ"
   },
   "source": [
    "Install AADC enabled QuantLib"
   ]
  },
  {
   "cell_type": "code",
   "execution_count": 1,
   "metadata": {
    "colab": {
     "base_uri": "https://localhost:8080/"
    },
    "id": "Ng3ma6R8tdsb",
    "outputId": "43d27f3d-48c5-4947-d4a3-1445730e69f1"
   },
   "outputs": [],
   "source": [
    "import sys\n",
    "#!pip install https://matlogica.com/DemoReleases/aadcquantlib-1.7.5.30-cp3{sys.version_info.minor}-cp3{sys.version_info.minor}-linux_x86_64.whl"
   ]
  },
  {
   "cell_type": "code",
   "execution_count": 2,
   "metadata": {
    "id": "h8DpuwWit3_1"
   },
   "outputs": [],
   "source": [
    "from time import perf_counter as pc\n",
    "\n",
    "import aadc\n",
    "import numpy as np\n",
    "\n",
    "ql = aadc.QuantLib"
   ]
  },
  {
   "cell_type": "markdown",
   "metadata": {
    "id": "Ci8X63ZIudIs"
   },
   "source": [
    "## Next code is taken from original sources and unmodified"
   ]
  },
  {
   "cell_type": "code",
   "execution_count": 3,
   "metadata": {
    "id": "Ue4Cdj6ouH-0"
   },
   "outputs": [],
   "source": [
    "def get_version():\n",
    "    return list(map(int, ql.__version__.split(\".\")))\n",
    "\n",
    "\n",
    "# General QuantLib functions...\n",
    "def set_evaluation_date(date):\n",
    "    ql.Settings.instance().evaluationDate = date\n",
    "\n",
    "def link_to_curve(relinkable_handle, curve):\n",
    "    return relinkable_handle.linkTo(curve)\n"
   ]
  },
  {
   "cell_type": "code",
   "execution_count": 4,
   "metadata": {
    "id": "O6hDTkW6uLKK"
   },
   "outputs": [],
   "source": [
    "# Random numbers...\n",
    "def create_random_number_generator(evaluation_time_grid, seed=1):\n",
    "    uniform_rng = ql.MersenneTwisterUniformRng(seed)\n",
    "    uniform_rsg = ql.MersenneTwisterUniformRsg(len(evaluation_time_grid) - 1, uniform_rng)\n",
    "\n",
    "    return ql.InvCumulativeMersenneTwisterGaussianRsg(uniform_rsg)\n",
    "\n",
    "\n",
    "# Default curve...\n",
    "def create_default_curve(default_dates, hazard_rates, day_count=ql.Actual365Fixed()):\n",
    "    default_curve = ql.HazardRateCurve(default_dates, hazard_rates, day_count)\n",
    "    default_curve.enableExtrapolation()\n",
    "\n",
    "    return default_curve\n",
    "\n",
    "\n",
    "def get_default_probability(times, default_curve):\n",
    "    # TODO ...\n",
    "    # torch.FloatTensor(default_curve.defaultProbability)\n",
    "\n",
    "    return np.vectorize(default_curve.defaultProbability)(times)\n",
    "\n",
    "\n",
    "def get_survival_probability(times, default_curve):\n",
    "    return np.vectorize(default_curve.survivalProbability)(times)\n",
    "\n",
    "\n",
    "def get_default_density(times, default_curve):\n",
    "    return np.vectorize(default_curve.defaultDensity)(times)\n",
    "\n",
    "\n",
    "def get_hazard_rate(times, default_curve):\n",
    "    \"\"\"\n",
    "\n",
    "    @param times:\n",
    "    @param default_curve:\n",
    "    @return:\n",
    "    \"\"\"\n",
    "\n",
    "    return np.vectorize(default_curve.hazardRate)(times)\n",
    "\n",
    "\n",
    "def calculate_default_probability_grid(evaluation_time_grid, default_curve):\n",
    "    return np.vectorize(default_curve.defaultProbability)(evaluation_time_grid[:-1], evaluation_time_grid[1:])\n",
    "\n",
    "\n",
    "# Discount curve...\n",
    "def create_flat_forward(todays_date, rate, day_count=ql.Actual365Fixed()):\n",
    "    flat_forward = ql.FlatForward(todays_date, ql.QuoteHandle(rate), day_count)\n",
    "    flat_forward.enableExtrapolation()\n",
    "\n",
    "    return flat_forward, ql.YieldTermStructureHandle(flat_forward), ql.RelinkableYieldTermStructureHandle(flat_forward)\n",
    "\n",
    "\n",
    "def generate_discount_factors(flat_forward_handle, evaluation_time_grid):\n",
    "    #    return np.vectorize(flat_forward_handle.discount)(evaluation_time_grid)\n",
    "    return np.vectorize(flat_forward_handle.currentLink().discount)(evaluation_time_grid)\n",
    "\n",
    "\n",
    "def get_discount_curve(curve_dates, discount_factors, day_count_convention=ql.Actual365Fixed()):\n",
    "    discount_curve = ql.DiscountCurve(curve_dates, discount_factors, day_count_convention)\n",
    "\n",
    "    discount_curve.enableExtrapolation()\n",
    "\n",
    "    return discount_curve\n",
    "\n",
    "\n",
    "# Pricing engine...\n",
    "def create_pricing_engine(flat_forward_relinkable_handle):\n",
    "    return ql.DiscountingSwapEngine(flat_forward_relinkable_handle)\n",
    "\n",
    "\n",
    "# Swap portfolio...\n",
    "def create_plain_vanilla_swap(\n",
    "    start_date,\n",
    "    maturity_date,\n",
    "    nominal_amount,\n",
    "    float_index,\n",
    "    fixed_rate,\n",
    "    #                              fixed_leg_tenor=ql.Period(\"1y\"),\n",
    "    fixed_leg_tenor=ql.PeriodParser.parse(\"1y\"),\n",
    "    fixed_leg_business_day_convention=ql.ModifiedFollowing,\n",
    "    fixed_leg_day_count_convention=ql.Thirty360(ql.Thirty360.BondBasis),\n",
    "    calendar=ql.Sweden(),\n",
    "    spread=0.0,\n",
    "    swap_type=ql.VanillaSwap.Payer,\n",
    "):\n",
    "    end_date = calendar.advance(start_date, maturity_date)\n",
    "\n",
    "    fixed_schedule = ql.Schedule(\n",
    "        start_date,\n",
    "        end_date,\n",
    "        fixed_leg_tenor,\n",
    "        float_index.fixingCalendar(),\n",
    "        fixed_leg_business_day_convention,\n",
    "        fixed_leg_business_day_convention,\n",
    "        ql.DateGeneration.Backward,\n",
    "        False,\n",
    "    )\n",
    "\n",
    "    float_schedule = ql.Schedule(\n",
    "        start_date,\n",
    "        end_date,\n",
    "        float_index.tenor(),\n",
    "        float_index.fixingCalendar(),\n",
    "        float_index.businessDayConvention(),\n",
    "        float_index.businessDayConvention(),\n",
    "        ql.DateGeneration.Backward,\n",
    "        False,\n",
    "    )\n",
    "\n",
    "    swap = ql.VanillaSwap(\n",
    "        swap_type,\n",
    "        nominal_amount,\n",
    "        fixed_schedule,\n",
    "        fixed_rate,\n",
    "        fixed_leg_day_count_convention,\n",
    "        float_schedule,\n",
    "        float_index,\n",
    "        spread,\n",
    "        float_index.dayCounter(),\n",
    "    )\n",
    "\n",
    "    return swap, [float_index.fixingDate(x) for x in float_schedule][:-1]\n",
    "\n",
    "\n",
    "def make_simple_portfolio(\n",
    "    list_of_start_dates,\n",
    "    list_of_maturity_dates,\n",
    "    list_of_nominal_amounts,\n",
    "    list_of_float_indices,\n",
    "    list_of_fixed_rates,\n",
    "    list_of_swap_types,\n",
    "):\n",
    "    simple_portfolio = []\n",
    "\n",
    "    for start_date, maturity_date, nominal_amount, float_index, fixed_rate, swap_type in zip(\n",
    "        list_of_start_dates,\n",
    "        list_of_maturity_dates,\n",
    "        list_of_nominal_amounts,\n",
    "        list_of_float_indices,\n",
    "        list_of_fixed_rates,\n",
    "        list_of_swap_types,\n",
    "    ):\n",
    "        simple_portfolio.append(\n",
    "            create_plain_vanilla_swap(\n",
    "                start_date, maturity_date, nominal_amount, float_index, fixed_rate, swap_type=swap_type\n",
    "            )\n",
    "        )\n",
    "\n",
    "    return simple_portfolio\n",
    "\n",
    "\n",
    "def calculate_portfolio_npv(flat_forward_relinkable_handle, portfolio):\n",
    "    engine = create_pricing_engine(flat_forward_relinkable_handle)\n",
    "\n",
    "    portfolio_npv = []\n",
    "    for deal, _ in portfolio:\n",
    "        deal.setPricingEngine(engine)\n",
    "        portfolio_npv.append(deal.NPV())\n",
    "\n",
    "    return portfolio_npv\n",
    "\n",
    "\n",
    "# Evaluation grid, curve dates, and NPV matrix...\n",
    "def define_evaluation_grid(todays_date, simple_portfolio, number_of_months=12 * 6):\n",
    "    evaluation_dates_grid = [todays_date + ql.Period(i_month, ql.Months) for i_month in range(number_of_months)]\n",
    "\n",
    "    for deal in simple_portfolio:\n",
    "        evaluation_dates_grid += deal[1]\n",
    "\n",
    "    evaluation_dates_grid = np.unique(np.sort(evaluation_dates_grid))\n",
    "\n",
    "    evaluation_time_grid = np.vectorize(\n",
    "        lambda x: ql.ActualActual(ql.ActualActual.ISDA).yearFraction(\n",
    "            todays_date, x\n",
    "        )  # empty constructor doesn't exist???\n",
    "    )(evaluation_dates_grid)\n",
    "\n",
    "    # diff_evaluation_time_grid = evaluation_time_grid[1:] - evaluation_time_grid[:-1]\n",
    "\n",
    "    return evaluation_dates_grid, evaluation_time_grid  # , diff_evaluation_time_grid\n",
    "\n",
    "\n",
    "def define_curve_dates(date, n_years=10):\n",
    "    # append first half year to date\n",
    "    curve_dates = [date, date + ql.Period(6, ql.Months)]\n",
    "\n",
    "    curve_dates += [date + ql.Period(i_year, ql.Years) for i_year in range(1, n_years + 1)]\n",
    "\n",
    "    return curve_dates\n",
    "\n",
    "\n",
    "# TODO ...\n",
    "def create_npv_matrix(\n",
    "    todays_date,\n",
    "    number_of_paths,\n",
    "    evaluation_dates_grid,\n",
    "    simple_portfolio,\n",
    "    flat_forward,\n",
    "    flat_forward_relinkable_handle,\n",
    "    zero_bonds,\n",
    "    float_index,\n",
    "):\n",
    "    n_dates, n_deals = len(evaluation_dates_grid), len(simple_portfolio)\n",
    "\n",
    "    npv_matrix = np.zeros((number_of_paths, n_dates, n_deals))\n",
    "\n",
    "    for i_path in range(number_of_paths):\n",
    "        print(\"pricing \", i_path)\n",
    "        for i_date in range(n_dates):\n",
    "            date = evaluation_dates_grid[i_date]\n",
    "\n",
    "            discount_curve = get_discount_curve(define_curve_dates(date), zero_bonds[i_path, i_date, :])\n",
    "\n",
    "            #            set_evaluation_date(date)\n",
    "            ql.Settings().evaluationDate = date\n",
    "            link_to_curve(flat_forward_relinkable_handle, discount_curve)\n",
    "\n",
    "            # TODO Check... is this correct?\n",
    "            is_valid_fixing_date = float_index.isValidFixingDate(date)\n",
    "\n",
    "            if is_valid_fixing_date:\n",
    "                fixing = float_index.fixing(date)\n",
    "                float_index.addFixing(date, fixing)\n",
    "\n",
    "            for i_deal in range(n_deals):\n",
    "                npv_matrix[i_path, i_date, i_deal] = simple_portfolio[i_deal][0].NPV()\n",
    "\n",
    "        ql.IndexManager.instance().clearHistories()\n",
    "\n",
    "    set_evaluation_date(todays_date)\n",
    "    link_to_curve(flat_forward_relinkable_handle, flat_forward)\n",
    "\n",
    "    return npv_matrix\n",
    "\n",
    "\n",
    "def calculate_discounted_npv_matrix(npv_matrix, discount_factors):\n",
    "    discounted_npv_matrix = np.zeros(npv_matrix.shape)\n",
    "\n",
    "    for i in range(npv_matrix.shape[2]):\n",
    "        discounted_npv_matrix[:, :, i] = npv_matrix[:, :, i] * discount_factors\n",
    "\n",
    "    return discounted_npv_matrix\n",
    "\n",
    "\n",
    "# Gsr model and simulation of paths...\n",
    "def generate_gsr_model(\n",
    "    flat_forward_handle, volatility_step_dates, volatilities, mean_reversion, forward_measure_time=16.0\n",
    "):\n",
    "    return ql.Gsr(flat_forward_handle, volatility_step_dates, volatilities, mean_reversion, forward_measure_time)\n",
    "\n",
    "\n",
    "def generate_paths(number_of_paths, evaluation_time_grid, tenors, inv_cumulative_gaussian_rsg, model):\n",
    "    n_tenors = len(tenors)\n",
    "\n",
    "    diff_evaluation_time_grid = evaluation_time_grid[1:] - evaluation_time_grid[:-1]\n",
    "\n",
    "    x = np.zeros((number_of_paths, len(evaluation_time_grid)))\n",
    "    y = np.zeros((number_of_paths, len(evaluation_time_grid)))\n",
    "\n",
    "    zero_bonds = np.zeros((number_of_paths, len(evaluation_time_grid), n_tenors))\n",
    "\n",
    "    for j_tenor in range(n_tenors):\n",
    "        zero_bonds[:, 0, j_tenor] = model.zerobond(tenors[j_tenor], 0, 0)\n",
    "\n",
    "    process = model.stateProcess()\n",
    "\n",
    "    for n_path in range(number_of_paths):\n",
    "        print(\"model path \", n_path)\n",
    "\n",
    "        next_sequence = inv_cumulative_gaussian_rsg.nextSequence().value  # value() is exteded from swig layer\n",
    "\n",
    "        next_sequence_arg = [x.mark_as_input_no_diff() for x in next_sequence]\n",
    "\n",
    "        for i_time in range(1, len(evaluation_time_grid)):\n",
    "            t_start = evaluation_time_grid[i_time - 1]\n",
    "            t_end = evaluation_time_grid[i_time]\n",
    "\n",
    "            x[n_path, i_time] = process.expectation(\n",
    "                t_start, x[n_path, i_time - 1], diff_evaluation_time_grid[i_time - 1]\n",
    "            ) + next_sequence[i_time - 1] * process.stdDeviation(\n",
    "                t_start, x[n_path, i_time - 1], diff_evaluation_time_grid[i_time - 1]\n",
    "            )\n",
    "\n",
    "            # y equals standardized x (see Gsr-paper by Caspers and Gsr model in QuantLib)\n",
    "            y[n_path, i_time] = (x[n_path, i_time] - process.expectation(0, 0, t_end)) / process.stdDeviation(\n",
    "                0, 0, t_end\n",
    "            )\n",
    "\n",
    "            for j_tenor in range(n_tenors):\n",
    "                zero_bonds[n_path, i_time, j_tenor] = model.zerobond(t_end + tenors[j_tenor], t_end, y[n_path, i_time])\n",
    "\n",
    "    return x, zero_bonds, next_sequence_arg\n",
    "\n",
    "\n",
    "# Netting, exposure, and CVA...\n",
    "def calculate_netted_npv_matrix(npv_matrix):\n",
    "    return np.sum(npv_matrix, axis=2)\n",
    "\n",
    "\n",
    "def calculate_exposure(portfolio_npv):\n",
    "    if aadc.is_recording():\n",
    "        exposure = portfolio_npv.copy()\n",
    "        for i in range(len(exposure)):\n",
    "            for j in range(len(exposure[i])):\n",
    "                exposure[i][j] = aadc.math.max(exposure[i][j], 0.0)\n",
    "        return exposure\n",
    "    #    exposure = portfolio_npv.copy()\n",
    "    #    exposure[exposure < 0] = 0\n",
    "    zeros = np.zeros(portfolio_npv.shape)\n",
    "    exposure = np.maximum(portfolio_npv, zeros)\n",
    "\n",
    "    return exposure\n",
    "\n",
    "\n",
    "def calculate_expected_exposure(portfolio_npv, number_of_paths):\n",
    "    return np.sum(calculate_exposure(portfolio_npv), axis=1) / number_of_paths\n",
    "\n",
    "\n",
    "def calculate_potential_future_exposure(exposure, number_of_paths, quantile=0.95):\n",
    "    # TODO Should we have ceil here?\n",
    "    potential_future_exposure = np.apply_along_axis(\n",
    "        lambda x: np.sort(x)[int(np.ceil(quantile * number_of_paths))], 0, exposure\n",
    "    )\n",
    "\n",
    "    # Alternative formulation: use max of each exposure path\n",
    "    # potential_future_exposure = np.sort(np.max(exposure, axis=1))[quantile * number_of_paths]\n",
    "\n",
    "    return potential_future_exposure\n",
    "\n",
    "\n",
    "def calculate_economic_cva(expected_discounted_exposure, default_probabilities, recovery_rate=0.4):\n",
    "    return (1 - recovery_rate) * np.sum(expected_discounted_exposure[1:] * default_probabilities)\n"
   ]
  },
  {
   "cell_type": "markdown",
   "metadata": {
    "id": "0YwVLFucuyoc"
   },
   "source": [
    "# Next we initialize recording of 1 MonteCarlo path"
   ]
  },
  {
   "cell_type": "code",
   "execution_count": 5,
   "metadata": {
    "id": "IWMtUx2xvSNN"
   },
   "outputs": [],
   "source": [
    "    # Set evaluation date...\n",
    "    # todays_date = ql.Date(7, 4, 2015)\n",
    "    todays_date = ql.Date(13, 8, 2015)\n",
    "    # ql.Settings.instance().setEvaluationDate(todays_date)\n",
    "    set_evaluation_date(todays_date)"
   ]
  },
  {
   "cell_type": "markdown",
   "metadata": {
    "id": "_LXo1sxIItZC"
   },
   "source": [
    "AADC overrides help with numpy compatibility"
   ]
  },
  {
   "cell_type": "code",
   "execution_count": 6,
   "metadata": {
    "id": "CPFuroQXItZC"
   },
   "outputs": [],
   "source": [
    "import aadc.overrides"
   ]
  },
  {
   "cell_type": "code",
   "execution_count": 7,
   "metadata": {
    "id": "7nDTq1PXvWjD"
   },
   "outputs": [
    {
     "name": "stdout",
     "output_type": "stream",
     "text": [
      "You are using evaluation version of AADC. Expire date is 20240901\n"
     ]
    }
   ],
   "source": [
    "    funcs = aadc.Functions()\n",
    "    funcs.start_recording()"
   ]
  },
  {
   "cell_type": "code",
   "execution_count": 8,
   "metadata": {
    "colab": {
     "base_uri": "https://localhost:8080/"
    },
    "id": "x7D-hLd0vafU",
    "outputId": "cc7d4994-e53e-45ca-c058-7ff2719c19ca"
   },
   "outputs": [
    {
     "name": "stdout",
     "output_type": "stream",
     "text": [
      "idouble([AAD[rv] [adj] :8,3.00e-02])\n",
      "idouble([AAD[rv] [adj] :8,7.41e-01])\n"
     ]
    }
   ],
   "source": [
    "    # Market data...\n",
    "    rate_value = aadc.idouble(0.03)\n",
    "    rate_arg = rate_value.mark_as_input()\n",
    "\n",
    "    rate = ql.SimpleQuote(rate_value)\n",
    "\n",
    "    flat_forward, flat_forward_handle, flat_forward_relinkable_handle = create_flat_forward(todays_date, rate)\n",
    "\n",
    "    print(rate.value())\n",
    "    print(flat_forward.discount(10))\n",
    "\n",
    "    euribor6m = ql.Euribor6M(flat_forward_relinkable_handle)"
   ]
  },
  {
   "cell_type": "code",
   "execution_count": 9,
   "metadata": {
    "id": "Yyt2t34gvnkc"
   },
   "outputs": [],
   "source": [
    "    # Create simple swap portfolio...\n",
    "    list_of_start_dates = [todays_date + ql.PeriodParser.parse(\"2d\"), todays_date + ql.PeriodParser.parse(\"2d\")]\n",
    "\n",
    "    list_of_maturity_dates = [ql.PeriodParser.parse(years) for years in [\"5Y\", \"4Y\"]]\n",
    "\n",
    "    list_of_nominal_amounts = [1e6, 5e5]\n",
    "    list_of_float_indices = [euribor6m, euribor6m]\n",
    "    list_of_fixed_rates = [0.03, 0.03]\n",
    "\n",
    "    list_of_swap_types = [ql.VanillaSwap.Payer, ql.VanillaSwap.Receiver]\n",
    "\n",
    "    simple_portfolio = make_simple_portfolio(\n",
    "        list_of_start_dates,\n",
    "        list_of_maturity_dates,\n",
    "        list_of_nominal_amounts,\n",
    "        list_of_float_indices,\n",
    "        list_of_fixed_rates,\n",
    "        list_of_swap_types,\n",
    "    )"
   ]
  },
  {
   "cell_type": "code",
   "execution_count": 10,
   "metadata": {
    "id": "iGGCGTe-vtEc"
   },
   "outputs": [],
   "source": [
    "    portfolio_npv = calculate_portfolio_npv(flat_forward_relinkable_handle, simple_portfolio)"
   ]
  },
  {
   "cell_type": "code",
   "execution_count": 11,
   "metadata": {
    "id": "3QAoEJxDv1Ak"
   },
   "outputs": [],
   "source": [
    "    # Instantiate the Gsr model...\n",
    "\n",
    "    volatility_step_dates = [todays_date + 100]\n",
    "\n",
    "    ivolatilities = [0.0075, 0.0075]\n",
    "    ivolatilities = [aadc.idouble(x) for x in ivolatilities]\n",
    "    volatilities_arg = [x.mark_as_input() for x in ivolatilities]\n",
    "    volatilities = [ql.QuoteHandle(ql.SimpleQuote(x)) for x in ivolatilities]"
   ]
  },
  {
   "cell_type": "code",
   "execution_count": 12,
   "metadata": {
    "id": "ivKjDD-hv7PV"
   },
   "outputs": [],
   "source": [
    "    mean_reversion = [ql.QuoteHandle(ql.SimpleQuote(0.02))]\n",
    "    #    mean_reversion = [ql.QuoteHandle(ql.SimpleQuote(0.02))]\n",
    "\n",
    "    gsr_model = generate_gsr_model(\n",
    "        flat_forward_handle, volatility_step_dates, volatilities, mean_reversion, forward_measure_time=16.0\n",
    "    )\n",
    "\n",
    "    # Create evaluation grid and simulate paths (using the Gsr model)...\n",
    "\n",
    "    evaluation_dates_grid, evaluation_time_grid = define_evaluation_grid(todays_date, simple_portfolio)\n",
    "\n",
    "    inv_cumulative_gaussian_rsg = create_random_number_generator(evaluation_time_grid)"
   ]
  },
  {
   "cell_type": "markdown",
   "metadata": {
    "id": "BsRm1rGbv-PN"
   },
   "source": [
    "### Unlike original code, here we set number of paths to 1"
   ]
  },
  {
   "cell_type": "code",
   "execution_count": 13,
   "metadata": {
    "id": "NJpxBQe4wKxN"
   },
   "outputs": [],
   "source": [
    "    number_of_paths = 1"
   ]
  },
  {
   "cell_type": "code",
   "execution_count": 14,
   "metadata": {
    "colab": {
     "base_uri": "https://localhost:8080/"
    },
    "id": "8JRSm2J6wPsN",
    "outputId": "5bdd44bf-a4cb-4ee2-c6e9-22d4dedcffcd"
   },
   "outputs": [
    {
     "name": "stdout",
     "output_type": "stream",
     "text": [
      "model path  0\n"
     ]
    }
   ],
   "source": [
    "tenors = np.array([0.0, 0.5, 1, 2, 3, 4, 5, 6, 7, 8, 9, 10])\n",
    "\n",
    "with aadc.overrides.aadc_overrides():\n",
    "    x, zero_bonds, next_sequence_arg = generate_paths(\n",
    "        number_of_paths, evaluation_time_grid, tenors, inv_cumulative_gaussian_rsg, gsr_model\n",
    "    )"
   ]
  },
  {
   "cell_type": "code",
   "execution_count": 15,
   "metadata": {
    "colab": {
     "base_uri": "https://localhost:8080/"
    },
    "id": "L8kwrZ17ywSZ",
    "outputId": "4fd1b616-796c-4cb5-e72f-2d6c3496dbb2"
   },
   "outputs": [
    {
     "name": "stdout",
     "output_type": "stream",
     "text": [
      "pricing  0\n"
     ]
    }
   ],
   "source": [
    "with aadc.overrides.aadc_overrides():\n",
    "    # Create the discounted NPV matrix...\n",
    "    npv_matrix = create_npv_matrix(\n",
    "        todays_date,\n",
    "        number_of_paths,\n",
    "        evaluation_dates_grid,\n",
    "        simple_portfolio,\n",
    "        flat_forward,\n",
    "        flat_forward_relinkable_handle,\n",
    "        zero_bonds,\n",
    "        euribor6m,\n",
    "    )"
   ]
  },
  {
   "cell_type": "code",
   "execution_count": 16,
   "metadata": {
    "id": "SAGnlI3PItZD"
   },
   "outputs": [],
   "source": [
    "with aadc.overrides.aadc_overrides():\n",
    "    discount_factors = generate_discount_factors(flat_forward_handle, evaluation_time_grid)\n",
    "\n",
    "    discounted_npv_cube = calculate_discounted_npv_matrix(npv_matrix, discount_factors)"
   ]
  },
  {
   "cell_type": "code",
   "execution_count": 17,
   "metadata": {
    "colab": {
     "base_uri": "https://localhost:8080/"
    },
    "id": "s2PqvuWaItZD",
    "outputId": "7da1b067-1550-410b-fd77-c9ac78f92d41"
   },
   "outputs": [
    {
     "name": "stdout",
     "output_type": "stream",
     "text": [
      "aadc.array([idouble([AAD[rv] [adj] :224,1.24e+03]),\n",
      "       idouble([AAD[rv] [adj] :4348,-6.01e+01]),\n",
      "       idouble([AAD[rv] [adj] :6692,1.40e+04]),\n",
      "       idouble([AAD[rv] [adj] :6671,1.68e+04]),\n",
      "       idouble([AAD[rv] [adj] :6699,2.41e+04]),\n",
      "       idouble([AAD[rv] [adj] :1475,5.15e+03]),\n",
      "       idouble([AAD[rv] [adj] :1458,-7.34e+02]),\n",
      "       idouble([AAD[rv] [adj] :1477,-1.51e+03]),\n",
      "       idouble([AAD[rv] [adj] :5785,1.04e+04]),\n",
      "       idouble([AAD[rv] [adj] :5766,-9.13e+03])], dtype=object)\n"
     ]
    }
   ],
   "source": [
    "    portfolio_npv = calculate_netted_npv_matrix(npv_matrix)\n",
    "    discounted_portfolio_npv = calculate_netted_npv_matrix(discounted_npv_cube)\n",
    "\n",
    "    print(discounted_portfolio_npv[0][range(0,10)])\n"
   ]
  },
  {
   "cell_type": "code",
   "execution_count": 18,
   "metadata": {
    "id": "P6GPIP_xItZD"
   },
   "outputs": [],
   "source": [
    "    exposure = calculate_exposure(portfolio_npv)\n",
    "    discounted_exposure = calculate_exposure(discounted_portfolio_npv)\n",
    "    discounted_neg_exposure = calculate_exposure(-discounted_portfolio_npv)\n"
   ]
  },
  {
   "cell_type": "code",
   "execution_count": 19,
   "metadata": {
    "id": "KR8bBg4PItZD"
   },
   "outputs": [],
   "source": [
    "    default_dates = [todays_date + ql.Period(i_year, ql.Years) for i_year in range(11)]\n",
    "    hazard_rates = [aadc.idouble(0.02 * i_year) for i_year in range(11)]\n",
    "    hazard_rates_arg = [x.mark_as_input() for x in hazard_rates]\n",
    "\n",
    "    default_curve = create_default_curve(default_dates, hazard_rates)"
   ]
  },
  {
   "cell_type": "code",
   "execution_count": 20,
   "metadata": {
    "id": "ZZpe9b0BItZE"
   },
   "outputs": [],
   "source": [
    "    # Calculate default probabilities...\n",
    "    default_probabilities = calculate_default_probability_grid(evaluation_time_grid, default_curve)"
   ]
  },
  {
   "cell_type": "code",
   "execution_count": 21,
   "metadata": {
    "id": "MdCrcYHFItZE"
   },
   "outputs": [],
   "source": [
    "    if aadc.is_recording():\n",
    "        discounted_exposure = discounted_exposure[0]\n",
    "        discounted_neg_exposure = discounted_neg_exposure[0]"
   ]
  },
  {
   "cell_type": "code",
   "execution_count": 22,
   "metadata": {
    "colab": {
     "base_uri": "https://localhost:8080/"
    },
    "id": "fiSmDLMFItZE",
    "outputId": "8b2ccdd1-dd48-4175-c04c-fefdf37a9ba1"
   },
   "outputs": [
    {
     "name": "stdout",
     "output_type": "stream",
     "text": [
      "idouble([AAD[rv] [adj] :4897,8.20e+01])\n",
      "idouble([AAD[rv] [adj] :6770,1.68e+03])\n"
     ]
    }
   ],
   "source": [
    "    # Calculation of the CVA...\n",
    "    economic_cva = calculate_economic_cva(discounted_exposure, default_probabilities, recovery_rate=0.4)\n",
    "    economic_dva = calculate_economic_cva(discounted_neg_exposure, default_probabilities, recovery_rate=0.4)\n",
    "    print(economic_cva)\n",
    "    print(economic_dva)"
   ]
  },
  {
   "cell_type": "code",
   "execution_count": 23,
   "metadata": {
    "id": "-RRqE0HIItZE"
   },
   "outputs": [],
   "source": [
    "    portfolio_npv_res = [\n",
    "        aadc.idouble(x).mark_as_output() for x in portfolio_npv[0]\n",
    "    ]  # path 0  some elements are zero floats => aadc.idouble(x)\n",
    "    discounted_portfolio_npv_res = [x.mark_as_output() for x in discounted_portfolio_npv[0]]\n",
    "    economic_cva_res = economic_cva.mark_as_output()\n",
    "    economic_dva_res = economic_dva.mark_as_output()"
   ]
  },
  {
   "cell_type": "code",
   "execution_count": 24,
   "metadata": {
    "id": "wkUzzRwhItZE"
   },
   "outputs": [],
   "source": [
    "funcs.stop_recording()"
   ]
  },
  {
   "cell_type": "markdown",
   "metadata": {
    "id": "CcXMBkHbItZE"
   },
   "source": [
    "### Next command checks for recording consistency. If number of active to passive conversions is zero, we didn't miss any branches and can use Kernel with arbitrary inputs."
   ]
  },
  {
   "cell_type": "code",
   "execution_count": 25,
   "metadata": {
    "id": "dCmG_OlpItZE"
   },
   "outputs": [
    {
     "name": "stdout",
     "output_type": "stream",
     "text": [
      "Number active to passive conversions: 0 while recording Python\n"
     ]
    },
    {
     "data": {
      "text/plain": [
       "'Number active to passive conversions: 0 while recording Python\\n'"
      ]
     },
     "execution_count": 25,
     "metadata": {},
     "output_type": "execute_result"
    }
   ],
   "source": [
    "    funcs.print_passive_extract_locations()"
   ]
  },
  {
   "cell_type": "code",
   "execution_count": 26,
   "metadata": {
    "id": "dWwKCaj5ItZF"
   },
   "outputs": [],
   "source": [
    "# This command can be used to get Kernel statistics\n",
    "#    print(funcs.recording_stats(\"Python\"))\n"
   ]
  },
  {
   "cell_type": "markdown",
   "metadata": {
    "id": "kRomcerbItZF"
   },
   "source": [
    "## AADC Kernel is recorded and can be used to process multiple simulations"
   ]
  },
  {
   "cell_type": "code",
   "execution_count": 27,
   "metadata": {
    "id": "50QOkttYItZF"
   },
   "outputs": [],
   "source": [
    "    number_of_paths = 5000"
   ]
  },
  {
   "cell_type": "markdown",
   "metadata": {
    "id": "obom85KiItZF"
   },
   "source": [
    "### Set inputs. Note that market data is scalar, but can be np arrays to process multiple scenarios."
   ]
  },
  {
   "cell_type": "code",
   "execution_count": 28,
   "metadata": {
    "id": "nhgSPcCWItZF"
   },
   "outputs": [],
   "source": [
    "    inputs = {}\n",
    "    inputs[rate_arg] = rate_value\n",
    "    for i in range(len(volatilities)):\n",
    "        inputs[volatilities_arg[i]] = ivolatilities[i]\n",
    "    for i in range(len(hazard_rates)):\n",
    "        inputs[hazard_rates_arg[i]] = hazard_rates[i]\n",
    "    randoms = np.zeros((number_of_paths, len(next_sequence_arg)))\n"
   ]
  },
  {
   "cell_type": "markdown",
   "metadata": {
    "id": "tD9ho9YXItZF"
   },
   "source": [
    "### Generate all necessary random numbers. This step can be further optimized or cached"
   ]
  },
  {
   "cell_type": "code",
   "execution_count": 29,
   "metadata": {
    "colab": {
     "base_uri": "https://localhost:8080/"
    },
    "id": "JRwR7eYsItZF",
    "outputId": "a6e383f1-7db3-455c-ca59-662dc7614556"
   },
   "outputs": [
    {
     "name": "stdout",
     "output_type": "stream",
     "text": [
      "Generating randoms...\n",
      "randoms generation time =  0.6621668641455472\n"
     ]
    }
   ],
   "source": [
    "    # create new random generator\n",
    "    print(\"Generating randoms...\")\n",
    "    time_rngen = pc()\n",
    "    inv_cumulative_gaussian_rsg = create_random_number_generator(evaluation_time_grid)\n",
    "    #    inv_cumulative_gaussian_rsg.nextSequence()\n",
    "    for i in range(number_of_paths):\n",
    "        next_sequence = inv_cumulative_gaussian_rsg.nextSequence().value\n",
    "        randoms[i, :] = next_sequence\n",
    "\n",
    "    for i in range(len(next_sequence_arg)):\n",
    "        inputs[next_sequence_arg[i]] = randoms[:, i]\n",
    "\n",
    "    print(\"randoms generation time = \", pc() - time_rngen)"
   ]
  },
  {
   "cell_type": "markdown",
   "metadata": {
    "id": "K4qklYM_ItZF"
   },
   "source": [
    "### Prepare request object. Here we want cva/dva values and their sensitivities"
   ]
  },
  {
   "cell_type": "code",
   "execution_count": 30,
   "metadata": {
    "id": "tg_ginYVItZG"
   },
   "outputs": [],
   "source": [
    "    request = {\n",
    "        economic_cva_res: [rate_arg] + volatilities_arg + hazard_rates_arg,\n",
    "        economic_dva_res: [rate_arg] + volatilities_arg + hazard_rates_arg,\n",
    "    }"
   ]
  },
  {
   "cell_type": "markdown",
   "metadata": {
    "id": "E-SHdWRDItZG"
   },
   "source": [
    "### We also want to get portfolio values to calculate Expected Exposure"
   ]
  },
  {
   "cell_type": "code",
   "execution_count": 31,
   "metadata": {
    "id": "NdCpWq3YItZG"
   },
   "outputs": [],
   "source": [
    "    for i in range(len(discounted_portfolio_npv_res)):\n",
    "        request[discounted_portfolio_npv_res[i]] = []\n"
   ]
  },
  {
   "cell_type": "markdown",
   "metadata": {
    "id": "DBQFJhY0ItZG"
   },
   "source": [
    "### Running simulations. Here we use avx2 and 1 CPU core"
   ]
  },
  {
   "cell_type": "code",
   "execution_count": 32,
   "metadata": {
    "colab": {
     "base_uri": "https://localhost:8080/"
    },
    "id": "myfrzM1tItZG",
    "outputId": "d4d9a931-7d7f-450f-f8e7-d9330be2c1ac"
   },
   "outputs": [
    {
     "name": "stdout",
     "output_type": "stream",
     "text": [
      "Running simulation...\n",
      "evaluation time =  0.5406564460135996\n"
     ]
    }
   ],
   "source": [
    "    print(\"Running simulation...\")\n",
    "    t0 = pc()\n",
    "    results = aadc.evaluate(funcs, request, inputs, aadc.ThreadPool(1))\n",
    "    print(\"evaluation time = \", pc() - t0)"
   ]
  },
  {
   "cell_type": "markdown",
   "metadata": {
    "id": "kEiCX1gIItZG"
   },
   "source": [
    "### Compare this with using 4 CPU cores. Note that QL isn't MT safe, but AADC Kernels are."
   ]
  },
  {
   "cell_type": "code",
   "execution_count": 33,
   "metadata": {
    "colab": {
     "base_uri": "https://localhost:8080/"
    },
    "id": "kMNFIc_vItZG",
    "outputId": "4899feed-4f25-497a-f2d5-ac7d406dc1b4"
   },
   "outputs": [
    {
     "name": "stdout",
     "output_type": "stream",
     "text": [
      "Running simulation...\n",
      "evaluation time =  0.15461583202704787\n"
     ]
    }
   ],
   "source": [
    "    print(\"Running simulation...\")\n",
    "    t0 = pc()\n",
    "    results = aadc.evaluate(funcs, request, inputs, aadc.ThreadPool(4))\n",
    "    print(\"evaluation time = \", pc() - t0)\n"
   ]
  },
  {
   "cell_type": "code",
   "execution_count": 34,
   "metadata": {
    "colab": {
     "base_uri": "https://localhost:8080/"
    },
    "id": "16f0eKbLItZH",
    "outputId": "0179ed2a-f15a-418a-d6c3-a494aaa3c089"
   },
   "outputs": [
    {
     "name": "stdout",
     "output_type": "stream",
     "text": [
      "CVA: 627.5282798805566\n",
      "DVA: 1502.2034089410563\n"
     ]
    }
   ],
   "source": [
    "    print(\"CVA:\", np.average(results[0][economic_cva_res]))\n",
    "    print(\"DVA:\", np.average(results[0][economic_dva_res]))"
   ]
  },
  {
   "cell_type": "code",
   "execution_count": 35,
   "metadata": {
    "colab": {
     "base_uri": "https://localhost:8080/"
    },
    "id": "MJZ6zNy4ItZH",
    "outputId": "0a6b2197-6bed-474e-cc62-061f7db73fd6"
   },
   "outputs": [
    {
     "name": "stdout",
     "output_type": "stream",
     "text": [
      "dCVA/dVol[ 0 ]: 10692.44526851851\n",
      "dCVA/dVol[ 1 ]: 68994.5232733822\n",
      "dCVA/dHazR[ 0 ]: 0.0\n",
      "dCVA/dHazR[ 1 ]: 1531.2324739295902\n",
      "dCVA/dHazR[ 2 ]: 2609.7167390061313\n",
      "dCVA/dHazR[ 3 ]: 2544.7505994528397\n",
      "dCVA/dHazR[ 4 ]: 2062.380204309356\n",
      "dCVA/dHazR[ 5 ]: 1034.595318397354\n",
      "dCVA/dHazR[ 6 ]: 0.0\n",
      "dCVA/dHazR[ 7 ]: 0.0\n",
      "dCVA/dHazR[ 8 ]: 0.0\n",
      "dCVA/dHazR[ 9 ]: 0.0\n",
      "dCVA/dHazR[ 10 ]: 0.0\n"
     ]
    }
   ],
   "source": [
    "    for i in range(len(volatilities_arg)):\n",
    "        print(\"dCVA/dVol[\", i, \"]:\", np.average(results[1][economic_cva_res][volatilities_arg[i]]))\n",
    "    for i in range(len(hazard_rates_arg)):\n",
    "        print(\"dCVA/dHazR[\", i, \"]:\", np.average(results[1][economic_cva_res][hazard_rates_arg[i]]))"
   ]
  },
  {
   "cell_type": "code",
   "execution_count": 36,
   "metadata": {
    "id": "uzLj7XwAItZH"
   },
   "outputs": [],
   "source": [
    "aadc_discounted_portfolio_npv = np.zeros((len(discounted_portfolio_npv_res), number_of_paths))\n",
    "for i in range(len(discounted_portfolio_npv_res)):\n",
    "    aadc_discounted_portfolio_npv[i] = results[0][discounted_portfolio_npv_res[i]]"
   ]
  },
  {
   "cell_type": "code",
   "execution_count": 37,
   "metadata": {
    "id": "b3LPhRPZItZH"
   },
   "outputs": [],
   "source": [
    "#    expected_exposure = calculate_expected_exposure(portfolio_npv, number_of_paths)\n",
    "expected_discounted_exposure = calculate_expected_exposure(aadc_discounted_portfolio_npv, number_of_paths)"
   ]
  },
  {
   "cell_type": "code",
   "execution_count": 38,
   "metadata": {
    "colab": {
     "base_uri": "https://localhost:8080/"
    },
    "id": "nCiwWpMUItZH",
    "outputId": "362a31cb-0982-43e7-9001-daf7118d5a92"
   },
   "outputs": [
    {
     "data": {
      "text/plain": [
       "array([[ 1235.9067555 ,  1235.9067555 ,  1235.9067555 , ...,\n",
       "         1235.9067555 ,  1235.9067555 ,  1235.9067555 ],\n",
       "       [  -60.13707245,  4527.14675854,  4572.4976872 , ...,\n",
       "        -1305.46106792, -1068.8169734 , -2284.38335432],\n",
       "       [13962.75337849,  1730.42322898,  2569.48500942, ...,\n",
       "         1973.50273763, 10186.28232247, -8867.3034623 ],\n",
       "       ...,\n",
       "       [    0.        ,     0.        ,     0.        , ...,\n",
       "            0.        ,     0.        ,     0.        ],\n",
       "       [    0.        ,     0.        ,     0.        , ...,\n",
       "            0.        ,     0.        ,     0.        ],\n",
       "       [    0.        ,     0.        ,     0.        , ...,\n",
       "            0.        ,     0.        ,     0.        ]])"
      ]
     },
     "execution_count": 38,
     "metadata": {},
     "output_type": "execute_result"
    }
   ],
   "source": [
    "aadc_discounted_portfolio_npv"
   ]
  },
  {
   "cell_type": "code",
   "execution_count": 39,
   "metadata": {
    "id": "5PBnsBkIItZH"
   },
   "outputs": [],
   "source": [
    "import ipywidgets as widgets"
   ]
  },
  {
   "cell_type": "code",
   "execution_count": 41,
   "metadata": {
    "id": "6E_7ke8TItZH"
   },
   "outputs": [
    {
     "name": "stdout",
     "output_type": "stream",
     "text": [
      "Collecting matplotlib\n",
      "  Using cached matplotlib-3.9.0-cp311-cp311-manylinux_2_17_x86_64.manylinux2014_x86_64.whl (8.3 MB)\n",
      "Collecting contourpy>=1.0.1\n",
      "  Using cached contourpy-1.2.1-cp311-cp311-manylinux_2_17_x86_64.manylinux2014_x86_64.whl (306 kB)\n",
      "Collecting cycler>=0.10\n",
      "  Using cached cycler-0.12.1-py3-none-any.whl (8.3 kB)\n",
      "Collecting fonttools>=4.22.0\n",
      "  Downloading fonttools-4.53.0-cp311-cp311-manylinux_2_17_x86_64.manylinux2014_x86_64.whl (4.9 MB)\n",
      "\u001b[2K     \u001b[38;2;114;156;31m━━━━━━━━━━━━━━━━━━━━━━━━━━━━━━━━━━━━━━━━\u001b[0m \u001b[32m4.9/4.9 MB\u001b[0m \u001b[31m53.6 MB/s\u001b[0m eta \u001b[36m0:00:00\u001b[0mm eta \u001b[36m0:00:01\u001b[0m0:01\u001b[0m\n",
      "\u001b[?25hCollecting kiwisolver>=1.3.1\n",
      "  Using cached kiwisolver-1.4.5-cp311-cp311-manylinux_2_17_x86_64.manylinux2014_x86_64.whl (1.4 MB)\n",
      "Requirement already satisfied: numpy>=1.23 in /home/dimach/venv/test/lib/python3.11/site-packages (from matplotlib) (1.26.4)\n",
      "Requirement already satisfied: packaging>=20.0 in /home/dimach/venv/test/lib/python3.11/site-packages (from matplotlib) (24.0)\n",
      "Collecting pillow>=8\n",
      "  Using cached pillow-10.3.0-cp311-cp311-manylinux_2_28_x86_64.whl (4.5 MB)\n",
      "Collecting pyparsing>=2.3.1\n",
      "  Using cached pyparsing-3.1.2-py3-none-any.whl (103 kB)\n",
      "Requirement already satisfied: python-dateutil>=2.7 in /home/dimach/venv/test/lib/python3.11/site-packages (from matplotlib) (2.9.0.post0)\n",
      "Requirement already satisfied: six>=1.5 in /home/dimach/venv/test/lib/python3.11/site-packages (from python-dateutil>=2.7->matplotlib) (1.16.0)\n",
      "Installing collected packages: pyparsing, pillow, kiwisolver, fonttools, cycler, contourpy, matplotlib\n",
      "Successfully installed contourpy-1.2.1 cycler-0.12.1 fonttools-4.53.0 kiwisolver-1.4.5 matplotlib-3.9.0 pillow-10.3.0 pyparsing-3.1.2\n"
     ]
    }
   ],
   "source": [
    "!pip install matplotlib\n",
    "import matplotlib.pyplot as plt"
   ]
  },
  {
   "cell_type": "markdown",
   "metadata": {
    "id": "yocnDPLMItZH"
   },
   "source": [
    "## Now we use prerecorded Kernel to calculate CVA/DVA and risk for arbitrary shocks in input Market Data"
   ]
  },
  {
   "cell_type": "code",
   "execution_count": 42,
   "metadata": {
    "colab": {
     "base_uri": "https://localhost:8080/",
     "height": 1000,
     "referenced_widgets": [
      "9214cb39401e48fba5441ee9e8ebfd33",
      "ecf5097adcc64ba8a07652b08f24e165",
      "90df36dcb70a43319ad1299fa358263e",
      "45cfb655a48546d2a5462a4f763c0c49",
      "7857e954c34d437988e8ec5e5fface20",
      "17f5c9bcf96e4ace853f205350c54d06",
      "42d35f6044b34307bfaf79fe544edf2f"
     ]
    },
    "id": "zdl40L_BItZH",
    "outputId": "b8947b73-7bd3-49b9-b0f4-9d2a22fda3af"
   },
   "outputs": [
    {
     "data": {
      "application/vnd.jupyter.widget-view+json": {
       "model_id": "9249c68b41b341a1b334055c74151864",
       "version_major": 2,
       "version_minor": 0
      },
      "text/plain": [
       "interactive(children=(FloatSlider(value=2.0, description='rate_shift', max=10.0, min=-5.0, step=5e-05), Output…"
      ]
     },
     "metadata": {},
     "output_type": "display_data"
    },
    {
     "data": {
      "text/plain": [
       "<function __main__.recalc(rate_shift)>"
      ]
     },
     "execution_count": 42,
     "metadata": {},
     "output_type": "execute_result"
    }
   ],
   "source": [
    "def recalc(rate_shift):\n",
    "    inputs[rate_arg] = rate_value+rate_shift/100\n",
    "    t0 = pc()\n",
    "    results = aadc.evaluate(funcs, request, inputs, aadc.ThreadPool(10))\n",
    "    print(\"evaluation time = \", pc() - t0, \"sec\")\n",
    "    for i in range(len(discounted_portfolio_npv_res)):\n",
    "        aadc_discounted_portfolio_npv[i] = results[0][discounted_portfolio_npv_res[i]]\n",
    "    expected_discounted_exposure = calculate_expected_exposure(aadc_discounted_portfolio_npv, number_of_paths)\n",
    "\n",
    "    plt.subplot(3,1,1)\n",
    "    plt.plot(evaluation_time_grid, expected_discounted_exposure)\n",
    "    plt.xlabel(\"Years\")\n",
    "    plt.ylabel(\"PFE\")\n",
    "\n",
    "    cva_hazard_rates_delta = np.zeros(np.shape(hazard_rates_arg))\n",
    "    for i in range(len(hazard_rates_arg)):\n",
    "        cva_hazard_rates_delta[i] = np.average(results[1][economic_cva_res][hazard_rates_arg[i]])\n",
    "    dva_hazard_rates_delta = np.zeros(np.shape(hazard_rates_arg))\n",
    "    for i in range(len(hazard_rates_arg)):\n",
    "        dva_hazard_rates_delta[i] = np.average(results[1][economic_dva_res][hazard_rates_arg[i]])\n",
    "    plt.subplot(3,1,2)\n",
    "    plt.bar(list(range(len(hazard_rates_arg))), cva_hazard_rates_delta)\n",
    "    plt.xlabel(\"Years\")\n",
    "    plt.ylabel(\"dCVA\")\n",
    "    plt.subplot(3,1,3)\n",
    "    plt.bar(list(range(len(hazard_rates_arg))), dva_hazard_rates_delta)\n",
    "    plt.xlabel(\"Years\")\n",
    "    plt.ylabel(\"dDVA\")\n",
    "    plt.show()\n",
    "\n",
    "    print(\"CVA:\", np.average(results[0][economic_cva_res]))\n",
    "    print(\"DVA:\", np.average(results[0][economic_dva_res]))\n",
    "\n",
    "\n",
    "widgets.interact(recalc, rate_shift=(-5, 10, 0.00005))"
   ]
  }
 ],
 "metadata": {
  "colab": {
   "provenance": []
  },
  "kernelspec": {
   "display_name": "Python 3 (ipykernel)",
   "language": "python",
   "name": "python3"
  },
  "language_info": {
   "codemirror_mode": {
    "name": "ipython",
    "version": 3
   },
   "file_extension": ".py",
   "mimetype": "text/x-python",
   "name": "python",
   "nbconvert_exporter": "python",
   "pygments_lexer": "ipython3",
   "version": "3.11.2"
  },
  "widgets": {
   "application/vnd.jupyter.widget-state+json": {
    "17f5c9bcf96e4ace853f205350c54d06": {
     "model_module": "@jupyter-widgets/controls",
     "model_module_version": "1.5.0",
     "model_name": "SliderStyleModel",
     "state": {
      "_model_module": "@jupyter-widgets/controls",
      "_model_module_version": "1.5.0",
      "_model_name": "SliderStyleModel",
      "_view_count": null,
      "_view_module": "@jupyter-widgets/base",
      "_view_module_version": "1.2.0",
      "_view_name": "StyleView",
      "description_width": "",
      "handle_color": null
     }
    },
    "42d35f6044b34307bfaf79fe544edf2f": {
     "model_module": "@jupyter-widgets/base",
     "model_module_version": "1.2.0",
     "model_name": "LayoutModel",
     "state": {
      "_model_module": "@jupyter-widgets/base",
      "_model_module_version": "1.2.0",
      "_model_name": "LayoutModel",
      "_view_count": null,
      "_view_module": "@jupyter-widgets/base",
      "_view_module_version": "1.2.0",
      "_view_name": "LayoutView",
      "align_content": null,
      "align_items": null,
      "align_self": null,
      "border": null,
      "bottom": null,
      "display": null,
      "flex": null,
      "flex_flow": null,
      "grid_area": null,
      "grid_auto_columns": null,
      "grid_auto_flow": null,
      "grid_auto_rows": null,
      "grid_column": null,
      "grid_gap": null,
      "grid_row": null,
      "grid_template_areas": null,
      "grid_template_columns": null,
      "grid_template_rows": null,
      "height": null,
      "justify_content": null,
      "justify_items": null,
      "left": null,
      "margin": null,
      "max_height": null,
      "max_width": null,
      "min_height": null,
      "min_width": null,
      "object_fit": null,
      "object_position": null,
      "order": null,
      "overflow": null,
      "overflow_x": null,
      "overflow_y": null,
      "padding": null,
      "right": null,
      "top": null,
      "visibility": null,
      "width": null
     }
    },
    "45cfb655a48546d2a5462a4f763c0c49": {
     "model_module": "@jupyter-widgets/base",
     "model_module_version": "1.2.0",
     "model_name": "LayoutModel",
     "state": {
      "_model_module": "@jupyter-widgets/base",
      "_model_module_version": "1.2.0",
      "_model_name": "LayoutModel",
      "_view_count": null,
      "_view_module": "@jupyter-widgets/base",
      "_view_module_version": "1.2.0",
      "_view_name": "LayoutView",
      "align_content": null,
      "align_items": null,
      "align_self": null,
      "border": null,
      "bottom": null,
      "display": null,
      "flex": null,
      "flex_flow": null,
      "grid_area": null,
      "grid_auto_columns": null,
      "grid_auto_flow": null,
      "grid_auto_rows": null,
      "grid_column": null,
      "grid_gap": null,
      "grid_row": null,
      "grid_template_areas": null,
      "grid_template_columns": null,
      "grid_template_rows": null,
      "height": null,
      "justify_content": null,
      "justify_items": null,
      "left": null,
      "margin": null,
      "max_height": null,
      "max_width": null,
      "min_height": null,
      "min_width": null,
      "object_fit": null,
      "object_position": null,
      "order": null,
      "overflow": null,
      "overflow_x": null,
      "overflow_y": null,
      "padding": null,
      "right": null,
      "top": null,
      "visibility": null,
      "width": null
     }
    },
    "7857e954c34d437988e8ec5e5fface20": {
     "model_module": "@jupyter-widgets/base",
     "model_module_version": "1.2.0",
     "model_name": "LayoutModel",
     "state": {
      "_model_module": "@jupyter-widgets/base",
      "_model_module_version": "1.2.0",
      "_model_name": "LayoutModel",
      "_view_count": null,
      "_view_module": "@jupyter-widgets/base",
      "_view_module_version": "1.2.0",
      "_view_name": "LayoutView",
      "align_content": null,
      "align_items": null,
      "align_self": null,
      "border": null,
      "bottom": null,
      "display": null,
      "flex": null,
      "flex_flow": null,
      "grid_area": null,
      "grid_auto_columns": null,
      "grid_auto_flow": null,
      "grid_auto_rows": null,
      "grid_column": null,
      "grid_gap": null,
      "grid_row": null,
      "grid_template_areas": null,
      "grid_template_columns": null,
      "grid_template_rows": null,
      "height": null,
      "justify_content": null,
      "justify_items": null,
      "left": null,
      "margin": null,
      "max_height": null,
      "max_width": null,
      "min_height": null,
      "min_width": null,
      "object_fit": null,
      "object_position": null,
      "order": null,
      "overflow": null,
      "overflow_x": null,
      "overflow_y": null,
      "padding": null,
      "right": null,
      "top": null,
      "visibility": null,
      "width": null
     }
    },
    "90df36dcb70a43319ad1299fa358263e": {
     "model_module": "@jupyter-widgets/output",
     "model_module_version": "1.0.0",
     "model_name": "OutputModel",
     "state": {
      "_dom_classes": [],
      "_model_module": "@jupyter-widgets/output",
      "_model_module_version": "1.0.0",
      "_model_name": "OutputModel",
      "_view_count": null,
      "_view_module": "@jupyter-widgets/output",
      "_view_module_version": "1.0.0",
      "_view_name": "OutputView",
      "layout": "IPY_MODEL_42d35f6044b34307bfaf79fe544edf2f",
      "msg_id": "",
      "outputs": [
       {
        "name": "stdout",
        "output_type": "stream",
        "text": [
         "evaluation time =  0.5903164430001198 sec\n",
         "CVA: 1.0305483879061137\n",
         "DVA: 9663.701153703409\n"
        ]
       }
      ]
     }
    },
    "9214cb39401e48fba5441ee9e8ebfd33": {
     "model_module": "@jupyter-widgets/controls",
     "model_module_version": "1.5.0",
     "model_name": "VBoxModel",
     "state": {
      "_dom_classes": [
       "widget-interact"
      ],
      "_model_module": "@jupyter-widgets/controls",
      "_model_module_version": "1.5.0",
      "_model_name": "VBoxModel",
      "_view_count": null,
      "_view_module": "@jupyter-widgets/controls",
      "_view_module_version": "1.5.0",
      "_view_name": "VBoxView",
      "box_style": "",
      "children": [
       "IPY_MODEL_ecf5097adcc64ba8a07652b08f24e165",
       "IPY_MODEL_90df36dcb70a43319ad1299fa358263e"
      ],
      "layout": "IPY_MODEL_45cfb655a48546d2a5462a4f763c0c49"
     }
    },
    "ecf5097adcc64ba8a07652b08f24e165": {
     "model_module": "@jupyter-widgets/controls",
     "model_module_version": "1.5.0",
     "model_name": "FloatSliderModel",
     "state": {
      "_dom_classes": [],
      "_model_module": "@jupyter-widgets/controls",
      "_model_module_version": "1.5.0",
      "_model_name": "FloatSliderModel",
      "_view_count": null,
      "_view_module": "@jupyter-widgets/controls",
      "_view_module_version": "1.5.0",
      "_view_name": "FloatSliderView",
      "continuous_update": true,
      "description": "rate_shift",
      "description_tooltip": null,
      "disabled": false,
      "layout": "IPY_MODEL_7857e954c34d437988e8ec5e5fface20",
      "max": 10,
      "min": -5,
      "orientation": "horizontal",
      "readout": true,
      "readout_format": ".2f",
      "step": 5e-05,
      "style": "IPY_MODEL_17f5c9bcf96e4ace853f205350c54d06",
      "value": -3.45365
     }
    }
   }
  }
 },
 "nbformat": 4,
 "nbformat_minor": 4
}
