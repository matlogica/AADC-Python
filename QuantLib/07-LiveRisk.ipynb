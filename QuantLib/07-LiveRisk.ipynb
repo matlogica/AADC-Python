{
 "cells": [
  {
   "cell_type": "markdown",
   "metadata": {},
   "source": [
    "<a href=\"https://colab.research.google.com/github/matlogica/AADC-Python/blob/main/QuantLib/07-LiveRisk.ipynb\" target=\"_parent\"><img src=\"https://colab.research.google.com/assets/colab-badge.svg\" alt=\"Open In Colab\"/></a>"
   ]
  },
  {
   "cell_type": "markdown",
   "metadata": {},
   "source": [
    "# AADC Live risk server approach\n",
    "We start with generating a random portfolio of 1000 IR swaps with random start dates, notionals and maturities.\n",
    "We then record an AADC kernel for a single portfolio price, marking the IR zero rates as inputs.\n",
    "We then simulate random \"market updates\" and demonstrate fast repricing of the portfolio along with bucketed AAD deltas.\n",
    "Kernel execution is so fast (within tens of ms), that it can be used as a source of a ticking \"live risk\" for the portfolio"
   ]
  },
  {
   "cell_type": "code",
   "execution_count": 17,
   "metadata": {},
   "outputs": [],
   "source": [
    "import aadc\n",
    "import aadc.quantlib as ql\n",
    "import numpy as np\n",
    "import matplotlib.pyplot as plt\n",
    "import ipywidgets as widgets\n",
    "from ipywidgets import interactive\n",
    "import random\n",
    "import time"
   ]
  },
  {
   "cell_type": "markdown",
   "metadata": {},
   "source": [
    "Random portfolio generation:"
   ]
  },
  {
   "cell_type": "code",
   "execution_count": 18,
   "metadata": {},
   "outputs": [],
   "source": [
    "def createRandomSwaps(num_trades, todays_date, calendar):\n",
    "    random.seed(42)\n",
    "    portfolio = []\n",
    "\n",
    "    for _ in range(num_trades):\n",
    "        discounting_term_structure = ql.RelinkableYieldTermStructureHandle()\n",
    "        forecasting_term_structure = ql.RelinkableYieldTermStructureHandle()\n",
    "\n",
    "        nominal = 1000000.0 * (100.0 + random.randint(0, 399)) * (-1.0 + 2 * random.randint(0, 1))\n",
    "\n",
    "        # Fixed leg\n",
    "        fixed_leg_frequency = ql.Bimonthly\n",
    "        fixed_leg_convention = ql.Unadjusted\n",
    "        floating_leg_convention = ql.ModifiedFollowing\n",
    "        fixed_leg_day_counter = ql.Thirty360(ql.Thirty360.European)\n",
    "        fixed_rate = 0.03\n",
    "        floating_leg_day_counter = ql.Actual360()\n",
    "        start_date = todays_date + ql.Period(10 + random.randint(0, 359), ql.Days)\n",
    "\n",
    "        # Floating leg\n",
    "        floating_leg_frequency = ql.Semiannual\n",
    "        euribor_index = ql.Euribor6M(forecasting_term_structure)\n",
    "        spread = 0.0\n",
    "\n",
    "        length_in_years = 2 + random.randint(0, 25)\n",
    "\n",
    "        swap_type = ql.VanillaSwap.Payer\n",
    "\n",
    "        maturity_date = start_date + ql.Period(length_in_years, ql.Years)\n",
    "        fixed_schedule = ql.Schedule(start_date, maturity_date, ql.Period(fixed_leg_frequency), calendar,\n",
    "                                     fixed_leg_convention, fixed_leg_convention, ql.DateGeneration.Forward, False)\n",
    "        floating_schedule = ql.Schedule(start_date, maturity_date, ql.Period(floating_leg_frequency), calendar,\n",
    "                                        floating_leg_convention, floating_leg_convention, ql.DateGeneration.Forward, False)\n",
    "\n",
    "        random_vanilla_swap = ql.VanillaSwap(\n",
    "            swap_type, nominal, fixed_schedule, fixed_rate, fixed_leg_day_counter,\n",
    "            floating_schedule, euribor_index, spread, floating_leg_day_counter\n",
    "        )\n",
    "\n",
    "        swap_engine = ql.DiscountingSwapEngine(discounting_term_structure)\n",
    "        random_vanilla_swap.setPricingEngine(swap_engine)\n",
    "\n",
    "        portfolio.append((random_vanilla_swap, discounting_term_structure, forecasting_term_structure))\n",
    "\n",
    "    return portfolio"
   ]
  },
  {
   "cell_type": "markdown",
   "metadata": {},
   "source": [
    "Pricing using original Quantlib code"
   ]
  },
  {
   "cell_type": "code",
   "execution_count": 19,
   "metadata": {},
   "outputs": [],
   "source": [
    "def price_portfolio(portfolio, dates, zero_rates):\n",
    "    total_npv = aadc.idouble(0.0)\n",
    "\n",
    "    log_linear_curve = ql.ZeroCurve(dates, zero_rates.tolist(), ql.Actual360(), ql.TARGET())\n",
    "    log_linear_curve.enableExtrapolation()\n",
    "\n",
    "    for (swap, discounting_term_structure, forecasting_term_structure) in portfolio:\n",
    "        discounting_term_structure.linkTo(log_linear_curve)\n",
    "        forecasting_term_structure.linkTo(log_linear_curve)\n",
    "        total_npv += swap.NPV()\n",
    "\n",
    "    return total_npv"
   ]
  },
  {
   "cell_type": "markdown",
   "metadata": {},
   "source": [
    "Recording the AADC kernel"
   ]
  },
  {
   "cell_type": "code",
   "execution_count": 20,
   "metadata": {},
   "outputs": [],
   "source": [
    "\n",
    "\n",
    "def record_kernel(portfolio, dates):\n",
    "    kernel = aadc.Kernel()\n",
    "    kernel.start_recording()\n",
    "\n",
    "    zero_rates = aadc.array(np.zeros(len(dates)))\n",
    "    zero_args = zero_rates.mark_as_input()\n",
    "\n",
    "    total_npv = price_portfolio(portfolio, dates, zero_rates)\n",
    "\n",
    "    res = total_npv.mark_as_output()\n",
    "    kernel.stop_recording()\n",
    "\n",
    "    return (kernel, { res: zero_args })"
   ]
  },
  {
   "cell_type": "markdown",
   "metadata": {},
   "source": [
    "Set up everything and run the recording. This could be done at the beginning of a trading day in a live risk server setting"
   ]
  },
  {
   "cell_type": "code",
   "execution_count": 21,
   "metadata": {},
   "outputs": [
    {
     "name": "stdout",
     "output_type": "stream",
     "text": [
      "You are using evaluation version of AADC. Expire date is 20240901\n",
      "Recording time:  4.090595722198486\n",
      "Number active to passive conversions: 0 while recording Python\n"
     ]
    }
   ],
   "source": [
    "\n",
    "num_trades = 1000\n",
    "todays_date = ql.Date(12, ql.June, 2024)\n",
    "calendar = ql.TARGET()\n",
    "\n",
    "portfolio = createRandomSwaps(num_trades, todays_date, calendar)\n",
    "dates = [todays_date] + [todays_date + ql.Period(i, ql.Years) for i in range(1, 30)]\n",
    "\n",
    "mark_time = time.time()\n",
    "(kernel, request) = record_kernel(portfolio, dates)\n",
    "\n",
    "print(\"Recording time: \", time.time() - mark_time)\n",
    "\n",
    "kernel.print_passive_extract_locations()"
   ]
  },
  {
   "cell_type": "markdown",
   "metadata": {},
   "source": [
    "Time one portfolio pricing with original Quantlib code"
   ]
  },
  {
   "cell_type": "code",
   "execution_count": 22,
   "metadata": {},
   "outputs": [
    {
     "name": "stdout",
     "output_type": "stream",
     "text": [
      "CPU times: user 70.1 ms, sys: 33 ms, total: 103 ms\n",
      "Wall time: 103 ms\n"
     ]
    },
    {
     "data": {
      "text/plain": [
       "-4826369999.999888"
      ]
     },
     "execution_count": 22,
     "metadata": {},
     "output_type": "execute_result"
    }
   ],
   "source": [
    "%%time\n",
    "price_portfolio(portfolio, dates, np.zeros(len(dates)))"
   ]
  },
  {
   "cell_type": "markdown",
   "metadata": {},
   "source": [
    "Execute the recorded kernel for a given market update. The random \"market update\" is simulated by providing different seeds to the random numbers generator and subsequently using the generator to produce zero rates for the IR curves."
   ]
  },
  {
   "cell_type": "code",
   "execution_count": 23,
   "metadata": {},
   "outputs": [
    {
     "name": "stdout",
     "output_type": "stream",
     "text": [
      "Calculation time:  0.05907607078552246\n"
     ]
    },
    {
     "data": {
      "text/plain": [
       "(array([0.0106, 0.0039, 0.0028, 0.0119, 0.006 , 0.0056, 0.0053, 0.0042,\n",
       "        0.0119, 0.0038, 0.0111, 0.0119, 0.0094, 0.0036, 0.01  , 0.0079,\n",
       "        0.0029, 0.0028, 0.0036, 0.0052, 0.0054, 0.0089, 0.0102, 0.0028,\n",
       "        0.0096, 0.005 , 0.0116, 0.0108, 0.0114, 0.0094]),\n",
       " ({Res(593280): array([-3.06171282e+09])},\n",
       "  {Res(593280): {Arg(7): array([-2.71154029e+08]),\n",
       "    Arg(8): array([-2.33599052e+09]),\n",
       "    Arg(9): array([95473624.52143878]),\n",
       "    Arg(10): array([-2.67159216e+09]),\n",
       "    Arg(11): array([-1.13067702e+10]),\n",
       "    Arg(12): array([-7.7708617e+09]),\n",
       "    Arg(13): array([-1.68327627e+09]),\n",
       "    Arg(14): array([-5.02848577e+08]),\n",
       "    Arg(15): array([1.40243253e+09]),\n",
       "    Arg(16): array([1.88911676e+09]),\n",
       "    Arg(17): array([7.14903345e+09]),\n",
       "    Arg(18): array([3.85957032e+09]),\n",
       "    Arg(19): array([-1.30158466e+10]),\n",
       "    Arg(20): array([-3.09489203e+09]),\n",
       "    Arg(21): array([-2.93155413e+10]),\n",
       "    Arg(22): array([2.19427717e+10]),\n",
       "    Arg(23): array([1.77834842e+10]),\n",
       "    Arg(24): array([3.46343595e+09]),\n",
       "    Arg(25): array([2.28373239e+10]),\n",
       "    Arg(26): array([2.23932045e+10]),\n",
       "    Arg(27): array([2.55189772e+10]),\n",
       "    Arg(28): array([1.68716069e+10]),\n",
       "    Arg(29): array([1.24651855e+10]),\n",
       "    Arg(30): array([-2.22644554e+10]),\n",
       "    Arg(31): array([1.89700615e+10]),\n",
       "    Arg(32): array([2.37012977e+10]),\n",
       "    Arg(33): array([1.15514375e+10]),\n",
       "    Arg(34): array([4.96470892e+10]),\n",
       "    Arg(35): array([2.04907595e+10]),\n",
       "    Arg(36): array([0.])}}))"
      ]
     },
     "execution_count": 23,
     "metadata": {},
     "output_type": "execute_result"
    }
   ],
   "source": [
    "import time\n",
    "\n",
    "def calc_risks(seed):\n",
    "    random.seed(seed)\n",
    "    zero_rates = np.zeros(len(dates))\n",
    "    for i in range(len(dates)):\n",
    "        zero_rates[i] = 0.0025 + 0.005 * 0.02 * random.randint(0, 99)\n",
    "\n",
    "    args = list(request.values())[0]\n",
    "\n",
    "    time_mark = time.time()\n",
    "\n",
    "    r = aadc.evaluate(kernel, request, { a: [x] for a, x in zip(args, zero_rates) }, aadc.ThreadPool(1))\n",
    "\n",
    "    print(\"Calculation time: \", time.time() - time_mark)\n",
    "\n",
    "    return (zero_rates, r)\n",
    "\n",
    "calc_risks(42)"
   ]
  },
  {
   "cell_type": "markdown",
   "metadata": {},
   "source": [
    "Plot the results interactively"
   ]
  },
  {
   "cell_type": "code",
   "execution_count": 24,
   "metadata": {},
   "outputs": [
    {
     "data": {
      "application/vnd.jupyter.widget-view+json": {
       "model_id": "6da54eba40624bbbb96786128f971999",
       "version_major": 2,
       "version_minor": 0
      },
      "text/plain": [
       "interactive(children=(FloatSlider(value=42.0, continuous_update=False, description='Seed:', min=1.0, step=1.0)…"
      ]
     },
     "execution_count": 24,
     "metadata": {},
     "output_type": "execute_result"
    }
   ],
   "source": [
    "def plot_risks(seed):\n",
    "    (zero_rates, r) = calc_risks(seed)\n",
    "\n",
    "    risks = [item for subdict in r[1].values() for sublist in subdict.values() for item in sublist]\n",
    "    assert(len(risks) == len(dates))\n",
    "\n",
    "    plot_years = range(0, 30)\n",
    "    assert(len(plot_years) == len(dates))\n",
    "\n",
    "    plt.figure(figsize=(14, 6))\n",
    "    plt.subplot(1, 2, 1)\n",
    "    plt.plot(plot_years, zero_rates, marker='o', linestyle='-', color='b')\n",
    "    plt.xlabel('Year')\n",
    "    plt.ylabel('Zero Rate')\n",
    "    plt.title('Zero Rate Curve')\n",
    "    plt.grid(True)\n",
    "    plt.ylim(0, max(zero_rates) * 1.5)\n",
    "\n",
    "    # Plotting the riks\n",
    "    plt.subplot(1, 2, 2)\n",
    "    plt.plot(plot_years, risks, marker='o', linestyle='-', color='r')\n",
    "    plt.xlabel('Year')\n",
    "    plt.ylabel('Zero risk')\n",
    "    plt.title('Zero risks')\n",
    "    plt.grid(True)\n",
    "    plt.ylim(min(risks) * 1.5, max(risks) * 1.5)\n",
    "\n",
    "    plt.tight_layout()\n",
    "    plt.show()\n",
    "\n",
    "\n",
    "\n",
    "# Create interactive sliders for level and slope\n",
    "seed_slider = widgets.FloatSlider(\n",
    "    value=42,\n",
    "    min=1,\n",
    "    max=100,\n",
    "    step=1,\n",
    "    description='Seed:',\n",
    "    continuous_update=False\n",
    ")\n",
    "\n",
    "# Use interactive function to update the plot\n",
    "interactive_plot = interactive(plot_risks, seed=seed_slider)\n",
    "output = interactive_plot.children[-1]\n",
    "output.layout.height = '650px'\n",
    "interactive_plot\n"
   ]
  }
 ],
 "metadata": {
  "kernelspec": {
   "display_name": "Python 3",
   "language": "python",
   "name": "python3"
  },
  "language_info": {
   "codemirror_mode": {
    "name": "ipython",
    "version": 3
   },
   "file_extension": ".py",
   "mimetype": "text/x-python",
   "name": "python",
   "nbconvert_exporter": "python",
   "pygments_lexer": "ipython3",
   "version": "3.11.8"
  }
 },
 "nbformat": 4,
 "nbformat_minor": 2
}
