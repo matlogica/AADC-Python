{
 "cells": [
  {
   "cell_type": "markdown",
   "id": "f058977c",
   "metadata": {},
   "source": [
    "<a href=\"https://colab.research.google.com/github/matlogica/AADC-Python/blob/main/QuantLib/05-OIS-QuantLib-UserCurve.ipynb\" target=\"_parent\"><img src=\"https://colab.research.google.com/assets/colab-badge.svg\" alt=\"Open In Colab\"/></a>"
   ]
  },
  {
   "cell_type": "markdown",
   "id": "0438afb4",
   "metadata": {},
   "source": [
    "Example to show how to use the AADC with QuantLib library in Python. It's based on OIS-QuantLib-example.ipynb so please check it first.\n",
    "\n",
    "In this example we define custom curve interpolation in Python deriving from C++ abstract class and using object created on Python size do perform pricing on C++ side. We than demostrate that AADC recording is fully functioning in this use case."
   ]
  },
  {
   "cell_type": "code",
   "execution_count": 1,
   "id": "d0bef058",
   "metadata": {},
   "outputs": [
    {
     "name": "stdout",
     "output_type": "stream",
     "text": [
      "Collecting aadcquantlib==1.7.5.27\n",
      "  Using cached https://matlogica.com/DemoReleases/aadcquantlib-1.7.5.27-cp311-cp311-linux_x86_64.whl (38.0 MB)\n"
     ]
    }
   ],
   "source": [
    "import sys\n",
    "!pip install https://matlogica.com/DemoReleases/aadcquantlib-1.7.5.30-cp3{sys.version_info.minor}-cp3{sys.version_info.minor}-linux_x86_64.whl"
   ]
  },
  {
   "cell_type": "code",
   "execution_count": 2,
   "id": "80ef0db4-ca47-480e-8ad4-4747aad99b27",
   "metadata": {},
   "outputs": [],
   "source": [
    "import aadc\n",
    "import aadc.quantlib as ql\n",
    "import numpy as np"
   ]
  },
  {
   "cell_type": "markdown",
   "id": "dfb5e575",
   "metadata": {},
   "source": [
    "Initialize QuantLib as normal"
   ]
  },
  {
   "cell_type": "code",
   "execution_count": 3,
   "id": "43042626-4a13-4802-8cc9-2059033e7135",
   "metadata": {},
   "outputs": [],
   "source": [
    "today = ql.Date(19, ql.October, 2020)\n",
    "ql.Settings().evaluationDate = today"
   ]
  },
  {
   "cell_type": "code",
   "execution_count": 4,
   "id": "6b782c73-a25c-4010-987f-e908752e4f28",
   "metadata": {},
   "outputs": [],
   "source": [
    "# create the yield curve zero rates using native double arrays\n",
    "dates = [    ql.Date(19,10,2020),    ql.Date(19,11,2020),    ql.Date(19, 1,2021),    ql.Date(19, 4,2021),    ql.Date(19,10,2021),    ql.Date(19, 4,2022),    ql.Date(19,10,2022),    ql.Date(19,10,2023),    ql.Date(19,10,2025),    ql.Date(19,10,2030),    ql.Date(19,10,2035),    ql.Date(19,10,2040),]\n",
    "\n",
    "forecast_rates = [    -0.004,    -0.002,    0.001,    0.005,    0.009,    0.010,    0.010,    0.012,    0.017,    0.019,    0.028,    0.032]\n"
   ]
  },
  {
   "cell_type": "code",
   "execution_count": 5,
   "id": "6690c1b1-d7a1-4da9-a7c1-923b35f1e63d",
   "metadata": {},
   "outputs": [],
   "source": [
    "discount_spread = - 0.001\n",
    "MyCurveOutputDebug = True"
   ]
  },
  {
   "cell_type": "code",
   "execution_count": 6,
   "id": "96d7ccd9-3277-4eed-850e-7e9310e44a44",
   "metadata": {},
   "outputs": [],
   "source": [
    "# ql.YieldTermStructure is interface class defined on QuantLib side\n",
    "# We override discountImpl() method to define custom discount factor interpolation method\n",
    "\n",
    "class MyCurve(ql.YieldTermStructure):\n",
    "    def __init__(self, dates, rates):\n",
    "        super(MyCurve, self).__init__(ql.Actual365Fixed())\n",
    "        self.dates = dates\n",
    "        self.rates = rates\n",
    "    def discountImpl(self, t):\n",
    "        # strange custom method to interpolate, but lets see if it works.\n",
    "        if MyCurveOutputDebug:\n",
    "            print(\"C++ called Python for discount factor at \",t)\n",
    "        # t is converted to float to show that it's not \"stochastic\"\n",
    "        return np.exp(-(self.rates[0] + self.rates[1]) * float(t))\n",
    "    def maxDate(self):\n",
    "        return ql.Date(31,12,2100)"
   ]
  },
  {
   "cell_type": "code",
   "execution_count": 7,
   "id": "b414d112-f5b9-4c91-b124-50f3451d39a2",
   "metadata": {},
   "outputs": [],
   "source": [
    "# Define function to price single OIS swap. Note that discount_rates are computed on Python side, but pricing is done on C++ side.\n",
    "# We calculate risk w.r.t forecast rates and discount spread. AAD tape is used to compute sensitivities on python and C++ side.\n",
    "\n",
    "def PriceOIS(dates, forecast_rates, discount_spread):\n",
    "    forecast_curve = ql.ZeroCurve(dates, forecast_rates, ql.Actual365Fixed())\n",
    "    \n",
    "    discount_rates = [ r + discount_spread for r in forecast_rates ]\n",
    "\n",
    "    # This time discount curve implemented on Python side\n",
    "    my_discount_curve = MyCurve(dates, discount_rates)\n",
    "\n",
    "    forecast_handle = ql.YieldTermStructureHandle(forecast_curve)\n",
    "    discount_handle = ql.YieldTermStructureHandle(my_discount_curve)\n",
    "\n",
    "    swap = ql.MakeOIS(swapTenor=ql.Period(5, ql.Years),\n",
    "                    overnightIndex=ql.Eonia(forecast_handle),\n",
    "                    fixedRate=0.002)\n",
    "\n",
    "    swapEngine = ql.DiscountingSwapEngine(discount_handle)\n",
    "    swap.setPricingEngine(swapEngine)\n",
    "\n",
    "    return swap.NPV()"
   ]
  },
  {
   "cell_type": "code",
   "execution_count": 8,
   "id": "97adedec-46e0-48d4-9926-477d8d5d219b",
   "metadata": {},
   "outputs": [
    {
     "name": "stdout",
     "output_type": "stream",
     "text": [
      "C++ called Python for discount factor at  idouble(0.00e+00)\n",
      "C++ called Python for discount factor at  idouble(1.22e+02)\n",
      "C++ called Python for discount factor at  idouble(1.23e+02)\n",
      "C++ called Python for discount factor at  idouble(1.24e+02)\n",
      "C++ called Python for discount factor at  idouble(1.25e+02)\n",
      "C++ called Python for discount factor at  idouble(1.26e+02)\n",
      "C++ called Python for discount factor at  idouble(1.21e+02)\n",
      "C++ called Python for discount factor at  idouble(1.21e+02)\n",
      "C++ called Python for discount factor at  idouble(1.26e+02)\n",
      "C++ called Python for discount factor at  idouble(1.22e+02)\n",
      "C++ called Python for discount factor at  idouble(1.23e+02)\n",
      "C++ called Python for discount factor at  idouble(1.24e+02)\n",
      "C++ called Python for discount factor at  idouble(1.25e+02)\n",
      "C++ called Python for discount factor at  idouble(1.26e+02)\n",
      "C++ called Python for discount factor at  idouble(1.21e+02)\n",
      "C++ called Python for discount factor at  idouble(1.21e+02)\n",
      "C++ called Python for discount factor at  idouble(1.26e+02)\n",
      "idouble(7.81e-02)\n"
     ]
    }
   ],
   "source": [
    "# Price the swap using regular call to QuantLib with native double types\n",
    "print(PriceOIS(dates, forecast_rates, discount_spread))"
   ]
  },
  {
   "cell_type": "code",
   "execution_count": 9,
   "id": "e7356a4f-7f06-4549-9a14-660ee66de51f",
   "metadata": {},
   "outputs": [],
   "source": [
    "# Create object to hold AADC Kernel recording\n",
    "funcs = aadc.Functions()"
   ]
  },
  {
   "cell_type": "code",
   "execution_count": 10,
   "id": "1d080826-c7df-4bba-a700-781e1760b07a",
   "metadata": {},
   "outputs": [
    {
     "name": "stdout",
     "output_type": "stream",
     "text": [
      "You are using evaluation version of AADC. Expire date is 20240901\n"
     ]
    }
   ],
   "source": [
    "# Start recording. All aadc.idouble() operations will be recorded\n",
    "funcs.start_recording()"
   ]
  },
  {
   "cell_type": "code",
   "execution_count": 11,
   "id": "e59f8cdb-ec30-4b66-8f37-f87c85e24dde",
   "metadata": {},
   "outputs": [
    {
     "data": {
      "text/plain": [
       "[idouble(-4.00e-03),\n",
       " idouble(-2.00e-03),\n",
       " idouble(1.00e-03),\n",
       " idouble(5.00e-03),\n",
       " idouble(9.00e-03),\n",
       " idouble(1.00e-02),\n",
       " idouble(1.00e-02),\n",
       " idouble(1.20e-02),\n",
       " idouble(1.70e-02),\n",
       " idouble(1.90e-02),\n",
       " idouble(2.80e-02),\n",
       " idouble(3.20e-02)]"
      ]
     },
     "execution_count": 11,
     "metadata": {},
     "output_type": "execute_result"
    }
   ],
   "source": [
    "# convert each element in rates and discount_spread to idouble\n",
    "forecast_rates = [aadc.idouble(r) for r in forecast_rates]\n",
    "discount_spread = aadc.idouble(discount_spread)\n",
    "forecast_rates"
   ]
  },
  {
   "cell_type": "code",
   "execution_count": 12,
   "id": "9aa19912-a0cd-4a35-b861-f824248e4240",
   "metadata": {},
   "outputs": [
    {
     "data": {
      "text/plain": [
       "[Arg(6),\n",
       " Arg(7),\n",
       " Arg(8),\n",
       " Arg(9),\n",
       " Arg(10),\n",
       " Arg(11),\n",
       " Arg(12),\n",
       " Arg(13),\n",
       " Arg(14),\n",
       " Arg(15),\n",
       " Arg(16),\n",
       " Arg(17)]"
      ]
     },
     "execution_count": 12,
     "metadata": {},
     "output_type": "execute_result"
    }
   ],
   "source": [
    "# mark each idouble as input and save the reference id\n",
    "forecast_ratesArgs = [r.mark_as_input() for r in forecast_rates]\n",
    "discount_spreadArg = discount_spread.mark_as_input()\n",
    "forecast_ratesArgs"
   ]
  },
  {
   "cell_type": "code",
   "execution_count": 13,
   "id": "9f9c921d-afb8-4b42-ac67-256389d8855f",
   "metadata": {},
   "outputs": [
    {
     "name": "stdout",
     "output_type": "stream",
     "text": [
      "C++ called Python for discount factor at  idouble(0.00e+00)\n",
      "C++ called Python for discount factor at  idouble(1.22e+02)\n",
      "C++ called Python for discount factor at  idouble(1.23e+02)\n",
      "C++ called Python for discount factor at  idouble(1.24e+02)\n",
      "C++ called Python for discount factor at  idouble(1.25e+02)\n",
      "C++ called Python for discount factor at  idouble(1.26e+02)\n",
      "C++ called Python for discount factor at  idouble(1.21e+02)\n",
      "C++ called Python for discount factor at  idouble(1.21e+02)\n",
      "C++ called Python for discount factor at  idouble(1.26e+02)\n",
      "C++ called Python for discount factor at  idouble(1.22e+02)\n",
      "C++ called Python for discount factor at  idouble(1.23e+02)\n",
      "C++ called Python for discount factor at  idouble(1.24e+02)\n",
      "C++ called Python for discount factor at  idouble(1.25e+02)\n",
      "C++ called Python for discount factor at  idouble(1.26e+02)\n",
      "C++ called Python for discount factor at  idouble(1.21e+02)\n",
      "C++ called Python for discount factor at  idouble(1.21e+02)\n",
      "C++ called Python for discount factor at  idouble(1.26e+02)\n"
     ]
    }
   ],
   "source": [
    "# Call the PriceOIS function with the idouble arguments and record the operations\n",
    "swap_NPV = PriceOIS(dates, forecast_rates, discount_spread)"
   ]
  },
  {
   "cell_type": "code",
   "execution_count": 14,
   "id": "9fbcd6ab",
   "metadata": {},
   "outputs": [
    {
     "name": "stdout",
     "output_type": "stream",
     "text": [
      "idouble([AAD[rv] [adj] :1437,7.81e-02])\n"
     ]
    }
   ],
   "source": [
    "# Note that swap_NPV is an aadc.idouble() object. [rv] - random variable [adj] - adjoint flag\n",
    "print(swap_NPV)"
   ]
  },
  {
   "cell_type": "code",
   "execution_count": 15,
   "id": "41dfcbe7-3a13-4d3d-b6d7-d5f55ca11665",
   "metadata": {},
   "outputs": [
    {
     "data": {
      "text/plain": [
       "Res(1437)"
      ]
     },
     "execution_count": 15,
     "metadata": {},
     "output_type": "execute_result"
    }
   ],
   "source": [
    "# Mark the swap_NPV as output and save the reference\n",
    "swapNPVRes = swap_NPV.mark_as_output()\n",
    "swapNPVRes"
   ]
  },
  {
   "cell_type": "code",
   "execution_count": 16,
   "id": "72ffc537-b90b-48d2-b133-be130ec64706",
   "metadata": {},
   "outputs": [],
   "source": [
    "# Stop recording\n",
    "funcs.stop_recording()"
   ]
  },
  {
   "cell_type": "code",
   "execution_count": 17,
   "id": "eb5f25ab-48d2-433b-bd81-ccf150bc377f",
   "metadata": {},
   "outputs": [
    {
     "name": "stdout",
     "output_type": "stream",
     "text": [
      "Number active to passive conversions: 0 while recording Python\n"
     ]
    },
    {
     "data": {
      "text/plain": [
       "'Number active to passive conversions: 0 while recording Python\\n'"
      ]
     },
     "execution_count": 17,
     "metadata": {},
     "output_type": "execute_result"
    }
   ],
   "source": [
    "# Check if recording is safe to use for arbitrary inputs\n",
    "# This will print the list of active to passive extract locations\n",
    "# To use the recording for arbitrary inputs, the active to passive extract locations should be 0\n",
    "funcs.print_passive_extract_locations()"
   ]
  },
  {
   "cell_type": "code",
   "execution_count": 18,
   "id": "70ce2c4e-fcd0-44d5-908f-88ca77703fff",
   "metadata": {},
   "outputs": [
    {
     "name": "stdout",
     "output_type": "stream",
     "text": [
      "idouble(7.81e-02)\n"
     ]
    }
   ],
   "source": [
    "# swap_NPV is still an aadc.idouble() object after recording\n",
    "print(swap_NPV)"
   ]
  },
  {
   "cell_type": "code",
   "execution_count": 19,
   "id": "f251c92d-cb25-4dfb-a2e4-5a4d3134da12",
   "metadata": {},
   "outputs": [
    {
     "name": "stdout",
     "output_type": "stream",
     "text": [
      "0.07811358154792103\n"
     ]
    }
   ],
   "source": [
    "# But it can be safely converted to a native double\n",
    "print(swap_NPV+0.0)"
   ]
  },
  {
   "cell_type": "code",
   "execution_count": 20,
   "id": "fd737251-791f-42de-bb6a-3432ccc424f7",
   "metadata": {},
   "outputs": [],
   "source": [
    "# Create new input zero rates and discount spread\n",
    "# Set vol to 0 to avoid random perturbations and compare bump sensitivities with AADC sensitivities\n",
    "vol=0.01\n",
    "num_scenarios=10000"
   ]
  },
  {
   "cell_type": "code",
   "execution_count": 21,
   "id": "0623edb2-fcaa-4c5a-8b04-8dbc85317427",
   "metadata": {},
   "outputs": [
    {
     "data": {
      "text/plain": [
       "array([-0.00099438, -0.00100391, -0.00100806, ..., -0.00100053,\n",
       "       -0.00100255, -0.00101242])"
      ]
     },
     "execution_count": 21,
     "metadata": {},
     "output_type": "execute_result"
    }
   ],
   "source": [
    "# Basic perturbations to the zero rates and discount spread\n",
    "inputs = {}\n",
    "for rArg, r in zip(forecast_ratesArgs, forecast_rates):\n",
    "    inputs[rArg] = float(r) * np.random.normal(1, vol, num_scenarios) \n",
    "inputs[discount_spreadArg] = discount_spread * np.random.normal(1, vol, num_scenarios)\n",
    "inputs[discount_spreadArg]"
   ]
  },
  {
   "cell_type": "code",
   "execution_count": 22,
   "id": "0b051e6e-88d5-4fae-9434-5d40870d8947",
   "metadata": {},
   "outputs": [],
   "source": [
    "# Request to AADC evaluation.\n",
    "# We want swapNPV output and the sensitivities of swapNPV to the zero rates and discount spread\n",
    "request = {swapNPVRes:forecast_ratesArgs + [ discount_spreadArg ]}"
   ]
  },
  {
   "cell_type": "code",
   "execution_count": 23,
   "id": "d79e4c90-dfd6-4e5f-9478-84a1b40c15f7",
   "metadata": {},
   "outputs": [],
   "source": [
    "# Run AADC Kernel for array inputs using 4 CPU threads and avx2\n",
    "Res = aadc.evaluate(funcs, request, inputs, aadc.ThreadPool(4))"
   ]
  },
  {
   "cell_type": "code",
   "execution_count": 24,
   "id": "5b472f26-9aaa-494a-ac52-253f27cade19",
   "metadata": {},
   "outputs": [
    {
     "name": "stdout",
     "output_type": "stream",
     "text": [
      "Result [0.07852986 0.07957041 0.07789995 ... 0.07904822 0.07893999 0.07863886]\n"
     ]
    }
   ],
   "source": [
    "# AADC returns vector of results for each scenario\n",
    "print(\"Result\", Res[0][swapNPVRes])"
   ]
  },
  {
   "cell_type": "code",
   "execution_count": 25,
   "id": "f588845b-5f3c-4365-956e-23d2a3532162",
   "metadata": {},
   "outputs": [
    {
     "name": "stdout",
     "output_type": "stream",
     "text": [
      "Forecast rates risk : \n",
      "dNPV/dR -0.29023890963702526\n",
      "dNPV/dR -0.28538405338105166\n",
      "dNPV/dR 0.0\n",
      "dNPV/dR 0.0\n",
      "dNPV/dR -0.010100191516789956\n",
      "dNPV/dR -0.00011222435018655461\n",
      "dNPV/dR -0.027148903356685326\n",
      "dNPV/dR -0.07099775795862955\n",
      "dNPV/dR 5.321477111536543\n",
      "dNPV/dR 0.005865749901972719\n",
      "dNPV/dR 0.0\n",
      "dNPV/dR 0.0\n"
     ]
    }
   ],
   "source": [
    "# Bucketed sensitivities of swapNPV to the zero rates\n",
    "print(\"Forecast rates risk : \")\n",
    "for rArg in forecast_ratesArgs:\n",
    "    print(\"dNPV/dR\", np.average(Res[1][swapNPVRes][rArg]))"
   ]
  },
  {
   "cell_type": "code",
   "execution_count": 26,
   "id": "4b64335e-13f9-4ac6-ba80-00d87a855075",
   "metadata": {},
   "outputs": [
    {
     "name": "stdout",
     "output_type": "stream",
     "text": [
      "Discount spread risk : \n",
      "dNPV/dR [-0.5741825  -0.58599549 -0.56807253 ... -0.57985008 -0.5781844\n",
      " -0.57472045]\n"
     ]
    }
   ],
   "source": [
    "# Sensitivity of swapNPV to the discount spread\n",
    "print(\"Discount spread risk : \")\n",
    "print(\"dNPV/dR\", (Res[1][swapNPVRes][discount_spreadArg]))"
   ]
  },
  {
   "cell_type": "code",
   "execution_count": 27,
   "id": "c3dd8519-bcad-4a51-9d07-d2d7e04ac77f",
   "metadata": {},
   "outputs": [
    {
     "name": "stdout",
     "output_type": "stream",
     "text": [
      "Check with bumping\n",
      "Forecast rates risk : \n",
      "0 -0.2902170888068739 -0.29023890963702526 2.1820830151342285e-05\n",
      "1 -0.2853622292037922 -0.28538405338105166 2.1824177259488486e-05\n",
      "2 0.0 0.0 0.0\n",
      "3 0.0 0.0 0.0\n",
      "4 -0.010100234759530258 -0.010100191516789956 -4.324274030173547e-08\n",
      "5 -0.0001122248309559648 -0.00011222435018655461 -4.807694101903676e-10\n",
      "6 -0.027155112216209476 -0.027148903356685326 -6.208859524150373e-06\n",
      "7 -0.07098174587036321 -0.07099775795862955 1.601208826633449e-05\n",
      "8 5.3214702037439325 5.321477111536543 -6.907792610810759e-06\n",
      "9 0.005865739311633478 0.005865749901972719 -1.0590339240973412e-08\n",
      "10 0.0 0.0 0.0\n",
      "11 0.0 0.0 0.0\n"
     ]
    }
   ],
   "source": [
    "# Compare AADC sensitivities with sensitivities computed by bumping the zero rates\n",
    "# For perfect match make sure to set vol=0\n",
    "print(\"Check with bumping\")\n",
    "MyCurveOutputDebug = False\n",
    "swap_NPV = PriceOIS(dates, forecast_rates, discount_spread)\n",
    "print(\"Forecast rates risk : \")\n",
    "for i in range(len(forecast_rates)):\n",
    "    forecast_rates[i] += 0.0001\n",
    "    swap_NPV_up = PriceOIS(dates, forecast_rates, discount_spread)\n",
    "    forecast_rates[i] -= 0.0002\n",
    "    swap_NPV_down = PriceOIS(dates, forecast_rates, discount_spread)\n",
    "    forecast_rates[i] += 0.0001\n",
    "    AAD_risk = np.average(Res[1][swapNPVRes][forecast_ratesArgs[i]])\n",
    "    FD_risk =(swap_NPV_up - swap_NPV_down) / 0.0002 \n",
    "    print(i, FD_risk, AAD_risk, FD_risk - AAD_risk)"
   ]
  },
  {
   "cell_type": "code",
   "execution_count": 28,
   "id": "4b8d7822-010a-459f-8327-125fe67a03d5",
   "metadata": {},
   "outputs": [
    {
     "name": "stdout",
     "output_type": "stream",
     "text": [
      "Discount spread risk : \n",
      "-0.5700052712519221 -0.5700488687982553 4.3597546333207227e-05\n"
     ]
    }
   ],
   "source": [
    "# Sensitivity of swapNPV to the discount spread\n",
    "# For perfect match make sure to set vol=0\n",
    "print(\"Discount spread risk : \")\n",
    "discount_spread += 0.0001\n",
    "swap_NPV_up = PriceOIS(dates, forecast_rates, discount_spread)\n",
    "discount_spread -= 0.0002\n",
    "swap_NPV_down = PriceOIS(dates, forecast_rates, discount_spread)\n",
    "discount_spread += 0.0001\n",
    "AAD_risk = np.average(Res[1][swapNPVRes][discount_spreadArg])\n",
    "FD_risk =(swap_NPV_up - swap_NPV_down) / 0.0002\n",
    "print(FD_risk, AAD_risk, FD_risk - AAD_risk)"
   ]
  },
  {
   "cell_type": "code",
   "execution_count": 29,
   "id": "f1143b0b-5339-4405-b608-614f5632fc59",
   "metadata": {},
   "outputs": [],
   "source": [
    "import pickle\n",
    "MyBookedTrade = {\n",
    "    \"Kernel\" : funcs,\n",
    "    \"Inputs\" : {\n",
    "        \"forecast_rates\" : forecast_ratesArgs,\n",
    "        \"discount_spread\" : discount_spreadArg\n",
    "    },\n",
    "    \"Outputs\" : {\n",
    "        \"swapNPV\" : swapNPVRes\n",
    "    }\n",
    "}\n",
    "with open('05-Kernel.pkl', 'wb') as f:  # open a text file\n",
    "    pickle.dump(MyBookedTrade, f)"
   ]
  }
 ],
 "metadata": {
  "kernelspec": {
   "display_name": "Python 3 (ipykernel)",
   "language": "python",
   "name": "python3"
  },
  "language_info": {
   "codemirror_mode": {
    "name": "ipython",
    "version": 3
   },
   "file_extension": ".py",
   "mimetype": "text/x-python",
   "name": "python",
   "nbconvert_exporter": "python",
   "pygments_lexer": "ipython3",
   "version": "3.11.2"
  }
 },
 "nbformat": 4,
 "nbformat_minor": 5
}
